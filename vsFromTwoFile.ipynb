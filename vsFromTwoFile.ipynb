{
 "cells": [
  {
   "cell_type": "code",
   "execution_count": 1,
   "metadata": {
    "ExecuteTime": {
     "end_time": "2018-06-09T17:47:00.348594Z",
     "start_time": "2018-06-09T17:46:59.147015Z"
    },
    "collapsed": true
   },
   "outputs": [],
   "source": [
    "from __future__ import print_function\n",
    "import argparse\n",
    "import torch\n",
    "import torch.nn as nn\n",
    "import torch.nn.functional as F\n",
    "import torch.optim as optim\n",
    "from torchvision import datasets, transforms\n",
    "import numpy as np\n",
    "import torch.utils.data as utils\n",
    "import librosa\n",
    "import soundfile as sf\n",
    "import time\n",
    "import os"
   ]
  },
  {
   "cell_type": "code",
   "execution_count": 21,
   "metadata": {
    "ExecuteTime": {
     "end_time": "2018-06-09T17:48:48.002465Z",
     "start_time": "2018-06-09T17:48:47.980421Z"
    }
   },
   "outputs": [
    {
     "data": {
      "text/plain": [
       "2555"
      ]
     },
     "execution_count": 21,
     "metadata": {},
     "output_type": "execute_result"
    }
   ],
   "source": [
    "sampleSize = 50000\n",
    "sample_rate = 16000\n",
    "quantization_channels = 256\n",
    "# dilations=[2**i for i in range(8)]*20\n",
    "# \"residualDim=32\n",
    "dilations = [2 ** i for i in range(9)] * 5\n",
    "residualDim = 32\n",
    "skipDim = 256\n",
    "filterSize = 3\n",
    "initfilter=3\n",
    "pad = np.sum(dilations)\n",
    "shapeoftest = 190500\n",
    "lossrecord = []\n",
    "resumefile='classifyregress'\n",
    "continueTrain=True\n",
    "receptive_field = (sum(dilations) + 1)\n",
    "pad"
   ]
  },
  {
   "cell_type": "code",
   "execution_count": 3,
   "metadata": {
    "ExecuteTime": {
     "end_time": "2018-06-09T17:47:00.381085Z",
     "start_time": "2018-06-09T17:47:00.378004Z"
    },
    "collapsed": true
   },
   "outputs": [],
   "source": [
    "#os.environ[\"CUDA_DEVICE_ORDER\"] = \"PCI_BUS_ID\"\n",
    "#os.environ[\"CUDA_VISIBLE_DEVICES\"] = \"1\""
   ]
  },
  {
   "cell_type": "code",
   "execution_count": 4,
   "metadata": {
    "ExecuteTime": {
     "end_time": "2018-06-09T17:47:00.399302Z",
     "start_time": "2018-06-09T17:47:00.383330Z"
    },
    "collapsed": true
   },
   "outputs": [],
   "source": [
    "use_cuda = torch.cuda.is_available()\n",
    "torch.manual_seed(1)\n",
    "device = torch.device(\"cuda\" if use_cuda else \"cpu\")\n",
    "#device = 'cpu'\n",
    "torch.set_default_tensor_type('torch.cuda.FloatTensor')\n",
    "kwargs = {'num_workers': 1, 'pin_memory': True} if use_cuda else {}"
   ]
  },
  {
   "cell_type": "code",
   "execution_count": 5,
   "metadata": {
    "ExecuteTime": {
     "end_time": "2018-06-09T17:47:00.441391Z",
     "start_time": "2018-06-09T17:47:00.402170Z"
    },
    "collapsed": true
   },
   "outputs": [],
   "source": [
    "def mu_law_encode(audio, quantization_channels=quantization_channels,forX=False):\n",
    "    '''Quantizes waveform amplitudes.'''\n",
    "    mu = (quantization_channels - 1)*1.0\n",
    "    # Perform mu-law companding transformation (ITU-T, 1988).\n",
    "    # Minimum operation is here to deal with rare large amplitudes caused\n",
    "    # by resampling.\n",
    "    safe_audio_abs = np.minimum(np.abs(audio), 1.0)\n",
    "    magnitude = np.log1p(mu * safe_audio_abs) / np.log1p(mu)\n",
    "    signal = np.sign(audio) * magnitude\n",
    "    # Quantize signal to the specified number of levels.\n",
    "    if(forX):return signal\n",
    "    return ((signal + 1) / 2 * mu + 0.5).astype(int)\n",
    "def mu_law_decode(output, quantization_channels=quantization_channels):\n",
    "    '''Recovers waveform from quantized values.'''\n",
    "    mu = quantization_channels - 1\n",
    "    # Map values back to [-1, 1].\n",
    "    signal = 2 * ((output*1.0) / mu) - 1\n",
    "    # Perform inverse of mu-law transformation.\n",
    "    magnitude = (1 / mu) * ((1 + mu)**np.abs(signal) - 1)\n",
    "    return np.sign(signal) * magnitude\n",
    "def cateToSignal(output, quantization_channels=quantization_channels):\n",
    "    mu = quantization_channels - 1\n",
    "    # Map values back to [-1, 1].\n",
    "    signal = 2 * ((output*1.0) / mu) - 1\n",
    "    return signal"
   ]
  },
  {
   "cell_type": "code",
   "execution_count": 6,
   "metadata": {
    "ExecuteTime": {
     "end_time": "2018-06-09T17:47:17.941899Z",
     "start_time": "2018-06-09T17:47:00.443220Z"
    },
    "collapsed": true
   },
   "outputs": [],
   "source": [
    "def readAudio(name):\n",
    "    audio0, samplerate = sf.read(name, dtype='float32')\n",
    "    return librosa.resample(audio0.T, samplerate, sample_rate).reshape(-1)\n",
    "p=['./vsCorpus/origin_mix.wav','./vsCorpus/origin_vocal.wav',\n",
    "   './vsCorpus/origin_mix.wav','./vsCorpus/origin_vocal.wav','./vsCorpus/pred_mix.wav']\n",
    "xtrain,ytrain,xval,yval,xtest=readAudio(p[0]),readAudio(p[1]),readAudio(p[2]),readAudio(p[3]),readAudio(p[4])\n",
    "assert((xtrain==xval).all())\n",
    "assert((ytrain==yval).all())\n",
    "assert((xtrain != ytrain).any())"
   ]
  },
  {
   "cell_type": "code",
   "execution_count": 7,
   "metadata": {
    "ExecuteTime": {
     "end_time": "2018-06-09T17:47:18.544735Z",
     "start_time": "2018-06-09T17:47:17.944339Z"
    },
    "collapsed": true
   },
   "outputs": [],
   "source": [
    "ytrain,yval=mu_law_encode(ytrain),mu_law_encode(yval)\n",
    "xytrain,xyval=mu_law_encode(ytrain,forX=True),mu_law_encode(yval,forX=True)\n",
    "xtrain,xval,xtest=mu_law_encode(xtrain,forX=True),mu_law_encode(xval,forX=True),mu_law_encode(xtest,forX=True)"
   ]
  },
  {
   "cell_type": "code",
   "execution_count": 8,
   "metadata": {
    "ExecuteTime": {
     "end_time": "2018-06-09T17:47:18.569629Z",
     "start_time": "2018-06-09T17:47:18.546843Z"
    },
    "collapsed": true
   },
   "outputs": [],
   "source": [
    "xmean,xstd = xtrain.mean(),xtrain.std()\n",
    "xtrain=(xtrain-xmean)/xstd\n",
    "xval=(xval-xmean)/xstd\n",
    "xtest=(xtest-xmean)/xstd"
   ]
  },
  {
   "cell_type": "code",
   "execution_count": 9,
   "metadata": {
    "ExecuteTime": {
     "end_time": "2018-06-09T17:47:18.815753Z",
     "start_time": "2018-06-09T17:47:18.571527Z"
    },
    "collapsed": true
   },
   "outputs": [],
   "source": [
    "xtrain=np.pad(xtrain, (receptive_field, receptive_field), 'constant')\n",
    "xval=np.pad(xval, (receptive_field, receptive_field), 'constant')\n",
    "xtest=np.pad(xtest, (receptive_field, receptive_field), 'constant')\n",
    "yval=np.pad(yval, (receptive_field, receptive_field), 'constant')\n",
    "ytrain=np.pad(ytrain, (receptive_field, receptive_field), 'constant')\n",
    "xyval=np.pad(xyval, (receptive_field, receptive_field), 'constant')\n",
    "xytrain=np.pad(xytrain, (receptive_field, receptive_field), 'constant')"
   ]
  },
  {
   "cell_type": "code",
   "execution_count": 10,
   "metadata": {
    "ExecuteTime": {
     "end_time": "2018-06-09T17:47:18.824080Z",
     "start_time": "2018-06-09T17:47:18.817618Z"
    },
    "collapsed": true
   },
   "outputs": [],
   "source": [
    "xtrain,xval,xtest=xtrain.reshape(1,1,-1),xval.reshape(1,1,-1),xtest.reshape(1,1,-1)\n",
    "ytrain,yval=ytrain.reshape(1,-1),yval.reshape(1,-1)\n",
    "xytrain,xyval=ytrain.reshape(1,1,-1),yval.reshape(1,1,-1)"
   ]
  },
  {
   "cell_type": "code",
   "execution_count": 11,
   "metadata": {
    "ExecuteTime": {
     "end_time": "2018-06-09T17:47:18.828342Z",
     "start_time": "2018-06-09T17:47:18.825742Z"
    }
   },
   "outputs": [],
   "source": [
    "#xtrain = np.concatenate((xtrain,xytrain.reshape(xtrain.shape)),axis=1)\n",
    "#xval = np.concatenate((xval,xyval.reshape(xval.shape)),axis=1)\n",
    "#xtest = np.concatenate((xtest,np.zeros_like(xtest)),axis=1)"
   ]
  },
  {
   "cell_type": "code",
   "execution_count": 12,
   "metadata": {
    "ExecuteTime": {
     "end_time": "2018-06-09T17:47:18.846767Z",
     "start_time": "2018-06-09T17:47:18.830370Z"
    },
    "collapsed": true
   },
   "outputs": [],
   "source": [
    "xtrain,ytrain,xval,yval,xtest = torch.from_numpy(xtrain).type(torch.float32),\\\n",
    "                                torch.from_numpy(ytrain).type(torch.LongTensor),\\\n",
    "                                torch.from_numpy(xval).type(torch.float32),\\\n",
    "                                torch.from_numpy(yval).type(torch.LongTensor),\\\n",
    "                                torch.from_numpy(xtest).type(torch.float32)\n",
    "xytrain,xyval=torch.from_numpy(xytrain).type(torch.float32),torch.from_numpy(xyval).type(torch.float32),"
   ]
  },
  {
   "cell_type": "code",
   "execution_count": 22,
   "metadata": {
    "ExecuteTime": {
     "end_time": "2018-06-09T17:49:21.256240Z",
     "start_time": "2018-06-09T17:49:20.874595Z"
    },
    "collapsed": true
   },
   "outputs": [],
   "source": [
    "class Net(nn.Module):\n",
    "    def __init__(self):\n",
    "        super(Net, self).__init__()\n",
    "        sd,qd,rd = skipDim,quantization_channels,residualDim\n",
    "        self.xcausal = nn.Conv1d(in_channels=1,out_channels=rd,kernel_size=initfilter,padding=1)\n",
    "        self.ycausal = nn.Conv1d(in_channels=1,out_channels=rd,kernel_size=initfilter,padding=1)\n",
    "        self.ly=dict()\n",
    "        self.lx=dict()\n",
    "        for i, d in enumerate(dilations):\n",
    "            self.lx['tanh'+str(i)] = nn.Conv1d(in_channels=rd,out_channels=rd,kernel_size=3,dilation=d)\n",
    "            self.lx['sigmoid'+str(i)] = nn.Conv1d(in_channels=rd,out_channels=rd,kernel_size=3,dilation=d)\n",
    "            self.lx['skip'+str(i)] = nn.Conv1d(in_channels=rd,out_channels=sd,kernel_size=1)\n",
    "            self.lx['dense'+str(i)] = nn.Conv1d(in_channels=rd,out_channels=rd,kernel_size=1)\n",
    "            \n",
    "            self.ly['tanh'+str(i)] = nn.Conv1d(in_channels=rd,out_channels=rd,kernel_size=2,dilation=d)\n",
    "            self.ly['sigmoid'+str(i)] = nn.Conv1d(in_channels=rd,out_channels=rd,kernel_size=2,dilation=d)\n",
    "            self.ly['skip'+str(i)] = nn.Conv1d(in_channels=rd,out_channels=sd,kernel_size=1)\n",
    "            self.ly['dense'+str(i)] = nn.Conv1d(in_channels=rd,out_channels=rd,kernel_size=1)\n",
    "        self.post1 = nn.Conv1d(in_channels=sd*2,out_channels=sd*2,kernel_size=1,padding=0)\n",
    "        self.post2 = nn.Conv1d(in_channels=sd*2,out_channels=qd,kernel_size=1,padding=0)\n",
    "        self.tanh,self.sigmoid = nn.Tanh(),nn.Sigmoid()\n",
    "\n",
    "    def forward(self, x, y):\n",
    "        finallen = x.shape[-1]-2*receptive_field\n",
    "        x = self.xcausal(x)\n",
    "        y = self.ycausal(y)\n",
    "        skipx = torch.zeros([1,skipDim,finallen],dtype=torch.float32,device=device)\n",
    "        skipy = torch.zeros([1,skipDim,finallen],dtype=torch.float32,device=device)\n",
    "        accumulate=1\n",
    "        for i, dilation in enumerate(dilations):\n",
    "            accumulate+=dilation\n",
    "            yinput = y.clone()[:,:,:-dilation]\n",
    "            y1 = self.tanh(self.ly['tanh'+str(i)](y))\n",
    "            y2 = self.sigmoid(self.ly['sigmoid'+str(i)](y))\n",
    "            y=y1*y2\n",
    "            skipy += (self.ly['skip'+str(i)](y)).\\\n",
    "                narrow(2,int(receptive_field-accumulate),int(finallen))\n",
    "            \n",
    "            xinput = x.clone()[:,:,dilation:-dilation]\n",
    "            x1 = self.tanh(self.lx['tanh'+str(i)](x))\n",
    "            x2 = self.sigmoid(self.lx['sigmoid'+str(i)](x))\n",
    "            x = x1*x2\n",
    "            cutlen = (x.shape[-1] - finallen)//2\n",
    "            skipx += (self.lx['skip'+str(i)](x)).narrow(2,int(cutlen),int(finallen))\n",
    "            x = self.lx['dense'+str(i)](x)\n",
    "            x += xinput\n",
    "        x = self.post2(F.relu(self.post1(F.relu(torch.cat((skipx,skipy), dim=1)))))\n",
    "        return x\n",
    "\n",
    "model = Net()\n",
    "criterion = nn.CrossEntropyLoss()\n",
    "#optimizer = optim.SGD(model.parameters(), lr=args.lr, momentum=args.momentum)\n",
    "#optimizer = optim.Adam(model.parameters(), lr=1e-2, weight_decay=1e-5)*\n",
    "optimizer = optim.SGD(model.parameters(), lr = 0.1, momentum=0.9, weight_decay=1e-5)\n",
    "#scheduler = StepLR(optimizer, step_size=30, gamma=0.1)\n",
    "scheduler = MultiStepLR(optimizer, milestones=[30,80], gamma=0.1)"
   ]
  },
  {
   "cell_type": "code",
   "execution_count": 23,
   "metadata": {
    "ExecuteTime": {
     "end_time": "2018-06-09T17:49:21.268005Z",
     "start_time": "2018-06-09T17:49:21.258202Z"
    }
   },
   "outputs": [
    {
     "name": "stdout",
     "output_type": "stream",
     "text": [
      "=> no checkpoint found at 'classifyregress'\n"
     ]
    }
   ],
   "source": [
    "if continueTrain:\n",
    "    if os.path.isfile(resumefile):\n",
    "        print(\"=> loading checkpoint '{}'\".format(resumefile))\n",
    "        checkpoint = torch.load(resumefile)\n",
    "        start_epoch = checkpoint['epoch']\n",
    "        #best_prec1 = checkpoint['best_prec1']\n",
    "        model.load_state_dict(checkpoint['state_dict'])\n",
    "        #optimizer.load_state_dict(checkpoint['optimizer'])\n",
    "        print(\"=> loaded checkpoint '{}' (epoch {})\"\n",
    "              .format(resumefile, checkpoint['epoch']))\n",
    "    else:\n",
    "        print(\"=> no checkpoint found at '{}'\".format(resumefile))"
   ]
  },
  {
   "cell_type": "code",
   "execution_count": 24,
   "metadata": {
    "ExecuteTime": {
     "end_time": "2018-06-09T17:49:21.449140Z",
     "start_time": "2018-06-09T17:49:21.296243Z"
    },
    "collapsed": true,
    "scrolled": true
   },
   "outputs": [],
   "source": [
    "def val():\n",
    "    model.eval()\n",
    "    startval_time = time.time()\n",
    "    with torch.no_grad():\n",
    "        # data, target = xval.to(device), yval.to(device)\n",
    "        data, target = xtrain[:, :, 0:2 * receptive_field + shapeoftest].to(device),\\\n",
    "            ytrain[:, receptive_field:shapeoftest + receptive_field].to(device)\n",
    "        output = model(data)\n",
    "        # print(output.shape)\n",
    "        # print(output[:,:,:10])\n",
    "        pred = output.max(1, keepdim=True)[1]\n",
    "        correct = pred.eq(target.view_as(pred)).sum().item() / pred.shape[-1]\n",
    "        val_loss = criterion(output, target).item()\n",
    "    print(correct, 'accurate')\n",
    "    print('\\nval set:loss{:.4f}:, ({:.3f} sec/step)\\n'.format(val_loss, time.time() - startval_time))\n",
    "\n",
    "\n",
    "def test():\n",
    "    model.eval()\n",
    "    startval_time = time.time()\n",
    "    with torch.no_grad():\n",
    "        output = model(xtest.to(device))\n",
    "        pred = output.max(1, keepdim=True)[1].cpu().numpy().reshape(-1)\n",
    "        ans = mu_law_decode(pred)\n",
    "        sf.write('./vsCorpus/resultxte.wav', ans, sample_rate)\n",
    "\n",
    "        # output = model(xtrain[:,:,:sampleSize].to(device))\n",
    "        output = model(xtrain[:, :, 0:2 * receptive_field + shapeoftest].to(device))\n",
    "        pred = output.max(1, keepdim=True)[1].cpu().numpy().reshape(-1)\n",
    "        ans = mu_law_decode(pred)\n",
    "        sf.write('./vsCorpus/resultxtr.wav', ans, sample_rate)\n",
    "        print('stored done\\n')\n",
    "\n",
    "\n",
    "def train(epoch):\n",
    "    model.train()\n",
    "    # idx = np.arange(xtrain.shape[-1] - 2 * sampleSize,1000)\n",
    "    # 176000\n",
    "    idx = np.arange(receptive_field, xtrain.shape[-1] - receptive_field - sampleSize - 1, 16000)\n",
    "    np.random.shuffle(idx)\n",
    "    for i, ind in enumerate(idx):\n",
    "        start_time = time.time()\n",
    "        datax = xtrain[:,:,ind - receptive_field:ind + sampleSize + receptive_field].to(device)\n",
    "        datay = xytrain[:,:,ind - receptive_field:ind + sampleSize + receptive_field].to(device)\n",
    "        target = ytrain[:,ind:ind + sampleSize].to(device)\n",
    "            \n",
    "        output = model(datax,datay)\n",
    "        # print(output.shape)\n",
    "        loss = criterion(output, target)\n",
    "        lossrecord.append(loss.item())\n",
    "        optimizer.zero_grad()\n",
    "        loss.backward()\n",
    "        optimizer.step()\n",
    "        print('Train Epoch: {} [{}/{} ({:.0f}%)] Loss:{:.6f}: , ({:.3f} sec/step)'.format(\n",
    "            epoch, i, len(idx), 100. * i / len(idx), loss.item(), time.time() - start_time))\n",
    "        if i % 100 == 0:\n",
    "            #val()\n",
    "            #test()\n",
    "            state={'epoch': epoch + 1,\n",
    "                'state_dict': model.state_dict(),\n",
    "                'optimizer': optimizer.state_dict()}\n",
    "            torch.save(state, resumefile)\n",
    "\n"
   ]
  },
  {
   "cell_type": "code",
   "execution_count": null,
   "metadata": {
    "ExecuteTime": {
     "start_time": "2018-06-09T17:49:21.514Z"
    },
    "scrolled": true
   },
   "outputs": [
    {
     "name": "stdout",
     "output_type": "stream",
     "text": [
      "Train Epoch: 0 [0/233 (0%)] Loss:5.565161: , (27.079 sec/step)\n",
      "Train Epoch: 0 [1/233 (0%)] Loss:5.563606: , (22.424 sec/step)\n",
      "Train Epoch: 0 [2/233 (1%)] Loss:5.563452: , (22.783 sec/step)\n",
      "Train Epoch: 0 [3/233 (1%)] Loss:5.560157: , (20.824 sec/step)\n",
      "Train Epoch: 0 [4/233 (2%)] Loss:5.559118: , (20.378 sec/step)\n",
      "Train Epoch: 0 [5/233 (2%)] Loss:5.551505: , (21.687 sec/step)\n",
      "Train Epoch: 0 [6/233 (3%)] Loss:5.552082: , (20.128 sec/step)\n",
      "Train Epoch: 0 [7/233 (3%)] Loss:5.551630: , (20.260 sec/step)\n",
      "Train Epoch: 0 [8/233 (3%)] Loss:5.545269: , (19.398 sec/step)\n",
      "Train Epoch: 0 [9/233 (4%)] Loss:5.543130: , (20.103 sec/step)\n",
      "Train Epoch: 0 [10/233 (4%)] Loss:5.540885: , (20.720 sec/step)\n",
      "Train Epoch: 0 [11/233 (5%)] Loss:5.532523: , (19.686 sec/step)\n",
      "Train Epoch: 0 [12/233 (5%)] Loss:5.533937: , (19.771 sec/step)\n",
      "Train Epoch: 0 [13/233 (6%)] Loss:5.535625: , (19.169 sec/step)\n",
      "Train Epoch: 0 [14/233 (6%)] Loss:5.523752: , (18.412 sec/step)\n",
      "Train Epoch: 0 [15/233 (6%)] Loss:5.523198: , (19.526 sec/step)\n",
      "Train Epoch: 0 [16/233 (7%)] Loss:5.507411: , (18.494 sec/step)\n",
      "Train Epoch: 0 [17/233 (7%)] Loss:5.514391: , (19.240 sec/step)\n",
      "Train Epoch: 0 [18/233 (8%)] Loss:5.502140: , (19.131 sec/step)\n",
      "Train Epoch: 0 [19/233 (8%)] Loss:5.504580: , (19.184 sec/step)\n",
      "Train Epoch: 0 [20/233 (9%)] Loss:5.500340: , (19.502 sec/step)\n",
      "Train Epoch: 0 [21/233 (9%)] Loss:5.496245: , (19.701 sec/step)\n",
      "Train Epoch: 0 [22/233 (9%)] Loss:5.485382: , (19.825 sec/step)\n",
      "Train Epoch: 0 [23/233 (10%)] Loss:5.499268: , (18.782 sec/step)\n",
      "Train Epoch: 0 [24/233 (10%)] Loss:5.487255: , (19.020 sec/step)\n",
      "Train Epoch: 0 [25/233 (11%)] Loss:5.498075: , (19.100 sec/step)\n",
      "Train Epoch: 0 [26/233 (11%)] Loss:5.466660: , (18.707 sec/step)\n",
      "Train Epoch: 0 [27/233 (12%)] Loss:5.482116: , (19.534 sec/step)\n",
      "Train Epoch: 0 [28/233 (12%)] Loss:5.487219: , (19.713 sec/step)\n",
      "Train Epoch: 0 [29/233 (12%)] Loss:5.463699: , (19.219 sec/step)\n",
      "Train Epoch: 0 [30/233 (13%)] Loss:5.478861: , (18.478 sec/step)\n",
      "Train Epoch: 0 [31/233 (13%)] Loss:5.466542: , (18.739 sec/step)\n",
      "Train Epoch: 0 [32/233 (14%)] Loss:5.483704: , (19.553 sec/step)\n",
      "Train Epoch: 0 [33/233 (14%)] Loss:5.488233: , (19.288 sec/step)\n"
     ]
    }
   ],
   "source": [
    "for epoch in range(100000):\n",
    "    train(epoch)\n",
    "    #test()\n",
    "    scheduler.step()"
   ]
  },
  {
   "cell_type": "code",
   "execution_count": null,
   "metadata": {
    "ExecuteTime": {
     "end_time": "2018-06-09T17:48:23.775912Z",
     "start_time": "2018-06-09T17:48:07.594Z"
    }
   },
   "outputs": [],
   "source": [
    "#torch.save(model, 'loss3.2step24h_repeat5*2**10resu96sample50000')"
   ]
  }
 ],
 "metadata": {
  "gist": {
   "data": {
    "description": "MLalgorithm/mnistPyTorch.ipynb",
    "public": false
   },
   "id": ""
  },
  "kernelspec": {
   "display_name": "Python 3",
   "language": "python",
   "name": "python3"
  },
  "language_info": {
   "codemirror_mode": {
    "name": "ipython",
    "version": 3
   },
   "file_extension": ".py",
   "mimetype": "text/x-python",
   "name": "python",
   "nbconvert_exporter": "python",
   "pygments_lexer": "ipython3",
   "version": "3.6.3"
  }
 },
 "nbformat": 4,
 "nbformat_minor": 2
}
