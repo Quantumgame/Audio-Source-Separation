{
 "cells": [
  {
   "cell_type": "code",
   "execution_count": 20,
   "metadata": {
    "ExecuteTime": {
     "end_time": "2018-06-03T17:38:09.874859Z",
     "start_time": "2018-06-03T17:38:09.869225Z"
    },
    "collapsed": true
   },
   "outputs": [],
   "source": [
    "import os\n",
    "import numpy as np\n",
    "import librosa\n",
    "import hyperparams as hp\n",
    "import soundfile as sf"
   ]
  },
  {
   "cell_type": "code",
   "execution_count": 21,
   "metadata": {
    "ExecuteTime": {
     "end_time": "2018-06-03T17:38:10.368617Z",
     "start_time": "2018-06-03T17:38:10.349531Z"
    }
   },
   "outputs": [
    {
     "name": "stdout",
     "output_type": "stream",
     "text": [
      "(3, 3)\n",
      "(3, 3, 1)\n"
     ]
    },
    {
     "data": {
      "text/plain": [
       "(6, 3, 1)"
      ]
     },
     "execution_count": 21,
     "metadata": {},
     "output_type": "execute_result"
    }
   ],
   "source": [
    "arrays=[]\n",
    "data = np.arange(10)\n",
    "timestep = 3\n",
    "lens = 3\n",
    "print((np.reshape(data[:timestep * lens],[-1, 3]).shape))\n",
    "print((np.expand_dims(np.reshape(data[:timestep * lens],[-1, 3]),-1)).shape)\n",
    "arrays.append(np.expand_dims(np.reshape(data[:timestep * lens],[-1, 3]),-1))\n",
    "arrays.append(np.expand_dims(np.reshape(data[:timestep * lens],[-1, 3]),-1))\n",
    "np.vstack(arrays).shape"
   ]
  },
  {
   "cell_type": "code",
   "execution_count": 22,
   "metadata": {
    "ExecuteTime": {
     "end_time": "2018-06-03T17:38:20.868633Z",
     "start_time": "2018-06-03T17:38:10.719792Z"
    }
   },
   "outputs": [
    {
     "name": "stdout",
     "output_type": "stream",
     "text": [
      "(3771161,)\n",
      "(620, 6080, 1)\n"
     ]
    }
   ],
   "source": [
    "def get_rawwave(_input):\n",
    "    audio0, samplerate = sf.read(_input, dtype='float32')\n",
    "    audio0 = librosa.resample(audio0.T, samplerate, hp.sample_rate)\n",
    "    audio0 = audio0.reshape(-1)\n",
    "    return audio0\n",
    "\n",
    "def make_rawdata(is_training=True, name=\"data\"):\n",
    "\n",
    "    i = '../vsCorpus/origin_mix.wav'\n",
    "    j = '../vsCorpus/origin_vocal.wav'\n",
    "    arrays = []\n",
    "    arrays_2 = []\n",
    "    data = get_rawwave(i)\n",
    "    print(data.shape)\n",
    "    lens = len(data) // hp.timestep\n",
    "    arrays.append(np.expand_dims(np.reshape(data[:hp.timestep * lens], \n",
    "                                                [-1, hp.timestep]), -1))\n",
    "\n",
    "    data_2 = get_rawwave(j)\n",
    "    arrays_2.append(np.expand_dims(np.reshape(data_2[:hp.timestep * lens], \n",
    "                                                      [-1, hp.timestep]), -1))\n",
    "    print (np.vstack(arrays).shape)\n",
    "    np.save(\"mixtures.npy\", np.vstack(arrays))\n",
    "\n",
    "    np.save(\"vocals.npy\", np.vstack(arrays_2))\n",
    "\n",
    "def dataset_shuffling(x, y):\n",
    "    shuffled_idx = np.arange(len(y))\n",
    "    np.random.shuffle(shuffled_idx)\n",
    "    return x[shuffled_idx, :], y[shuffled_idx, :]\n",
    "\n",
    "def get_batch(x, y, curr_index, batch_size):\n",
    "    batch_x = x[curr_index * batch_size: (curr_index+1)*batch_size]\n",
    "    batch_y = y[curr_index * batch_size: (curr_index+1)*batch_size]\n",
    "    return batch_x, batch_y\n",
    "\n",
    "if __name__ == '__main__':\n",
    "    make_rawdata(is_training=hp.is_training)\n"
   ]
  },
  {
   "cell_type": "code",
   "execution_count": null,
   "metadata": {
    "collapsed": true
   },
   "outputs": [],
   "source": []
  }
 ],
 "metadata": {
  "kernelspec": {
   "display_name": "Python 3",
   "language": "python",
   "name": "python3"
  },
  "language_info": {
   "codemirror_mode": {
    "name": "ipython",
    "version": 3
   },
   "file_extension": ".py",
   "mimetype": "text/x-python",
   "name": "python",
   "nbconvert_exporter": "python",
   "pygments_lexer": "ipython3",
   "version": "3.6.3"
  }
 },
 "nbformat": 4,
 "nbformat_minor": 2
}
