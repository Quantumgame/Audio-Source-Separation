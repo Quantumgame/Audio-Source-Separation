{
 "cells": [
  {
   "cell_type": "code",
   "execution_count": 96,
   "metadata": {
    "ExecuteTime": {
     "end_time": "2018-06-05T04:46:36.936274Z",
     "start_time": "2018-06-05T04:46:36.931757Z"
    },
    "collapsed": true
   },
   "outputs": [],
   "source": [
    "import librosa\n",
    "import numpy as np\n",
    "import soundfile as sf"
   ]
  },
  {
   "cell_type": "code",
   "execution_count": 100,
   "metadata": {
    "ExecuteTime": {
     "end_time": "2018-06-05T05:03:55.546608Z",
     "start_time": "2018-06-05T05:03:55.541615Z"
    }
   },
   "outputs": [
    {
     "data": {
      "text/plain": [
       "'./vsCorpus/1'"
      ]
     },
     "execution_count": 100,
     "metadata": {},
     "output_type": "execute_result"
    }
   ],
   "source": [
    "step=1\n",
    "'./vsCorpus/'+''+str(step)"
   ]
  },
  {
   "cell_type": "code",
   "execution_count": 109,
   "metadata": {
    "ExecuteTime": {
     "end_time": "2018-06-05T16:21:34.114609Z",
     "start_time": "2018-06-05T16:21:34.103885Z"
    }
   },
   "outputs": [
    {
     "data": {
      "text/plain": [
       "(97536,)"
      ]
     },
     "execution_count": 109,
     "metadata": {},
     "output_type": "execute_result"
    }
   ],
   "source": [
    "audio0, samplerate = sf.read('./vsCorpus/pred_mix.wav', dtype='float32')\n",
    "#audio0 = librosa.resample(audio0.T, samplerate, 16000)\n",
    "#audio0 = audio0.reshape(-1, 1)\n",
    "audio0.shape"
   ]
  },
  {
   "cell_type": "code",
   "execution_count": 103,
   "metadata": {
    "ExecuteTime": {
     "end_time": "2018-06-05T06:31:01.237637Z",
     "start_time": "2018-06-05T06:31:01.229312Z"
    },
    "collapsed": true
   },
   "outputs": [],
   "source": [
    "a = 16000\n",
    "sf.write('./vsCorpus/1.wav',audio0,a)"
   ]
  },
  {
   "cell_type": "code",
   "execution_count": 1,
   "metadata": {
    "ExecuteTime": {
     "end_time": "2018-06-04T14:27:05.000763Z",
     "start_time": "2018-06-04T14:27:04.896629Z"
    },
    "collapsed": true
   },
   "outputs": [],
   "source": [
    "import numpy as np"
   ]
  },
  {
   "cell_type": "code",
   "execution_count": 107,
   "metadata": {
    "ExecuteTime": {
     "end_time": "2018-06-05T07:44:49.064343Z",
     "start_time": "2018-06-05T07:44:49.057673Z"
    }
   },
   "outputs": [
    {
     "data": {
      "text/plain": [
       "array([0, 0, 0, 1, 2, 3, 4, 5, 6, 7, 8, 9, 0, 0])"
      ]
     },
     "execution_count": 107,
     "metadata": {},
     "output_type": "execute_result"
    }
   ],
   "source": [
    "a = np.arange(10)\n",
    "np.pad(a,[2,2],mode='constant')"
   ]
  },
  {
   "cell_type": "code",
   "execution_count": 108,
   "metadata": {
    "ExecuteTime": {
     "end_time": "2018-06-05T07:44:49.615040Z",
     "start_time": "2018-06-05T07:44:49.609263Z"
    }
   },
   "outputs": [
    {
     "data": {
      "text/plain": [
       "array([6, 7, 8, 9, 0, 1, 2, 3, 4, 5])"
      ]
     },
     "execution_count": 108,
     "metadata": {},
     "output_type": "execute_result"
    }
   ],
   "source": [
    "np.roll(a, 4)"
   ]
  },
  {
   "cell_type": "code",
   "execution_count": 78,
   "metadata": {
    "ExecuteTime": {
     "end_time": "2018-06-04T14:30:54.357143Z",
     "start_time": "2018-06-04T14:30:54.350756Z"
    }
   },
   "outputs": [
    {
     "data": {
      "text/plain": [
       "1"
      ]
     },
     "execution_count": 78,
     "metadata": {},
     "output_type": "execute_result"
    }
   ],
   "source": [
    "np.random.randint(0,4)"
   ]
  },
  {
   "cell_type": "code",
   "execution_count": 95,
   "metadata": {
    "ExecuteTime": {
     "end_time": "2018-06-04T14:47:19.161055Z",
     "start_time": "2018-06-04T14:47:19.152179Z"
    }
   },
   "outputs": [
    {
     "data": {
      "text/plain": [
       "array([  7.12452952e-06,  -3.72932229e-06,  -5.76996698e-06,\n",
       "        -2.56756980e-05,  -2.00329659e-05,  -2.01120005e-06,\n",
       "        -7.74620794e-06,  -1.39272758e-05,  -2.38788954e-06,\n",
       "        -8.90645896e-06,  -9.86971720e-07,   1.77613341e-06,\n",
       "        -1.52536456e-05,   2.92064204e-06,   1.26218007e-05,\n",
       "        -2.65869606e-06,   2.55479959e-05,   2.04345762e-06,\n",
       "         1.56484697e-05,  -1.10356561e-05,  -1.93829074e-05,\n",
       "         1.64907531e-05,   1.45029469e-05,   5.38349860e-06,\n",
       "         8.13763287e-06,  -4.84601258e-06,  -8.63483935e-06,\n",
       "         4.96669838e-06,  -2.88646702e-06,  -1.98232893e-05,\n",
       "        -9.68153205e-06,   1.80012437e-05,  -1.07143197e-05,\n",
       "         2.22307468e-06,   1.84173448e-05,   8.36766453e-07,\n",
       "        -4.05871100e-06,  -1.16907051e-05,  -1.07261167e-05,\n",
       "        -6.89975019e-06,   6.13963657e-06,   4.64804354e-06,\n",
       "        -1.94973588e-05,  -3.51478955e-06,   8.94159622e-06,\n",
       "         6.85158332e-07,  -4.52118153e-06,  -1.29460293e-05,\n",
       "         2.46298838e-05,   3.27350653e-06,  -4.59072026e-06,\n",
       "         6.46900649e-06,  -8.75112471e-07,   2.23216549e-06,\n",
       "         9.23875331e-06,   1.13403215e-05,  -3.04723298e-07,\n",
       "        -1.44980314e-06,   4.79356285e-06,   3.34663397e-06,\n",
       "        -9.01743920e-06,  -9.95320431e-06,   1.02572798e-05,\n",
       "         1.12749939e-05,   2.71450713e-06,  -1.52552106e-06,\n",
       "         2.18676701e-06,   3.26604564e-06,  -8.06090072e-06,\n",
       "         3.39445458e-06,  -9.68224941e-06,  -2.39957087e-06,\n",
       "        -1.35061590e-05,  -1.07383298e-05,   1.41647543e-05,\n",
       "        -5.43999408e-06,  -1.59937269e-05,   7.45942762e-06,\n",
       "         6.34684851e-06,  -9.08040243e-06,   6.26631747e-06,\n",
       "        -7.19690364e-06,  -8.14002277e-06,   5.48493220e-06,\n",
       "         1.87672927e-05,  -1.30543409e-05,   7.19615849e-06,\n",
       "         3.88275949e-06,  -2.32978603e-06,   1.01194193e-05,\n",
       "        -3.54178190e-06,  -8.30780299e-06,  -1.08808961e-06,\n",
       "        -1.99205083e-05,   2.01788651e-05,   2.01135775e-06,\n",
       "         2.70081247e-06,  -6.66090436e-06,   3.19723932e-06,\n",
       "         1.64851879e-05])"
      ]
     },
     "execution_count": 95,
     "metadata": {},
     "output_type": "execute_result"
    }
   ],
   "source": [
    "np.random.randn(100)*(1e-5)"
   ]
  },
  {
   "cell_type": "code",
   "execution_count": 80,
   "metadata": {
    "ExecuteTime": {
     "end_time": "2018-06-04T14:34:23.961849Z",
     "start_time": "2018-06-04T14:34:23.250999Z"
    },
    "collapsed": true
   },
   "outputs": [],
   "source": [
    "import librosa\n",
    "import numpy as np\n",
    "import soundfile as sf"
   ]
  },
  {
   "cell_type": "code",
   "execution_count": 90,
   "metadata": {
    "ExecuteTime": {
     "end_time": "2018-06-04T14:45:51.019951Z",
     "start_time": "2018-06-04T14:45:50.744757Z"
    }
   },
   "outputs": [
    {
     "data": {
      "text/plain": [
       "(190500, 1)"
      ]
     },
     "execution_count": 90,
     "metadata": {},
     "output_type": "execute_result"
    }
   ],
   "source": [
    "filename = ['./vsCorpus/pred_mix.wav','./vsCorpus/origin_vocal.wav']\n",
    "audio0, samplerate = sf.read(filename[0], dtype='float32')\n",
    "audio0 = librosa.resample(audio0.T, samplerate, 16000)\n",
    "audio0 = audio0.reshape(-1, 1)\n",
    "audio0.shape"
   ]
  },
  {
   "cell_type": "code",
   "execution_count": 88,
   "metadata": {
    "ExecuteTime": {
     "end_time": "2018-06-04T14:36:11.186752Z",
     "start_time": "2018-06-04T14:36:11.176652Z"
    }
   },
   "outputs": [
    {
     "data": {
      "text/plain": [
       "array([[  2.37370245e-02],\n",
       "       [  6.97137564e-02],\n",
       "       [  1.35795996e-01],\n",
       "       [  1.45683378e-01],\n",
       "       [  1.23145200e-01],\n",
       "       [  1.24482378e-01],\n",
       "       [  1.29988745e-01],\n",
       "       [  9.37527791e-02],\n",
       "       [  4.52679656e-02],\n",
       "       [  4.35558669e-02],\n",
       "       [  6.80296719e-02],\n",
       "       [  5.32581657e-02],\n",
       "       [  7.91466050e-03],\n",
       "       [  2.35935659e-04],\n",
       "       [  3.64894308e-02],\n",
       "       [  5.20735160e-02],\n",
       "       [  2.43647341e-02],\n",
       "       [ -1.35247328e-03],\n",
       "       [ -8.07452481e-03],\n",
       "       [ -3.19585241e-02],\n",
       "       [ -6.89915419e-02],\n",
       "       [ -5.47923706e-02],\n",
       "       [  2.21106876e-02],\n",
       "       [  7.74778724e-02],\n",
       "       [  5.63833117e-02],\n",
       "       [  1.95676815e-02],\n",
       "       [  3.75835747e-02],\n",
       "       [  7.09940121e-02],\n",
       "       [  4.09951545e-02],\n",
       "       [ -3.21916379e-02],\n",
       "       [ -5.63867167e-02],\n",
       "       [ -8.86394829e-03],\n",
       "       [  3.84842008e-02],\n",
       "       [  3.20383795e-02],\n",
       "       [ -2.60234764e-03],\n",
       "       [ -2.21588109e-02],\n",
       "       [ -2.45696232e-02],\n",
       "       [ -2.82484554e-02],\n",
       "       [ -3.80998962e-02],\n",
       "       [ -4.77991104e-02],\n",
       "       [ -4.51186746e-02],\n",
       "       [ -1.36096850e-02],\n",
       "       [  3.94539498e-02],\n",
       "       [  6.59541637e-02],\n",
       "       [  2.98347939e-02],\n",
       "       [ -3.13421674e-02],\n",
       "       [ -4.77362722e-02],\n",
       "       [ -1.54990051e-02],\n",
       "       [  3.64897074e-03],\n",
       "       [ -1.68434400e-02],\n",
       "       [ -3.40314396e-02],\n",
       "       [ -1.91759095e-02],\n",
       "       [ -8.92965775e-03],\n",
       "       [ -3.74866612e-02],\n",
       "       [ -7.40831420e-02],\n",
       "       [ -7.46453702e-02],\n",
       "       [ -5.36044575e-02],\n",
       "       [ -5.48736528e-02],\n",
       "       [ -8.08931962e-02],\n",
       "       [ -9.79482532e-02],\n",
       "       [ -9.21433568e-02],\n",
       "       [ -7.82121569e-02],\n",
       "       [ -6.73858449e-02],\n",
       "       [ -6.16280101e-02],\n",
       "       [ -6.56228960e-02],\n",
       "       [ -7.56434426e-02],\n",
       "       [ -7.53959119e-02],\n",
       "       [ -6.88399300e-02],\n",
       "       [ -8.84913728e-02],\n",
       "       [ -1.39316007e-01],\n",
       "       [ -1.70679674e-01],\n",
       "       [ -1.48542196e-01],\n",
       "       [ -1.17909990e-01],\n",
       "       [ -1.34956330e-01],\n",
       "       [ -1.72522679e-01],\n",
       "       [ -1.69464648e-01],\n",
       "       [ -1.47725537e-01],\n",
       "       [ -1.83396384e-01],\n",
       "       [ -2.64056355e-01],\n",
       "       [ -2.83153266e-01],\n",
       "       [ -2.05541044e-01],\n",
       "       [ -1.34950474e-01],\n",
       "       [ -1.59562454e-01],\n",
       "       [ -2.20442191e-01],\n",
       "       [ -2.13352636e-01],\n",
       "       [ -1.50786743e-01],\n",
       "       [ -1.24464117e-01],\n",
       "       [ -1.49577275e-01],\n",
       "       [ -1.52700469e-01],\n",
       "       [ -1.03622526e-01],\n",
       "       [ -6.02134578e-02],\n",
       "       [ -6.81186020e-02],\n",
       "       [ -9.73933637e-02],\n",
       "       [ -1.04930244e-01],\n",
       "       [ -9.53806862e-02],\n",
       "       [ -9.14621055e-02],\n",
       "       [ -9.60803479e-02],\n",
       "       [ -1.09662160e-01],\n",
       "       [ -1.37655333e-01],\n",
       "       [ -1.58670217e-01]], dtype=float32)"
      ]
     },
     "execution_count": 88,
     "metadata": {},
     "output_type": "execute_result"
    }
   ],
   "source": [
    "audio0[10100:10200]"
   ]
  }
 ],
 "metadata": {
  "kernelspec": {
   "display_name": "Python 3",
   "language": "python",
   "name": "python3"
  },
  "language_info": {
   "codemirror_mode": {
    "name": "ipython",
    "version": 3
   },
   "file_extension": ".py",
   "mimetype": "text/x-python",
   "name": "python",
   "nbconvert_exporter": "python",
   "pygments_lexer": "ipython3",
   "version": "3.6.3"
  }
 },
 "nbformat": 4,
 "nbformat_minor": 2
}
