{
 "cells": [
  {
   "cell_type": "code",
   "execution_count": 1,
   "metadata": {
    "ExecuteTime": {
     "end_time": "2018-06-15T12:57:13.840056Z",
     "start_time": "2018-06-15T12:57:12.491733Z"
    },
    "collapsed": true
   },
   "outputs": [],
   "source": [
    "from __future__ import print_function\n",
    "import argparse\n",
    "import torch\n",
    "import torch.nn as nn\n",
    "import torch.nn.functional as F\n",
    "import torch.optim as optim\n",
    "from torchvision import datasets, transforms\n",
    "import numpy as np\n",
    "import torch.utils.data as utils\n",
    "import librosa\n",
    "import soundfile as sf\n",
    "import time\n",
    "import os\n",
    "from torch.utils import data"
   ]
  },
  {
   "cell_type": "code",
   "execution_count": 2,
   "metadata": {
    "ExecuteTime": {
     "end_time": "2018-06-15T12:57:13.845947Z",
     "start_time": "2018-06-15T12:57:13.842613Z"
    },
    "collapsed": true
   },
   "outputs": [],
   "source": [
    "sample_rate=16000"
   ]
  },
  {
   "cell_type": "code",
   "execution_count": 3,
   "metadata": {
    "ExecuteTime": {
     "end_time": "2018-06-15T12:57:13.854501Z",
     "start_time": "2018-06-15T12:57:13.848597Z"
    },
    "collapsed": true
   },
   "outputs": [],
   "source": [
    "from os import listdir\n",
    "from os.path import isfile, join"
   ]
  },
  {
   "cell_type": "code",
   "execution_count": null,
   "metadata": {
    "ExecuteTime": {
     "start_time": "2018-06-15T12:57:14.365Z"
    },
    "collapsed": true
   },
   "outputs": [],
   "source": [
    "cnt=0\n",
    "for i in listdir('ccmixter_corpus/'):\n",
    "    if os.path.isdir('ccmixter_corpus/'+i):\n",
    "        for j in ['mix.wav','source-01.wav']:\n",
    "            name='ccmixter_corpus/'+i+'/'+j\n",
    "            audio0, samplerate = sf.read(name, dtype='float32')\n",
    "            audio0=librosa.resample(audio0.T, samplerate, sample_rate)\n",
    "            audio0 = librosa.to_mono(audio0)\n",
    "            if not os.path.exists('./ccmixter2/x/'):os.makedirs('./ccmixter2/x/')\n",
    "            if not os.path.exists('./ccmixter2/y/'):os.makedirs('./ccmixter2/y/')\n",
    "            if(j == 'mix.wav'):\n",
    "                sf.write('./ccmixter2/x/'+str(cnt)+'.wav', audio0, sample_rate)\n",
    "            else:\n",
    "                sf.write('./ccmixter2/y/'+str(cnt)+'.wav', audio0, sample_rate)\n",
    "        cnt+=1"
   ]
  },
  {
   "cell_type": "code",
   "execution_count": null,
   "metadata": {
    "collapsed": true
   },
   "outputs": [],
   "source": []
  }
 ],
 "metadata": {
  "kernelspec": {
   "display_name": "Python 3",
   "language": "python",
   "name": "python3"
  },
  "language_info": {
   "codemirror_mode": {
    "name": "ipython",
    "version": 3
   },
   "file_extension": ".py",
   "mimetype": "text/x-python",
   "name": "python",
   "nbconvert_exporter": "python",
   "pygments_lexer": "ipython3",
   "version": "3.6.3"
  }
 },
 "nbformat": 4,
 "nbformat_minor": 2
}
