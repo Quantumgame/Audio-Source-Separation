{
 "cells": [
  {
   "cell_type": "code",
   "execution_count": 1,
   "metadata": {
    "ExecuteTime": {
     "end_time": "2018-06-22T05:46:22.357021Z",
     "start_time": "2018-06-22T05:46:20.831555Z"
    },
    "collapsed": true
   },
   "outputs": [],
   "source": [
    "from __future__ import print_function\n",
    "import argparse\n",
    "import torch\n",
    "import torch.nn as nn\n",
    "import torch.nn.functional as F\n",
    "import torch.optim as optim\n",
    "from torchvision import datasets, transforms\n",
    "import numpy as np\n",
    "import torch.utils.data as utils\n",
    "import librosa\n",
    "import soundfile as sf\n",
    "import time\n",
    "import os\n",
    "from torch.utils import data\n",
    "import numpy\n",
    "import pickle\n",
    "import numpy as np\n",
    "import h5py\n",
    "from os import listdir\n",
    "from os.path import isfile, join\n",
    "sample_rate=16000"
   ]
  },
  {
   "cell_type": "code",
   "execution_count": 2,
   "metadata": {
    "ExecuteTime": {
     "end_time": "2018-06-22T06:19:26.956800Z",
     "start_time": "2018-06-22T05:46:22.359120Z"
    }
   },
   "outputs": [],
   "source": [
    "cnt=0\n",
    "for i in listdir('ccmixter_corpus/'):\n",
    "    if os.path.isdir('ccmixter_corpus/'+i):\n",
    "        for j in ['mix.wav','source-01.wav','source-02.wav']:\n",
    "            name='ccmixter_corpus/'+i+'/'+j\n",
    "            audio0, samplerate = sf.read(name, dtype='float32')\n",
    "            audio0=librosa.resample(audio0.T, samplerate, sample_rate)\n",
    "            audio0 = librosa.to_mono(audio0)\n",
    "            if not os.path.exists('./ccmixter2/x/'):os.makedirs('./ccmixter2/x/')\n",
    "            if not os.path.exists('./ccmixter2/y/'):os.makedirs('./ccmixter2/y/')\n",
    "            if not os.path.exists('./ccmixter2/z/'):os.makedirs('./ccmixter2/z/')\n",
    "            if(j == 'mix.wav'):\n",
    "                sf.write('./ccmixter2/x/'+str(cnt)+'.wav', audio0, sample_rate)\n",
    "            elif(j == 'source-01.wav'):\n",
    "                sf.write('./ccmixter2/y/'+str(cnt)+'.wav', audio0, sample_rate)\n",
    "            elif(j == 'source-02.wav'):\n",
    "                sf.write('./ccmixter2/z/'+str(cnt)+'.wav', audio0, sample_rate)\n",
    "            else:print('wa')\n",
    "        cnt+=1"
   ]
  },
  {
   "cell_type": "code",
   "execution_count": 3,
   "metadata": {
    "ExecuteTime": {
     "end_time": "2018-06-22T06:19:35.205653Z",
     "start_time": "2018-06-22T06:19:26.960380Z"
    },
    "collapsed": true
   },
   "outputs": [],
   "source": [
    "for i in range(50):\n",
    "    name0='ccmixter2/x/'+str(i)+'.wav'\n",
    "    audio0, samplerate = sf.read(name0, dtype='float32')\n",
    "    audio0=librosa.resample(audio0.T, samplerate, sample_rate)\n",
    "    \n",
    "    name1='ccmixter2/y/'+str(i)+'.wav'\n",
    "    audio1, samplerate = sf.read(name1, dtype='float32')\n",
    "    audio1=librosa.resample(audio1.T, samplerate, sample_rate)\n",
    "    \n",
    "    name2='ccmixter2/z/'+str(i)+'.wav'\n",
    "    audio2, samplerate = sf.read(name2, dtype='float32')\n",
    "    audio2=librosa.resample(audio2.T, samplerate, sample_rate)\n",
    "    \n",
    "    if not os.path.exists('./ccmixter3/'):os.makedirs('./ccmixter3/')\n",
    "    h5f = h5py.File('ccmixter3/'+str(i)+'.h5', 'w')\n",
    "    h5f.create_dataset('x', data=audio0)\n",
    "    h5f.create_dataset('y', data=audio1)\n",
    "    h5f.create_dataset('z', data=audio2)\n",
    "    h5f.close()"
   ]
  },
  {
   "cell_type": "code",
   "execution_count": null,
   "metadata": {
    "collapsed": true
   },
   "outputs": [],
   "source": []
  }
 ],
 "metadata": {
  "kernelspec": {
   "display_name": "Python 3",
   "language": "python",
   "name": "python3"
  },
  "language_info": {
   "codemirror_mode": {
    "name": "ipython",
    "version": 3
   },
   "file_extension": ".py",
   "mimetype": "text/x-python",
   "name": "python",
   "nbconvert_exporter": "python",
   "pygments_lexer": "ipython3",
   "version": "3.6.3"
  }
 },
 "nbformat": 4,
 "nbformat_minor": 2
}
