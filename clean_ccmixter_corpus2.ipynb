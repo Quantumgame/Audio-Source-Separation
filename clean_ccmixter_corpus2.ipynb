{
 "cells": [
  {
   "cell_type": "code",
   "execution_count": 1,
   "metadata": {
    "ExecuteTime": {
     "end_time": "2018-06-17T05:29:20.320397Z",
     "start_time": "2018-06-17T05:29:18.885875Z"
    },
    "collapsed": true
   },
   "outputs": [],
   "source": [
    "from __future__ import print_function\n",
    "import argparse\n",
    "import torch\n",
    "import torch.nn as nn\n",
    "import torch.nn.functional as F\n",
    "import torch.optim as optim\n",
    "from torchvision import datasets, transforms\n",
    "import numpy as np\n",
    "import torch.utils.data as utils\n",
    "import librosa\n",
    "import soundfile as sf\n",
    "import time\n",
    "import os\n",
    "from torch.utils import data"
   ]
  },
  {
   "cell_type": "code",
   "execution_count": 2,
   "metadata": {
    "ExecuteTime": {
     "end_time": "2018-06-17T05:29:20.326308Z",
     "start_time": "2018-06-17T05:29:20.323376Z"
    },
    "collapsed": true
   },
   "outputs": [],
   "source": [
    "sample_rate=16000"
   ]
  },
  {
   "cell_type": "code",
   "execution_count": 3,
   "metadata": {
    "ExecuteTime": {
     "end_time": "2018-06-17T05:29:20.330954Z",
     "start_time": "2018-06-17T05:29:20.327864Z"
    },
    "collapsed": true
   },
   "outputs": [],
   "source": [
    "from os import listdir\n",
    "from os.path import isfile, join"
   ]
  },
  {
   "cell_type": "code",
   "execution_count": 5,
   "metadata": {
    "ExecuteTime": {
     "end_time": "2018-06-17T06:02:11.847160Z",
     "start_time": "2018-06-17T05:29:49.176518Z"
    }
   },
   "outputs": [
    {
     "name": "stdout",
     "output_type": "stream",
     "text": [
      "0.212462 0.0004307\n",
      "0.192442 0.000413292\n",
      "0.194583 -9.3642e-06\n",
      "0.165225 -4.01369e-06\n",
      "0.273758 -8.06927e-05\n",
      "0.257474 0.000205104\n",
      "0.152246 -0.000254994\n",
      "0.137762 -0.000223281\n",
      "0.156225 -0.00228397\n",
      "0.130007 -0.00221931\n",
      "0.149678 -0.034086\n",
      "0.14411 -0.0306985\n",
      "0.161192 0.00018778\n",
      "0.145069 0.000363958\n",
      "0.0782631 1.16109e-05\n",
      "0.0528904 5.39086e-06\n",
      "0.131799 -0.000228485\n",
      "0.112996 -0.000139667\n",
      "0.108385 -3.3794e-06\n",
      "0.0901243 -3.12238e-07\n",
      "0.153921 -3.88279e-05\n",
      "0.134873 -3.37817e-05\n",
      "0.183593 -4.64723e-05\n",
      "0.140312 -2.69863e-05\n",
      "0.155588 0.00669371\n",
      "0.128819 0.0067359\n",
      "0.160793 -0.000946174\n",
      "0.137155 -0.000904924\n",
      "0.104629 -0.00029388\n",
      "0.0975873 -0.000100315\n",
      "0.168367 -0.00126789\n",
      "0.151103 -0.0012422\n",
      "0.228251 7.93122e-05\n",
      "0.206295 -9.78656e-05\n",
      "0.17066 -0.00166613\n",
      "0.154516 -0.00165694\n",
      "0.125521 -0.00080658\n",
      "0.119033 -0.000803752\n",
      "0.114374 0.012667\n",
      "0.106237 0.0127792\n",
      "0.172773 -0.000164866\n",
      "0.155062 -0.000148914\n",
      "0.132807 -7.84318e-05\n",
      "0.0886032 -1.42106e-05\n",
      "0.134043 0.000100538\n",
      "0.124419 0.000110312\n",
      "0.108454 7.37171e-05\n",
      "0.0968023 6.66411e-05\n",
      "0.182174 0.00187543\n",
      "0.154868 0.0018918\n",
      "0.117832 4.98754e-06\n",
      "0.0886713 5.27328e-06\n",
      "0.126611 -0.000367575\n",
      "0.0840342 -0.000318558\n",
      "0.18116 0.00226654\n",
      "0.173963 0.00229656\n",
      "0.1192 -2.78734e-07\n",
      "0.107102 -1.5266e-07\n",
      "0.139128 0.000483085\n",
      "0.119297 0.000470364\n",
      "0.108267 -8.71358e-05\n",
      "0.0980241 -7.25578e-05\n",
      "0.0908348 -9.35064e-06\n",
      "0.0659212 2.55168e-06\n",
      "0.146186 -0.000122188\n",
      "0.13404 -7.30606e-05\n",
      "0.192815 -5.09374e-05\n",
      "0.190327 -3.32884e-05\n",
      "0.139776 2.63056e-05\n",
      "0.0927608 2.57013e-05\n",
      "0.0697956 -5.44699e-05\n",
      "0.047303 -3.32091e-05\n",
      "0.113067 0.00490659\n",
      "0.0928717 0.00461051\n",
      "0.157409 -0.000145642\n",
      "0.144364 -0.000139318\n",
      "0.166275 0.00607467\n",
      "0.149891 0.00611313\n",
      "0.122448 0.000165555\n",
      "0.112157 0.000573779\n",
      "0.131268 0.000332022\n",
      "0.120737 0.000330145\n",
      "0.0767437 0.000229066\n",
      "0.0631765 0.000164111\n",
      "0.120776 -0.000295209\n",
      "0.098494 -0.000276988\n",
      "0.10752 -0.000548016\n",
      "0.104475 -0.000374608\n",
      "0.153713 -0.000711879\n",
      "0.138638 -0.000712655\n",
      "0.172045 -3.51275e-05\n",
      "0.151436 3.84324e-05\n",
      "0.166161 0.000165386\n",
      "0.151894 -6.45396e-06\n",
      "0.13178 0.00215635\n",
      "0.124475 0.00218182\n",
      "0.108346 -0.0012034\n",
      "0.0981618 -0.00120445\n",
      "0.137093 -0.0411895\n",
      "0.122384 -0.0412324\n"
     ]
    }
   ],
   "source": [
    "cnt=0\n",
    "for i in listdir('ccmixter_corpus/'):\n",
    "    if os.path.isdir('ccmixter_corpus/'+i):\n",
    "        for j in ['mix.wav','source-01.wav']:\n",
    "            name='ccmixter_corpus/'+i+'/'+j\n",
    "            audio0, samplerate = sf.read(name, dtype='float32')\n",
    "            audio0=librosa.resample(audio0.T, samplerate, sample_rate)\n",
    "            audio0 = librosa.to_mono(audio0)\n",
    "            print(audio0.std(),audio0.mean())\n",
    "            '''if not os.path.exists('./ccmixter2/x/'):os.makedirs('./ccmixter2/x/')\n",
    "            if not os.path.exists('./ccmixter2/y/'):os.makedirs('./ccmixter2/y/')\n",
    "            if(j == 'mix.wav'):\n",
    "                sf.write('./ccmixter2/x/'+str(cnt)+'.wav', audio0, sample_rate)\n",
    "            else:\n",
    "                sf.write('./ccmixter2/y/'+str(cnt)+'.wav', audio0, sample_rate)'''\n",
    "        cnt+=1"
   ]
  },
  {
   "cell_type": "code",
   "execution_count": null,
   "metadata": {
    "collapsed": true
   },
   "outputs": [],
   "source": []
  }
 ],
 "metadata": {
  "kernelspec": {
   "display_name": "Python 3",
   "language": "python",
   "name": "python3"
  },
  "language_info": {
   "codemirror_mode": {
    "name": "ipython",
    "version": 3
   },
   "file_extension": ".py",
   "mimetype": "text/x-python",
   "name": "python",
   "nbconvert_exporter": "python",
   "pygments_lexer": "ipython3",
   "version": "3.6.3"
  }
 },
 "nbformat": 4,
 "nbformat_minor": 2
}
