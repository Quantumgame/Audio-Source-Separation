{
 "cells": [
  {
   "cell_type": "code",
   "execution_count": 9,
   "metadata": {
    "ExecuteTime": {
     "end_time": "2018-06-27T14:32:45.885665Z",
     "start_time": "2018-06-27T14:32:45.857187Z"
    },
    "collapsed": true
   },
   "outputs": [],
   "source": [
    "from __future__ import print_function\n",
    "import argparse\n",
    "import torch\n",
    "import torch.nn as nn\n",
    "import torch.nn.functional as F\n",
    "import torch.optim as optim\n",
    "from torchvision import datasets, transforms\n",
    "import numpy as np\n",
    "import torch.utils.data as utils\n",
    "import librosa\n",
    "import soundfile as sf\n",
    "import time\n",
    "import os\n",
    "import h5py\n",
    "from transformData import x_mu_law_encode,y_mu_law_encode,mu_law_decode,onehot,cateToSignal\n",
    "from os import listdir\n",
    "from os.path import isfile, join"
   ]
  },
  {
   "cell_type": "code",
   "execution_count": 10,
   "metadata": {
    "ExecuteTime": {
     "end_time": "2018-06-27T14:32:46.073523Z",
     "start_time": "2018-06-27T14:32:46.067110Z"
    },
    "collapsed": true
   },
   "outputs": [],
   "source": [
    "sample_rate=16000"
   ]
  },
  {
   "cell_type": "code",
   "execution_count": 11,
   "metadata": {
    "ExecuteTime": {
     "end_time": "2018-06-27T14:32:46.426829Z",
     "start_time": "2018-06-27T14:32:46.419924Z"
    },
    "collapsed": true
   },
   "outputs": [],
   "source": [
    "xmean,xstd=0,0"
   ]
  },
  {
   "cell_type": "code",
   "execution_count": 12,
   "metadata": {
    "ExecuteTime": {
     "end_time": "2018-06-27T14:32:49.748976Z",
     "start_time": "2018-06-27T14:32:46.892293Z"
    },
    "scrolled": true
   },
   "outputs": [],
   "source": [
    "for i in range(1):\n",
    "    h5f = h5py.File('ccmixter3/' + str(i) + '.h5', 'r')\n",
    "    x, y, z = h5f['x'][:], h5f['y'][:],h5f['z'][:]\n",
    "    #factor0 = np.random.uniform(low=0.83, high=1.0)\n",
    "    #factor1 = np.random.uniform(low=0.83, high=1.0)\n",
    "    #print(factor)\n",
    "    #z = z*factor0\n",
    "    #y = y*factor1\n",
    "    #x = (y + z)\n",
    "\n",
    "    x = librosa.stft(x, 1024, 256, 1024)\n",
    "    y = librosa.stft(y, 1024, 256, 1024)\n",
    "    \n",
    "    #print(x.shape,y.shape)\n",
    "    x = np.concatenate((x.real,x.imag),axis=0)\n",
    "    y = np.concatenate((y.real, y.imag), axis=0)\n",
    "    \n",
    "    x[(x>1)]=1\n",
    "    x[(x<-1)]=-1\n",
    "    y[(y>1)]=1\n",
    "    y[(y<-1)]=-1\n",
    "        \n",
    "    deep = x.shape[0]//2\n",
    "    xx = x[:deep,:].astype(complex)\n",
    "    xx.imag = x[deep:,:]\n",
    "    xx = librosa.core.istft(xx, hop_length=256)\n",
    "    sf.write('1.wav', xx, sample_rate)\n",
    "#     print(x.mean(),x.std())\n",
    "#     print(np.sum((x>1) | (x<-1)))\n",
    "#     print(np.sum((y>1) | (y<-1)))\n",
    "#     print(x.max(),x.min(),y.max(),y.min())\n",
    "#     print()\n",
    "    h5f.close()"
   ]
  },
  {
   "cell_type": "code",
   "execution_count": 5,
   "metadata": {
    "ExecuteTime": {
     "end_time": "2018-06-27T14:27:52.112118Z",
     "start_time": "2018-06-27T14:27:52.004770Z"
    }
   },
   "outputs": [
    {
     "data": {
      "text/plain": [
       "7.2047521392350049e-08"
      ]
     },
     "execution_count": 5,
     "metadata": {},
     "output_type": "execute_result"
    }
   ],
   "source": [
    "np.sum((x>1) | (x<-1))/np.sum(x>-100000)"
   ]
  },
  {
   "cell_type": "code",
   "execution_count": 6,
   "metadata": {
    "ExecuteTime": {
     "end_time": "2018-06-27T14:27:52.125540Z",
     "start_time": "2018-06-27T14:27:52.120412Z"
    }
   },
   "outputs": [],
   "source": [
    "#xmean / 50"
   ]
  },
  {
   "cell_type": "code",
   "execution_count": 7,
   "metadata": {
    "ExecuteTime": {
     "end_time": "2018-06-27T14:27:52.138424Z",
     "start_time": "2018-06-27T14:27:52.133637Z"
    }
   },
   "outputs": [],
   "source": [
    "#xstd / 50"
   ]
  },
  {
   "cell_type": "code",
   "execution_count": null,
   "metadata": {
    "ExecuteTime": {
     "end_time": "2018-06-25T15:20:22.018703Z",
     "start_time": "2018-06-25T15:20:21.992617Z"
    }
   },
   "outputs": [],
   "source": []
  }
 ],
 "metadata": {
  "kernelspec": {
   "display_name": "Python 3",
   "language": "python",
   "name": "python3"
  },
  "language_info": {
   "codemirror_mode": {
    "name": "ipython",
    "version": 3
   },
   "file_extension": ".py",
   "mimetype": "text/x-python",
   "name": "python",
   "nbconvert_exporter": "python",
   "pygments_lexer": "ipython3",
   "version": "3.6.3"
  }
 },
 "nbformat": 4,
 "nbformat_minor": 2
}
