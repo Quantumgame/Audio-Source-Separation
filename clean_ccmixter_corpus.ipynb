{
 "cells": [
  {
   "cell_type": "code",
   "execution_count": 4,
   "metadata": {
    "ExecuteTime": {
     "end_time": "2018-06-24T06:22:33.648643Z",
     "start_time": "2018-06-24T06:22:33.630090Z"
    },
    "collapsed": true
   },
   "outputs": [],
   "source": [
    "from __future__ import print_function\n",
    "import argparse\n",
    "import torch\n",
    "import torch.nn as nn\n",
    "import torch.nn.functional as F\n",
    "import torch.optim as optim\n",
    "from torchvision import datasets, transforms\n",
    "import numpy as np\n",
    "import torch.utils.data as utils\n",
    "import librosa\n",
    "import soundfile as sf\n",
    "import time\n",
    "import os\n",
    "import h5py\n",
    "from transformData import x_mu_law_encode,y_mu_law_encode,mu_law_decode,onehot,cateToSignal\n",
    "from os import listdir\n",
    "from os.path import isfile, join"
   ]
  },
  {
   "cell_type": "code",
   "execution_count": 2,
   "metadata": {
    "ExecuteTime": {
     "end_time": "2018-06-14T05:24:02.122444Z",
     "start_time": "2018-06-14T05:24:02.117509Z"
    },
    "collapsed": true
   },
   "outputs": [],
   "source": [
    "sample_rate=16000"
   ]
  },
  {
   "cell_type": "code",
   "execution_count": 6,
   "metadata": {
    "ExecuteTime": {
     "end_time": "2018-06-24T06:22:39.411087Z",
     "start_time": "2018-06-24T06:22:39.407557Z"
    },
    "collapsed": true
   },
   "outputs": [],
   "source": [
    "xmean,xstd=0,0"
   ]
  },
  {
   "cell_type": "code",
   "execution_count": 7,
   "metadata": {
    "ExecuteTime": {
     "end_time": "2018-06-24T06:22:50.335848Z",
     "start_time": "2018-06-24T06:22:39.580247Z"
    }
   },
   "outputs": [],
   "source": [
    "for i in range(50):\n",
    "    h5f = h5py.File('ccmixter3/' + str(i) + '.h5', 'r')\n",
    "    x, y = h5f['x'][:], h5f['y'][:]\n",
    "    x = x_mu_law_encode(x)\n",
    "    y = y_mu_law_encode(y)\n",
    "    xmean += x.mean()\n",
    "    xstd += x.std()\n",
    "    h5f.close()"
   ]
  },
  {
   "cell_type": "code",
   "execution_count": 8,
   "metadata": {
    "ExecuteTime": {
     "end_time": "2018-06-24T06:22:53.286056Z",
     "start_time": "2018-06-24T06:22:53.268088Z"
    }
   },
   "outputs": [
    {
     "data": {
      "text/plain": [
       "-0.0039727693202439695"
      ]
     },
     "execution_count": 8,
     "metadata": {},
     "output_type": "execute_result"
    }
   ],
   "source": [
    "xmean / 50"
   ]
  },
  {
   "cell_type": "code",
   "execution_count": 9,
   "metadata": {
    "ExecuteTime": {
     "end_time": "2018-06-24T06:22:54.966276Z",
     "start_time": "2018-06-24T06:22:54.960748Z"
    }
   },
   "outputs": [
    {
     "data": {
      "text/plain": [
       "0.54840165197849278"
      ]
     },
     "execution_count": 9,
     "metadata": {},
     "output_type": "execute_result"
    }
   ],
   "source": [
    "xstd / 50"
   ]
  },
  {
   "cell_type": "code",
   "execution_count": null,
   "metadata": {
    "collapsed": true
   },
   "outputs": [],
   "source": []
  }
 ],
 "metadata": {
  "kernelspec": {
   "display_name": "Python 3",
   "language": "python",
   "name": "python3"
  },
  "language_info": {
   "codemirror_mode": {
    "name": "ipython",
    "version": 3
   },
   "file_extension": ".py",
   "mimetype": "text/x-python",
   "name": "python",
   "nbconvert_exporter": "python",
   "pygments_lexer": "ipython3",
   "version": "3.6.3"
  }
 },
 "nbformat": 4,
 "nbformat_minor": 2
}
