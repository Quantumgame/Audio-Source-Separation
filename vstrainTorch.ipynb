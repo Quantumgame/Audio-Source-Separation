{
 "cells": [
  {
   "cell_type": "code",
   "execution_count": 1,
   "metadata": {
    "ExecuteTime": {
     "end_time": "2018-06-08T05:49:01.981910Z",
     "start_time": "2018-06-08T05:49:00.947223Z"
    },
    "collapsed": true
   },
   "outputs": [],
   "source": [
    "from __future__ import print_function\n",
    "import argparse\n",
    "import torch\n",
    "import torch.nn as nn\n",
    "import torch.nn.functional as F\n",
    "import torch.optim as optim\n",
    "from torchvision import datasets, transforms\n",
    "import numpy as np\n",
    "import torch.utils.data as utils\n",
    "import librosa\n",
    "import soundfile as sf\n",
    "import time\n",
    "import os"
   ]
  },
  {
   "cell_type": "code",
   "execution_count": 2,
   "metadata": {
    "ExecuteTime": {
     "end_time": "2018-06-08T05:49:02.000162Z",
     "start_time": "2018-06-08T05:49:01.984559Z"
    }
   },
   "outputs": [
    {
     "data": {
      "text/plain": [
       "5100"
      ]
     },
     "execution_count": 2,
     "metadata": {},
     "output_type": "execute_result"
    }
   ],
   "source": [
    "sampleSize=50000\n",
    "sample_rate=16000\n",
    "quantization_channels=256\n",
    "dilations=[2**i for i in range(8)]*20\n",
    "skipDim=256\n",
    "residualDim=32\n",
    "filterSize=3\n",
    "pad = np.sum(dilations)\n",
    "shapeoftest=190500\n",
    "pad"
   ]
  },
  {
   "cell_type": "code",
   "execution_count": 3,
   "metadata": {
    "ExecuteTime": {
     "end_time": "2018-06-08T05:49:02.004623Z",
     "start_time": "2018-06-08T05:49:02.002128Z"
    },
    "collapsed": true
   },
   "outputs": [],
   "source": [
    "#os.environ[\"CUDA_DEVICE_ORDER\"] = \"PCI_BUS_ID\"\n",
    "#os.environ[\"CUDA_VISIBLE_DEVICES\"] = \"1\""
   ]
  },
  {
   "cell_type": "code",
   "execution_count": 4,
   "metadata": {
    "ExecuteTime": {
     "end_time": "2018-06-08T05:49:02.809346Z",
     "start_time": "2018-06-08T05:49:02.006265Z"
    },
    "collapsed": true
   },
   "outputs": [],
   "source": [
    "use_cuda = torch.cuda.is_available()\n",
    "torch.manual_seed(1)\n",
    "device = torch.device(\"cuda\" if use_cuda else \"cpu\")\n",
    "#device = 'cpu'\n",
    "torch.set_default_tensor_type('torch.cuda.FloatTensor')\n",
    "kwargs = {'num_workers': 1, 'pin_memory': True} if use_cuda else {}"
   ]
  },
  {
   "cell_type": "code",
   "execution_count": 5,
   "metadata": {
    "ExecuteTime": {
     "end_time": "2018-06-08T05:49:02.836352Z",
     "start_time": "2018-06-08T05:49:02.811950Z"
    },
    "collapsed": true
   },
   "outputs": [],
   "source": [
    "def mu_law_encode(audio, quantization_channels=quantization_channels):\n",
    "    '''Quantizes waveform amplitudes.'''\n",
    "    mu = (quantization_channels - 1)*1.0\n",
    "    # Perform mu-law companding transformation (ITU-T, 1988).\n",
    "    # Minimum operation is here to deal with rare large amplitudes caused\n",
    "    # by resampling.\n",
    "    safe_audio_abs = np.minimum(np.abs(audio), 1.0)\n",
    "    magnitude = np.log1p(mu * safe_audio_abs) / np.log1p(mu)\n",
    "    signal = np.sign(audio) * magnitude\n",
    "    # Quantize signal to the specified number of levels.\n",
    "    #if(forX):return signal\n",
    "    return ((signal + 1) / 2 * mu + 0.5).astype(int)\n",
    "def mu_law_decode(output, quantization_channels=quantization_channels):\n",
    "    '''Recovers waveform from quantized values.'''\n",
    "    mu = quantization_channels - 1\n",
    "    # Map values back to [-1, 1].\n",
    "    signal = 2 * ((output*1.0) / mu) - 1\n",
    "    # Perform inverse of mu-law transformation.\n",
    "    magnitude = (1 / mu) * ((1 + mu)**np.abs(signal) - 1)\n",
    "    return np.sign(signal) * magnitude"
   ]
  },
  {
   "cell_type": "code",
   "execution_count": 6,
   "metadata": {
    "ExecuteTime": {
     "end_time": "2018-06-08T05:49:20.374000Z",
     "start_time": "2018-06-08T05:49:02.838317Z"
    },
    "collapsed": true
   },
   "outputs": [],
   "source": [
    "def readAudio(name):\n",
    "    audio0, samplerate = sf.read(name, dtype='float32')\n",
    "    return librosa.resample(audio0.T, samplerate, sample_rate).reshape(-1)\n",
    "p=['./vsCorpus/origin_mix.wav','./vsCorpus/origin_vocal.wav',\n",
    "   './vsCorpus/origin_mix.wav','./vsCorpus/origin_vocal.wav','./vsCorpus/pred_mix.wav']\n",
    "xtrain,ytrain,xval,yval,xtest=readAudio(p[0]),readAudio(p[1]),readAudio(p[2]),readAudio(p[3]),readAudio(p[4])\n",
    "assert((xtrain==xval).all())\n",
    "assert((ytrain==yval).all())\n",
    "assert((xtrain != ytrain).any())"
   ]
  },
  {
   "cell_type": "code",
   "execution_count": 7,
   "metadata": {
    "ExecuteTime": {
     "end_time": "2018-06-08T05:49:20.644141Z",
     "start_time": "2018-06-08T05:49:20.376427Z"
    },
    "collapsed": true
   },
   "outputs": [],
   "source": [
    "xmean,xstd = xtrain.mean(),xtrain.std()\n",
    "xtrain=(xtrain-xmean)/xstd\n",
    "xval=(xval-xmean)/xstd\n",
    "xtest=(xtest-xmean)/xstd\n",
    "ytrain,yval=mu_law_encode(ytrain),mu_law_encode(yval)"
   ]
  },
  {
   "cell_type": "code",
   "execution_count": 8,
   "metadata": {
    "ExecuteTime": {
     "end_time": "2018-06-08T05:49:20.664299Z",
     "start_time": "2018-06-08T05:49:20.646049Z"
    }
   },
   "outputs": [],
   "source": [
    "xtrain,ytrain=xtrain[:xtest.shape[0]],ytrain[:xtest.shape[0]]\n",
    "xval,yval=xval[:xtest.shape[0]],yval[:xtest.shape[0]]\n",
    "xtrain=np.pad(xtrain, (pad, pad), 'constant')\n",
    "xval=np.pad(xval, (pad, pad), 'constant')\n",
    "xtest=np.pad(xtest, (pad, pad), 'constant')\n",
    "yval=np.pad(yval, (pad, pad), 'constant')\n",
    "ytrain=np.pad(ytrain, (pad, pad), 'constant')"
   ]
  },
  {
   "cell_type": "code",
   "execution_count": 9,
   "metadata": {
    "ExecuteTime": {
     "end_time": "2018-06-08T05:49:20.669976Z",
     "start_time": "2018-06-08T05:49:20.666157Z"
    },
    "collapsed": true
   },
   "outputs": [],
   "source": [
    "#xtrain,ytrain,xval,yval=xtrain[:-sampleSize],ytrain[:-sampleSize],xval[-sampleSize:],yval[-sampleSize:]\n",
    "#xtrain,ytrain,xval,yval=xtrain[:-sampleSize],ytrain[:-sampleSize],xval[:sampleSize],yval[:sampleSize]\n",
    "xtrain,xval,xtest=xtrain.reshape(1,1,-1),xval.reshape(1,1,-1),xtest.reshape(1,1,-1)\n",
    "ytrain,yval=ytrain.reshape(1,-1),yval.reshape(1,-1)"
   ]
  },
  {
   "cell_type": "code",
   "execution_count": 10,
   "metadata": {
    "ExecuteTime": {
     "end_time": "2018-06-08T05:49:20.675815Z",
     "start_time": "2018-06-08T05:49:20.671459Z"
    },
    "collapsed": true
   },
   "outputs": [],
   "source": [
    "xtrain,ytrain,xval,yval,xtest = torch.from_numpy(xtrain).type(torch.float32),\\\n",
    "                                torch.from_numpy(ytrain).type(torch.LongTensor),\\\n",
    "                                torch.from_numpy(xval).type(torch.float32),\\\n",
    "                                torch.from_numpy(yval).type(torch.LongTensor),\\\n",
    "                                torch.from_numpy(xtest).type(torch.float32)"
   ]
  },
  {
   "cell_type": "code",
   "execution_count": 11,
   "metadata": {
    "ExecuteTime": {
     "end_time": "2018-06-08T05:49:24.759738Z",
     "start_time": "2018-06-08T05:49:20.677378Z"
    }
   },
   "outputs": [],
   "source": [
    "class Net(nn.Module):\n",
    "    def __init__(self):\n",
    "        super(Net, self).__init__()\n",
    "        sd,qd,rd = skipDim,quantization_channels,residualDim\n",
    "        self.causal = nn.Conv1d(in_channels=1,out_channels=rd,kernel_size=3,padding=1)\n",
    "        self.layer=dict()\n",
    "        for i, d in enumerate(dilations):\n",
    "            self.layer['tanh'+str(i)] = nn.Conv1d(in_channels=rd,out_channels=rd,kernel_size=3,padding=0,dilation=d)\n",
    "            self.layer['sigmoid'+str(i)] = nn.Conv1d(in_channels=rd,out_channels=rd,kernel_size=3,padding=0,dilation=d)\n",
    "            self.layer['skip'+str(i)] = nn.Conv1d(in_channels=rd,out_channels=sd,kernel_size=1,padding=0)\n",
    "            self.layer['dense'+str(i)] = nn.Conv1d(in_channels=rd,out_channels=rd,kernel_size=1,padding=0)\n",
    "        self.post1 = nn.Conv1d(in_channels=sd,out_channels=sd,kernel_size=1,padding=0)\n",
    "        self.post2 = nn.Conv1d(in_channels=sd,out_channels=qd,kernel_size=1,padding=0)\n",
    "        self.tanh,self.sigmoid = nn.Tanh(),nn.Sigmoid()\n",
    "\n",
    "    def forward(self, x):\n",
    "        finallen = x.shape[-1]-2*pad\n",
    "        x = self.causal(x)\n",
    "        #print('x.shape',x.shape)\n",
    "        skip_connections = torch.zeros([1,skipDim,finallen],dtype=torch.float32,device=device)\n",
    "        for i, dilation in enumerate(dilations):\n",
    "            xinput = x.clone()[:,:,dilation:-dilation]\n",
    "            x1 = self.tanh(self.layer['tanh'+str(i)](x))\n",
    "            #print('tanh.shape',x1.shape)\n",
    "            x2 = self.sigmoid(self.layer['sigmoid'+str(i)](x))\n",
    "            #print('sigmoid.shape',x2.shape)\n",
    "            x = x1*x2\n",
    "            #print('multi',x3.shape)\n",
    "            cutlen = (x.shape[-1] - finallen)//2\n",
    "            skip_connections += (self.layer['skip'+str(i)](x)).narrow(2,int(cutlen),int(finallen))\n",
    "            #cur =self.layer['skip'+str(i)](x3)\n",
    "            x = self.layer['dense'+str(i)](x)\n",
    "            #print('dense.shape',x.shape)\n",
    "            x += xinput\n",
    "        x = self.post2(F.relu(self.post1(F.relu(skip_connections))))\n",
    "        return x\n",
    "\n",
    "model = Net().cuda()\n",
    "criterion = nn.CrossEntropyLoss().cuda()\n",
    "#optimizer = optim.SGD(model.parameters(), lr=args.lr, momentum=args.momentum)\n",
    "optimizer = optim.Adam(model.parameters(),weight_decay=1e-5)"
   ]
  },
  {
   "cell_type": "code",
   "execution_count": 12,
   "metadata": {
    "ExecuteTime": {
     "end_time": "2018-06-08T05:49:24.764010Z",
     "start_time": "2018-06-08T05:49:24.761655Z"
    },
    "collapsed": true
   },
   "outputs": [],
   "source": [
    "#torch.sum(c,dim=0,keepdim=True)"
   ]
  },
  {
   "cell_type": "code",
   "execution_count": 13,
   "metadata": {
    "ExecuteTime": {
     "end_time": "2018-06-08T05:49:24.769309Z",
     "start_time": "2018-06-08T05:49:24.765535Z"
    },
    "collapsed": true
   },
   "outputs": [],
   "source": [
    "#model = torch.load('torchmodel0.681600')"
   ]
  },
  {
   "cell_type": "code",
   "execution_count": null,
   "metadata": {
    "ExecuteTime": {
     "start_time": "2018-06-08T05:49:00.957Z"
    },
    "collapsed": true,
    "scrolled": true
   },
   "outputs": [],
   "source": [
    "def val():\n",
    "    model.eval()\n",
    "    startval_time = time.time()\n",
    "    with torch.no_grad():\n",
    "        #data, target = xval.to(device), yval.to(device)\n",
    "        data, target = xtrain[:,:,0:2*pad+shapeoftest].to(device), ytrain[:,pad:shapeoftest+pad].to(device)\n",
    "        output = model(data)\n",
    "        #print(output.shape)\n",
    "        #print(output[:,:,:10])\n",
    "        val_loss = criterion(output, target).item()\n",
    "    print('\\nval set:loss{:.4f}:, ({:.3f} sec/step)\\n'.format(val_loss,time.time()-startval_time))\n",
    "\n",
    "def test():\n",
    "    model.eval()\n",
    "    startval_time = time.time()\n",
    "    with torch.no_grad():\n",
    "        output = model(xtest.to(device))\n",
    "        pred = output.max(1, keepdim=True)[1].cpu().numpy().reshape(-1)\n",
    "        ans = mu_law_decode(pred)\n",
    "        sf.write('./vsCorpus/resultxte.wav', ans, sample_rate)\n",
    "        \n",
    "        #output = model(xtrain[:,:,:sampleSize].to(device))\n",
    "        output = model(xtrain[:,:,0:2*pad+shapeoftest].to(device))\n",
    "        pred = output.max(1, keepdim=True)[1].cpu().numpy().reshape(-1)\n",
    "        ans = mu_law_decode(pred)\n",
    "        sf.write('./vsCorpus/resultxtr.wav', ans, sample_rate)\n",
    "        print('stored done\\n')\n",
    "    \n",
    "def train(epoch):\n",
    "    model.train()\n",
    "    #idx = np.arange(xtrain.shape[-1] - 2 * sampleSize,1000)\n",
    "    #176000\n",
    "    idx = np.arange(pad,shapeoftest+pad-sampleSize,4000)\n",
    "    np.random.shuffle(idx)\n",
    "    for i, ind in enumerate(idx):\n",
    "        start_time = time.time()\n",
    "        data, target = xtrain[:,:,ind-pad:ind+sampleSize+pad].to(device), ytrain[:,ind:ind+sampleSize].to(device)\n",
    "        output = model(data)\n",
    "        #print(output.shape)\n",
    "        loss = criterion(output, target)\n",
    "        optimizer.zero_grad()\n",
    "        loss.backward()\n",
    "        optimizer.step()\n",
    "        print('Train Epoch: {} [{}/{} ({:.0f}%)] Loss:{:.6f}: , ({:.3f} sec/step)'.format(\n",
    "                epoch, i, len(idx),100. * i / len(idx), loss.item(),time.time() - start_time))\n",
    "        if i % 100 == 0:\n",
    "            val()\n",
    "            test()\n",
    "            torch.save(model, 'padonlyonside')"
   ]
  },
  {
   "cell_type": "code",
   "execution_count": null,
   "metadata": {
    "ExecuteTime": {
     "start_time": "2018-06-08T05:49:00.958Z"
    },
    "scrolled": true
   },
   "outputs": [
    {
     "name": "stdout",
     "output_type": "stream",
     "text": [
      "Train Epoch: 0 [0/36 (0%)] Loss:5.652875: , (2.562 sec/step)\n",
      "\n",
      "val set:loss5.5570:, (3.136 sec/step)\n",
      "\n",
      "stored done\n",
      "\n"
     ]
    },
    {
     "name": "stderr",
     "output_type": "stream",
     "text": [
      "/home/coder.chenshicheng/anaconda3/lib/python3.6/site-packages/torch/serialization.py:193: UserWarning: Couldn't retrieve source code for container of type Net. It won't be checked for correctness upon loading.\n",
      "  \"type \" + obj.__name__ + \". It won't be checked \"\n"
     ]
    },
    {
     "name": "stdout",
     "output_type": "stream",
     "text": [
      "Train Epoch: 0 [1/36 (3%)] Loss:5.555589: , (2.553 sec/step)\n",
      "Train Epoch: 0 [2/36 (6%)] Loss:5.520535: , (2.553 sec/step)\n",
      "Train Epoch: 0 [3/36 (8%)] Loss:5.452549: , (2.554 sec/step)\n",
      "Train Epoch: 0 [4/36 (11%)] Loss:5.378234: , (2.554 sec/step)\n",
      "Train Epoch: 0 [5/36 (14%)] Loss:5.356886: , (2.554 sec/step)\n",
      "Train Epoch: 0 [6/36 (17%)] Loss:5.331558: , (2.554 sec/step)\n",
      "Train Epoch: 0 [7/36 (19%)] Loss:5.322475: , (2.554 sec/step)\n",
      "Train Epoch: 0 [8/36 (22%)] Loss:5.268794: , (2.554 sec/step)\n",
      "Train Epoch: 0 [9/36 (25%)] Loss:5.272880: , (2.554 sec/step)\n",
      "Train Epoch: 0 [10/36 (28%)] Loss:5.236072: , (2.554 sec/step)\n",
      "Train Epoch: 0 [11/36 (31%)] Loss:5.187940: , (2.554 sec/step)\n",
      "Train Epoch: 0 [12/36 (33%)] Loss:5.140660: , (2.553 sec/step)\n"
     ]
    }
   ],
   "source": [
    "for epoch in range(100000):\n",
    "    train(epoch)\n",
    "    test()"
   ]
  },
  {
   "cell_type": "code",
   "execution_count": null,
   "metadata": {
    "ExecuteTime": {
     "start_time": "2018-06-08T05:49:00.959Z"
    },
    "collapsed": true
   },
   "outputs": [],
   "source": [
    "#model = torch.load('torchmodel')"
   ]
  },
  {
   "cell_type": "code",
   "execution_count": null,
   "metadata": {
    "ExecuteTime": {
     "start_time": "2018-06-08T05:49:00.960Z"
    }
   },
   "outputs": [],
   "source": [
    "#torch.save(model, 'loss23*1.+4*3.+16*2.step_9072_repeat15*2**8resu32sample50000')"
   ]
  }
 ],
 "metadata": {
  "gist": {
   "data": {
    "description": "MLalgorithm/mnistPyTorch.ipynb",
    "public": false
   },
   "id": ""
  },
  "kernelspec": {
   "display_name": "Python 3",
   "language": "python",
   "name": "python3"
  },
  "language_info": {
   "codemirror_mode": {
    "name": "ipython",
    "version": 3
   },
   "file_extension": ".py",
   "mimetype": "text/x-python",
   "name": "python",
   "nbconvert_exporter": "python",
   "pygments_lexer": "ipython3",
   "version": "3.6.3"
  }
 },
 "nbformat": 4,
 "nbformat_minor": 2
}
