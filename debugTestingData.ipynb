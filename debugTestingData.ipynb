{
 "cells": [
  {
   "cell_type": "code",
   "execution_count": 28,
   "metadata": {
    "ExecuteTime": {
     "end_time": "2018-06-05T13:03:45.234980Z",
     "start_time": "2018-06-05T13:03:35.822326Z"
    }
   },
   "outputs": [],
   "source": [
    "import soundfile as sf\n",
    "import librosa\n",
    "data, samplerate = sf.read('./vsCorpus/pred_mix1.wav', dtype='float32')\n",
    "data = librosa.resample(data.T, samplerate, 16000)\n",
    "data1, samplerate = sf.read('./vsCorpus/pred_vocal1.wav', dtype='float32')\n",
    "data1 = librosa.resample(data1.T, samplerate, 16000)\n",
    "data2, samplerate = sf.read('./vsCorpus/origin_mix1.wav', dtype='float32')\n",
    "data2 = librosa.resample(data2.T, samplerate, 16000)\n",
    "data3, samplerate = sf.read('./vsCorpus/origin_vocal1.wav', dtype='float32')\n",
    "data3 = librosa.resample(data3.T, samplerate, 16000)"
   ]
  },
  {
   "cell_type": "code",
   "execution_count": 29,
   "metadata": {
    "ExecuteTime": {
     "end_time": "2018-06-05T13:03:45.242982Z",
     "start_time": "2018-06-05T13:03:45.237637Z"
    }
   },
   "outputs": [
    {
     "data": {
      "text/plain": [
       "array([ -7.22203807e-12,  -1.52932337e-11,  -9.97911129e-12,\n",
       "         3.92560203e-12,   1.05848646e-11,   7.31068591e-12,\n",
       "         8.16305270e-12,   2.05217891e-11,   3.23678410e-11,\n",
       "         3.11952131e-11], dtype=float32)"
      ]
     },
     "execution_count": 29,
     "metadata": {},
     "output_type": "execute_result"
    }
   ],
   "source": [
    "data[:10]"
   ]
  },
  {
   "cell_type": "code",
   "execution_count": 33,
   "metadata": {
    "ExecuteTime": {
     "end_time": "2018-06-05T13:03:49.121346Z",
     "start_time": "2018-06-05T13:03:49.115573Z"
    }
   },
   "outputs": [
    {
     "data": {
      "text/plain": [
       "array([ 0.,  0.,  0.,  0.,  0.,  0.,  0.,  0.,  0.,  0.], dtype=float32)"
      ]
     },
     "execution_count": 33,
     "metadata": {},
     "output_type": "execute_result"
    }
   ],
   "source": [
    "data1[:10]"
   ]
  },
  {
   "cell_type": "code",
   "execution_count": 31,
   "metadata": {
    "ExecuteTime": {
     "end_time": "2018-06-05T13:03:45.262996Z",
     "start_time": "2018-06-05T13:03:45.257630Z"
    }
   },
   "outputs": [
    {
     "data": {
      "text/plain": [
       "array([ -2.15795490e-06,  -6.61070985e-08,   3.96237374e-06,\n",
       "         5.58997999e-06,   3.00582110e-06,  -8.91776267e-07,\n",
       "        -2.76391597e-06,  -2.46369018e-06,  -1.25341569e-06,\n",
       "         5.66152551e-07], dtype=float32)"
      ]
     },
     "execution_count": 31,
     "metadata": {},
     "output_type": "execute_result"
    }
   ],
   "source": [
    "data2[:10]"
   ]
  },
  {
   "cell_type": "code",
   "execution_count": 32,
   "metadata": {
    "ExecuteTime": {
     "end_time": "2018-06-05T13:03:45.270936Z",
     "start_time": "2018-06-05T13:03:45.265641Z"
    }
   },
   "outputs": [
    {
     "data": {
      "text/plain": [
       "array([  1.66189682e-06,   2.75776165e-06,   2.90012667e-06,\n",
       "         2.57056604e-06,   2.38669668e-06,   1.96469819e-06,\n",
       "         4.92079209e-07,  -1.87426156e-06,  -3.66090831e-06,\n",
       "        -3.17078434e-06], dtype=float32)"
      ]
     },
     "execution_count": 32,
     "metadata": {},
     "output_type": "execute_result"
    }
   ],
   "source": [
    "data3[:10]"
   ]
  },
  {
   "cell_type": "code",
   "execution_count": null,
   "metadata": {
    "collapsed": true
   },
   "outputs": [],
   "source": []
  }
 ],
 "metadata": {
  "kernelspec": {
   "display_name": "Python 3",
   "language": "python",
   "name": "python3"
  },
  "language_info": {
   "codemirror_mode": {
    "name": "ipython",
    "version": 3
   },
   "file_extension": ".py",
   "mimetype": "text/x-python",
   "name": "python",
   "nbconvert_exporter": "python",
   "pygments_lexer": "ipython3",
   "version": "3.6.3"
  }
 },
 "nbformat": 4,
 "nbformat_minor": 2
}
