{
 "cells": [
  {
   "cell_type": "code",
   "execution_count": 1,
   "metadata": {
    "ExecuteTime": {
     "end_time": "2018-06-27T10:21:30.113242Z",
     "start_time": "2018-06-27T10:21:28.532438Z"
    },
    "collapsed": true
   },
   "outputs": [],
   "source": [
    "from __future__ import print_function\n",
    "import argparse\n",
    "import torch\n",
    "import torch.nn as nn\n",
    "import torch.nn.functional as F\n",
    "import torch.optim as optim\n",
    "from torchvision import datasets, transforms\n",
    "import numpy as np\n",
    "import torch.utils.data as utils\n",
    "import librosa\n",
    "import soundfile as sf\n",
    "import time\n",
    "import os\n",
    "from torch.utils import data\n",
    "from wavenet2 import Wavenet\n",
    "from transformData import x_mu_law_encode,y_mu_law_encode,mu_law_decode,onehot,cateToSignal\n",
    "from readDataset3 import Dataset,Testset,RandomCrop,ToTensor\n",
    "from unet import Unet\n",
    "import h5py\n",
    "from sklearn.manifold import TSNE\n",
    "import matplotlib.pyplot as plt\n",
    "from sklearn.decomposition import PCA"
   ]
  },
  {
   "cell_type": "code",
   "execution_count": 6,
   "metadata": {
    "ExecuteTime": {
     "end_time": "2018-06-27T10:22:49.127262Z",
     "start_time": "2018-06-27T10:22:49.120304Z"
    }
   },
   "outputs": [
    {
     "data": {
      "text/plain": [
       "(2, 3)"
      ]
     },
     "execution_count": 6,
     "metadata": {},
     "output_type": "execute_result"
    }
   ],
   "source": [
    "y=np.arange(6).reshape(2,3)\n",
    "y.shape"
   ]
  },
  {
   "cell_type": "code",
   "execution_count": 8,
   "metadata": {
    "ExecuteTime": {
     "end_time": "2018-06-27T10:23:13.851524Z",
     "start_time": "2018-06-27T10:23:13.844273Z"
    }
   },
   "outputs": [
    {
     "data": {
      "text/plain": [
       "(2, 5)"
      ]
     },
     "execution_count": 8,
     "metadata": {},
     "output_type": "execute_result"
    }
   ],
   "source": [
    "np.pad(y, ((0,0),(1, 1)), 'constant').shape"
   ]
  },
  {
   "cell_type": "code",
   "execution_count": 40,
   "metadata": {
    "ExecuteTime": {
     "end_time": "2018-06-25T06:10:15.834679Z",
     "start_time": "2018-06-25T06:10:15.825564Z"
    }
   },
   "outputs": [
    {
     "data": {
      "text/plain": [
       "(array([0, 1, 2]), array([3, 2, 1]), array([0, 1, 2]))"
      ]
     },
     "execution_count": 40,
     "metadata": {},
     "output_type": "execute_result"
    }
   ],
   "source": [
    "a = np.arange(3)\n",
    "b = np.arange(3,0,-1)\n",
    "c = a\n",
    "a,b,c"
   ]
  },
  {
   "cell_type": "code",
   "execution_count": 41,
   "metadata": {
    "ExecuteTime": {
     "end_time": "2018-06-25T06:10:16.130381Z",
     "start_time": "2018-06-25T06:10:16.123817Z"
    }
   },
   "outputs": [
    {
     "data": {
      "text/plain": [
       "array([0, 3, 6])"
      ]
     },
     "execution_count": 41,
     "metadata": {},
     "output_type": "execute_result"
    }
   ],
   "source": [
    "a=a*3\n",
    "a"
   ]
  },
  {
   "cell_type": "code",
   "execution_count": 42,
   "metadata": {
    "ExecuteTime": {
     "end_time": "2018-06-25T06:10:16.580941Z",
     "start_time": "2018-06-25T06:10:16.575104Z"
    }
   },
   "outputs": [
    {
     "data": {
      "text/plain": [
       "array([0, 1, 2])"
      ]
     },
     "execution_count": 42,
     "metadata": {},
     "output_type": "execute_result"
    }
   ],
   "source": [
    "c"
   ]
  },
  {
   "cell_type": "code",
   "execution_count": 14,
   "metadata": {
    "ExecuteTime": {
     "end_time": "2018-06-24T14:07:25.135247Z",
     "start_time": "2018-06-24T14:07:25.129614Z"
    }
   },
   "outputs": [
    {
     "data": {
      "text/plain": [
       "0.7773904284255602"
      ]
     },
     "execution_count": 14,
     "metadata": {},
     "output_type": "execute_result"
    }
   ],
   "source": [
    "np.random.uniform(low=0.7, high=1.0)"
   ]
  },
  {
   "cell_type": "code",
   "execution_count": 16,
   "metadata": {
    "ExecuteTime": {
     "end_time": "2018-06-24T14:57:03.209858Z",
     "start_time": "2018-06-24T14:57:03.202790Z"
    }
   },
   "outputs": [
    {
     "data": {
      "text/plain": [
       "array([ 100.,  100.,  100.])"
      ]
     },
     "execution_count": 16,
     "metadata": {},
     "output_type": "execute_result"
    }
   ],
   "source": [
    "maxloss=np.zeros(3)+100\n",
    "maxloss"
   ]
  },
  {
   "cell_type": "code",
   "execution_count": 15,
   "metadata": {
    "ExecuteTime": {
     "end_time": "2018-06-24T14:18:03.125375Z",
     "start_time": "2018-06-24T14:18:03.120058Z"
    }
   },
   "outputs": [
    {
     "data": {
      "text/plain": [
       "15081"
      ]
     },
     "execution_count": 15,
     "metadata": {},
     "output_type": "execute_result"
    }
   ],
   "source": [
    "np.random.randint(0,16000)"
   ]
  },
  {
   "cell_type": "code",
   "execution_count": 1,
   "metadata": {
    "ExecuteTime": {
     "end_time": "2018-06-24T08:03:06.198965Z",
     "start_time": "2018-06-24T08:03:04.916052Z"
    },
    "collapsed": true
   },
   "outputs": [],
   "source": [
    "sampleSize = 16000  # the length of the sample size\n",
    "quantization_channels = 256\n",
    "sample_rate = 16000\n",
    "dilations = [2 ** i for i in range(9)] * 5  # idea from wavenet, have more receptive field\n",
    "residualDim = 128  #\n",
    "skipDim = 512\n",
    "shapeoftest = 190500\n",
    "songnum=10\n",
    "filterSize = 3\n",
    "savemusic='vsCorpus/nus1xtr{}.wav'\n",
    "#savemusic0='vsCorpus/nus10xtr{}.wav'\n",
    "#savemusic1='vsCorpus/nus11xtr{}.wav'\n",
    "resumefile = 'model/instrument1'  # name of checkpoint\n",
    "lossname = 'instrumentloss1.txt'  # name of loss file\n",
    "continueTrain = False  # whether use checkpoint\n",
    "pad = np.sum(dilations)  # padding for dilate convolutional layers\n",
    "lossrecord = []  # list for record loss\n",
    "sampleCnt=0\n",
    "#pad=0\n",
    "\n",
    "torch.manual_seed(1)\n",
    "device = 'cpu'\n",
    "\n",
    "criterion = nn.CrossEntropyLoss()"
   ]
  },
  {
   "cell_type": "code",
   "execution_count": 2,
   "metadata": {
    "ExecuteTime": {
     "end_time": "2018-06-24T08:22:23.389164Z",
     "start_time": "2018-06-24T08:03:06.202928Z"
    },
    "scrolled": true
   },
   "outputs": [
    {
     "name": "stdout",
     "output_type": "stream",
     "text": [
      "0 tensor(5.5028)\n",
      "1 tensor(5.3450)\n",
      "2 tensor(5.6793)\n",
      "3 tensor(5.1550)\n",
      "4 tensor(5.5261)\n",
      "5 tensor(5.0457)\n",
      "6 tensor(5.4245)\n",
      "7 tensor(5.4270)\n",
      "8 tensor(5.6446)\n",
      "9 tensor(5.3079)\n",
      "10 tensor(5.6124)\n",
      "11 tensor(5.6055)\n",
      "12 tensor(5.5964)\n",
      "13 tensor(4.9722)\n",
      "14 tensor(5.1419)\n",
      "15 tensor(5.2923)\n",
      "16 tensor(5.5219)\n",
      "17 tensor(5.3828)\n",
      "18 tensor(5.5032)\n",
      "19 tensor(5.6253)\n",
      "20 tensor(5.3085)\n",
      "21 tensor(5.2654)\n",
      "22 tensor(5.3415)\n",
      "23 tensor(5.2641)\n",
      "24 tensor(5.5869)\n",
      "25 tensor(5.4867)\n",
      "26 tensor(5.7108)\n",
      "27 tensor(5.1286)\n",
      "28 tensor(4.8651)\n",
      "29 tensor(5.0458)\n",
      "30 tensor(5.5764)\n",
      "31 tensor(5.1399)\n",
      "32 tensor(5.4483)\n",
      "33 tensor(5.2191)\n",
      "34 tensor(5.4519)\n",
      "35 tensor(5.4651)\n",
      "36 tensor(5.5777)\n",
      "37 tensor(5.4494)\n",
      "38 tensor(5.2502)\n",
      "39 tensor(5.3443)\n",
      "40 tensor(5.5065)\n",
      "41 tensor(5.0098)\n",
      "42 tensor(5.4625)\n",
      "43 tensor(5.0099)\n",
      "44 tensor(5.2300)\n",
      "45 tensor(5.4674)\n",
      "46 tensor(5.1589)\n",
      "47 tensor(5.4645)\n",
      "48 tensor(5.4020)\n",
      "49 tensor(5.2045)\n"
     ]
    }
   ],
   "source": [
    "for i in range(50):\n",
    "    h5f = h5py.File('ccmixter3/' + str(i) + '.h5', 'r')\n",
    "    x, y = h5f['x'][:], h5f['y'][:]#, h5f['z'][:]\n",
    "    x = y_mu_law_encode(x)\n",
    "    y = y_mu_law_encode(y)\n",
    "    x = onehot(x.astype(int))\n",
    "    x = x.transpose((1,0))\n",
    "    x = torch.from_numpy(x.reshape(1,256,-1)).type(torch.float32)\n",
    "    y = torch.from_numpy(y.reshape(1,-1)).type(torch.LongTensor)\n",
    "    loss = criterion(x, y)\n",
    "    print(i,loss)\n",
    "    h5f.close()"
   ]
  },
  {
   "cell_type": "code",
   "execution_count": 99,
   "metadata": {
    "ExecuteTime": {
     "end_time": "2018-06-25T13:33:07.645257Z",
     "start_time": "2018-06-25T13:33:07.305794Z"
    }
   },
   "outputs": [
    {
     "name": "stdout",
     "output_type": "stream",
     "text": [
      "1237160\n"
     ]
    }
   ],
   "source": [
    "my=[]\n",
    "maxlen=100000000\n",
    "for i in range(50):\n",
    "    h5f = h5py.File('ccmixter3/' + str(i) + '.h5', 'r')\n",
    "    x = h5f['x'][:]\n",
    "    #x = x_mu_law_encode(x)\n",
    "    #mx.append(x)\n",
    "    maxlen=min(maxlen,x.shape[-1])\n",
    "    h5f.close()\n",
    "print(maxlen)"
   ]
  },
  {
   "cell_type": "code",
   "execution_count": 101,
   "metadata": {
    "ExecuteTime": {
     "end_time": "2018-06-25T13:33:23.574579Z",
     "start_time": "2018-06-25T13:33:22.892741Z"
    },
    "collapsed": true
   },
   "outputs": [],
   "source": [
    "for i in range(50):\n",
    "    h5f = h5py.File('ccmixter3/' + str(i) + '.h5', 'r')\n",
    "    y = h5f['y'][:]\n",
    "    #x = x_mu_law_encode(x)\n",
    "    my.append(y[:maxlen].reshape(1,-1))\n",
    "    h5f.close()\n",
    "my = np.concatenate(my,axis=0)"
   ]
  },
  {
   "cell_type": "code",
   "execution_count": 102,
   "metadata": {
    "ExecuteTime": {
     "end_time": "2018-06-25T13:33:31.567437Z",
     "start_time": "2018-06-25T13:33:31.561118Z"
    }
   },
   "outputs": [
    {
     "data": {
      "text/plain": [
       "(50, 1237160)"
      ]
     },
     "execution_count": 102,
     "metadata": {},
     "output_type": "execute_result"
    }
   ],
   "source": [
    "my.shape"
   ]
  },
  {
   "cell_type": "code",
   "execution_count": 61,
   "metadata": {
    "ExecuteTime": {
     "end_time": "2018-06-25T08:15:01.415651Z",
     "start_time": "2018-06-25T08:14:57.784273Z"
    }
   },
   "outputs": [
    {
     "data": {
      "text/plain": [
       "(50, 50)"
      ]
     },
     "execution_count": 61,
     "metadata": {},
     "output_type": "execute_result"
    }
   ],
   "source": [
    "pca = PCA()\n",
    "pca.fit(mx)\n",
    "pmx=pca.transform(my)\n",
    "pmx.shape"
   ]
  },
  {
   "cell_type": "code",
   "execution_count": 103,
   "metadata": {
    "ExecuteTime": {
     "end_time": "2018-06-25T13:33:45.118347Z",
     "start_time": "2018-06-25T13:33:44.425403Z"
    }
   },
   "outputs": [
    {
     "data": {
      "text/plain": [
       "(50, 2)"
      ]
     },
     "execution_count": 103,
     "metadata": {},
     "output_type": "execute_result"
    }
   ],
   "source": [
    "X_embedded = TSNE(n_components=2).fit_transform(my)\n",
    "X_embedded.shape"
   ]
  },
  {
   "cell_type": "code",
   "execution_count": 104,
   "metadata": {
    "ExecuteTime": {
     "end_time": "2018-06-25T13:33:45.952376Z",
     "start_time": "2018-06-25T13:33:45.739937Z"
    }
   },
   "outputs": [
    {
     "data": {
      "image/png": "[encoded data removed]",
      "text/plain": [
       "<matplotlib.figure.Figure at 0x7f55cddf5b38>"
      ]
     },
     "metadata": {},
     "output_type": "display_data"
    }
   ],
   "source": [
    "fig, ax = plt.subplots()\n",
    "txt = np.arange(50)\n",
    "ax.scatter(X_embedded[:,0],X_embedded[:,1])\n",
    "for i, t in enumerate(txt):\n",
    "    ax.annotate(t, (X_embedded[i,0],X_embedded[i,1]))\n",
    "plt.show()"
   ]
  },
  {
   "cell_type": "code",
   "execution_count": null,
   "metadata": {
    "collapsed": true
   },
   "outputs": [],
   "source": [
    "#window = functools.partial(window_ops.hann_window, periodic=True)"
   ]
  },
  {
   "cell_type": "code",
   "execution_count": null,
   "metadata": {
    "collapsed": true
   },
   "outputs": [],
   "source": [
    "#stfts = tf.contrib.signal.stft(tf.squeeze(real_source, 2), frame_length=1024, frame_step=768,\n",
    "#                                           fft_length=1024, window_fn=window)"
   ]
  },
  {
   "cell_type": "code",
   "execution_count": 133,
   "metadata": {
    "ExecuteTime": {
     "end_time": "2018-06-26T15:29:35.792231Z",
     "start_time": "2018-06-26T15:29:35.782169Z"
    }
   },
   "outputs": [
    {
     "data": {
      "text/plain": [
       "(3463074,)"
      ]
     },
     "execution_count": 133,
     "metadata": {},
     "output_type": "execute_result"
    }
   ],
   "source": [
    "x.shape"
   ]
  },
  {
   "cell_type": "code",
   "execution_count": 134,
   "metadata": {
    "ExecuteTime": {
     "end_time": "2018-06-26T15:29:36.294546Z",
     "start_time": "2018-06-26T15:29:36.024274Z"
    }
   },
   "outputs": [
    {
     "data": {
      "text/plain": [
       "(513, 13528)"
      ]
     },
     "execution_count": 134,
     "metadata": {},
     "output_type": "execute_result"
    }
   ],
   "source": [
    "d=librosa.stft(x, 1024, 256, 1024)\n",
    "d.shape"
   ]
  },
  {
   "cell_type": "code",
   "execution_count": 148,
   "metadata": {
    "ExecuteTime": {
     "end_time": "2018-06-27T08:00:45.711290Z",
     "start_time": "2018-06-27T08:00:45.705441Z"
    }
   },
   "outputs": [
    {
     "data": {
      "text/plain": [
       "0.0"
      ]
     },
     "execution_count": 148,
     "metadata": {},
     "output_type": "execute_result"
    }
   ],
   "source": [
    "d[0][0].imag"
   ]
  },
  {
   "cell_type": "code",
   "execution_count": 149,
   "metadata": {
    "ExecuteTime": {
     "end_time": "2018-06-27T08:00:46.042084Z",
     "start_time": "2018-06-27T08:00:46.036506Z"
    }
   },
   "outputs": [
    {
     "data": {
      "text/plain": [
       "-0.0074171498"
      ]
     },
     "execution_count": 149,
     "metadata": {},
     "output_type": "execute_result"
    }
   ],
   "source": [
    "d[0][0].real"
   ]
  },
  {
   "cell_type": "code",
   "execution_count": 160,
   "metadata": {
    "ExecuteTime": {
     "end_time": "2018-06-27T08:43:47.183352Z",
     "start_time": "2018-06-27T08:43:47.176378Z"
    }
   },
   "outputs": [
    {
     "data": {
      "text/plain": [
       "(2, 6)"
      ]
     },
     "execution_count": 160,
     "metadata": {},
     "output_type": "execute_result"
    }
   ],
   "source": [
    "np.concatenate((np.arange(6).reshape(2,3),np.arange(6).reshape(2,3)),axis=-1).shape"
   ]
  },
  {
   "cell_type": "code",
   "execution_count": 155,
   "metadata": {
    "ExecuteTime": {
     "end_time": "2018-06-27T08:35:22.215401Z",
     "start_time": "2018-06-27T08:35:22.206767Z"
    }
   },
   "outputs": [
    {
     "data": {
      "text/plain": [
       "array([ 1.+2.j,  2.+4.j,  3.+6.j])"
      ]
     },
     "execution_count": 155,
     "metadata": {},
     "output_type": "execute_result"
    }
   ],
   "source": [
    "a = np.array([1,2,3]).astype(complex)\n",
    "a.imag = np.array([2,4,6])\n",
    "a"
   ]
  },
  {
   "cell_type": "code",
   "execution_count": 135,
   "metadata": {
    "ExecuteTime": {
     "end_time": "2018-06-26T15:29:37.405465Z",
     "start_time": "2018-06-26T15:29:36.657207Z"
    }
   },
   "outputs": [
    {
     "data": {
      "text/plain": [
       "(3462912,)"
      ]
     },
     "execution_count": 135,
     "metadata": {},
     "output_type": "execute_result"
    }
   ],
   "source": [
    "xx=librosa.core.istft(d, hop_length=256)\n",
    "xx.shape"
   ]
  },
  {
   "cell_type": "code",
   "execution_count": 108,
   "metadata": {
    "ExecuteTime": {
     "end_time": "2018-06-25T15:32:57.581826Z",
     "start_time": "2018-06-25T15:32:57.381238Z"
    }
   },
   "outputs": [
    {
     "data": {
      "text/plain": [
       "(513, 13528)"
      ]
     },
     "execution_count": 108,
     "metadata": {},
     "output_type": "execute_result"
    }
   ],
   "source": [
    "d=librosa.core.stft(x, n_fft=1024, hop_length=256, win_length=1024)\n",
    "d.shape"
   ]
  },
  {
   "cell_type": "code",
   "execution_count": 110,
   "metadata": {
    "ExecuteTime": {
     "end_time": "2018-06-25T15:33:10.927379Z",
     "start_time": "2018-06-25T15:33:10.444630Z"
    }
   },
   "outputs": [
    {
     "data": {
      "text/plain": [
       "(3462912,)"
      ]
     },
     "execution_count": 110,
     "metadata": {},
     "output_type": "execute_result"
    }
   ],
   "source": [
    "xx=librosa.core.istft(d, hop_length=256)\n",
    "xx.shape"
   ]
  },
  {
   "cell_type": "code",
   "execution_count": null,
   "metadata": {
    "collapsed": true
   },
   "outputs": [],
   "source": []
  }
 ],
 "metadata": {
  "kernelspec": {
   "display_name": "Python 3",
   "language": "python",
   "name": "python3"
  },
  "language_info": {
   "codemirror_mode": {
    "name": "ipython",
    "version": 3
   },
   "file_extension": ".py",
   "mimetype": "text/x-python",
   "name": "python",
   "nbconvert_exporter": "python",
   "pygments_lexer": "ipython3",
   "version": "3.6.3"
  }
 },
 "nbformat": 4,
 "nbformat_minor": 2
}
