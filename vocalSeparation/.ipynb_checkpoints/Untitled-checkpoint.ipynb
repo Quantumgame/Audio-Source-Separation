{
 "cells": [
  {
   "cell_type": "code",
   "execution_count": null,
   "metadata": {
    "collapsed": true
   },
   "outputs": [],
   "source": [
    "import os\n",
    "import numpy as np\n",
    "import librosa\n",
    "import hyperparams as hp\n",
    "\n",
    "def load_data():\n",
    "    mixtures, vocals = list(), list()\n",
    "    for path, subdirs, files in os.walk('./data/DSD100/Mixtures/Dev'):\n",
    "        for name in [f for f in files if f.endswith(\".wav\")]:\n",
    "            # a = librosa.load(os.path.join(path, name), sr=44100)[0].shape\n",
    "            mixtures.append(os.path.join(path, name))\n",
    "\n",
    "    for path, subdirs, files in os.walk('./data/DSD100/Sources/Dev'):\n",
    "        for subdir in subdirs:\n",
    "            vocal = os.path.join(os.path.join(path, subdir), \"vocals.wav\")\n",
    "            vocals.append(vocal)\n",
    "\n",
    "    num_wavs = len(mixtures)\n",
    "\n",
    "    return mixtures, vocals, num_wavs\n",
    "\n",
    "def get_rawwave(_input):\n",
    "    return librosa.load(_input, sr=hp.sample_rate)\n",
    "\n",
    "def make_rawdata(is_training=True, name=\"data\"):\n",
    "\n",
    "    m, v, n = load_data()\n",
    "    arrays = []\n",
    "    arrays_2 = []\n",
    "    for i, j in zip(m, v):\n",
    "        data = get_rawwave(i)[0]\n",
    "        lens = len(data) // hp.timestep\n",
    "        arrays.append(np.expand_dims(np.reshape(data[:hp.timestep * lens], [-1, hp.timestep]), -1))\n",
    "\n",
    "        if is_training:\n",
    "            data_2 = get_rawwave(j)[0]\n",
    "            arrays_2.append(np.expand_dims(np.reshape(data_2[:hp.timestep * lens], [-1, hp.timestep]), -1))\n",
    "    print np.vstack(arrays).shape\n",
    "    np.save(\"./data/mixtures_%s.npy\" % name, np.vstack(arrays))\n",
    "    if is_training:\n",
    "        np.save(\"./data/vocals.npy\", np.vstack(arrays_2))\n",
    "\n",
    "def dataset_shuffling(x, y):\n",
    "    shuffled_idx = np.arange(len(y))\n",
    "    np.random.shuffle(shuffled_idx)\n",
    "    return x[shuffled_idx, :], y[shuffled_idx, :]\n",
    "\n",
    "def get_batch(x, y, curr_index, batch_size):\n",
    "    batch_x = x[curr_index * batch_size: (curr_index+1)*batch_size]\n",
    "    batch_y = y[curr_index * batch_size: (curr_index+1)*batch_size]\n",
    "    return batch_x, batch_y\n",
    "\n",
    "if __name__ == '__main__':\n",
    "    make_rawdata(is_training=hp.is_training)\n"
   ]
  }
 ],
 "metadata": {
  "kernelspec": {
   "display_name": "Python 3",
   "language": "python",
   "name": "python3"
  },
  "language_info": {
   "codemirror_mode": {
    "name": "ipython",
    "version": 3
   },
   "file_extension": ".py",
   "mimetype": "text/x-python",
   "name": "python",
   "nbconvert_exporter": "python",
   "pygments_lexer": "ipython3",
   "version": "3.6.3"
  }
 },
 "nbformat": 4,
 "nbformat_minor": 2
}
