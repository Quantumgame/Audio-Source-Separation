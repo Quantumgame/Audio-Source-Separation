{
 "cells": [
  {
   "cell_type": "code",
   "execution_count": 6,
   "metadata": {
    "ExecuteTime": {
     "end_time": "2018-06-06T09:25:14.033051Z",
     "start_time": "2018-06-06T09:25:14.026480Z"
    },
    "collapsed": true
   },
   "outputs": [],
   "source": [
    "import tensorflow as tf\n",
    "import numpy as np\n",
    "tf.logging.set_verbosity(tf.logging.INFO)"
   ]
  },
  {
   "cell_type": "code",
   "execution_count": 19,
   "metadata": {
    "ExecuteTime": {
     "end_time": "2018-06-06T09:40:36.282610Z",
     "start_time": "2018-06-06T09:40:36.256471Z"
    }
   },
   "outputs": [
    {
     "ename": "TypeError",
     "evalue": "atrous_conv2d() got an unexpected keyword argument 'stride'",
     "output_type": "error",
     "traceback": [
      "\u001b[0;31m---------------------------------------------------------------------------\u001b[0m",
      "\u001b[0;31mTypeError\u001b[0m                                 Traceback (most recent call last)",
      "\u001b[0;32m<ipython-input-19-a6d75cf1bcb2>\u001b[0m in \u001b[0;36m<module>\u001b[0;34m()\u001b[0m\n\u001b[1;32m      6\u001b[0m     \u001b[0mstride\u001b[0m\u001b[0;34m=\u001b[0m\u001b[0;36m1\u001b[0m\u001b[0;34m,\u001b[0m\u001b[0;34m\u001b[0m\u001b[0m\n\u001b[1;32m      7\u001b[0m     \u001b[0mrate\u001b[0m\u001b[0;34m=\u001b[0m\u001b[0;36m2\u001b[0m\u001b[0;34m,\u001b[0m\u001b[0;34m\u001b[0m\u001b[0m\n\u001b[0;32m----> 8\u001b[0;31m     \u001b[0mpadding\u001b[0m\u001b[0;34m=\u001b[0m\u001b[0;34m'VALID'\u001b[0m\u001b[0;34m,\u001b[0m\u001b[0;34m\u001b[0m\u001b[0m\n\u001b[0m\u001b[1;32m      9\u001b[0m )\n\u001b[1;32m     10\u001b[0m \u001b[0;32mwith\u001b[0m \u001b[0mtf\u001b[0m\u001b[0;34m.\u001b[0m\u001b[0mSession\u001b[0m\u001b[0;34m(\u001b[0m\u001b[0;34m)\u001b[0m \u001b[0;32mas\u001b[0m \u001b[0msess\u001b[0m\u001b[0;34m:\u001b[0m\u001b[0;34m\u001b[0m\u001b[0m\n",
      "\u001b[0;31mTypeError\u001b[0m: atrous_conv2d() got an unexpected keyword argument 'stride'"
     ]
    }
   ],
   "source": [
    "x = tf.convert_to_tensor(np.array([1.0, 2.0, 3.0,4.0]).reshape(1,-1,1))\n",
    "filters = tf.convert_to_tensor(np.array([2.0, 1.0]).reshape(2,1,1))\n",
    "conv=tf.nn.convolution(\n",
    "    value=x,\n",
    "    filters=filters,\n",
    "    stride=1,\n",
    "    dilation_rate=2,\n",
    "    padding='VALID',\n",
    ")\n",
    "with tf.Session() as sess:\n",
    "    print(sess.run(conv))"
   ]
  },
  {
   "cell_type": "code",
   "execution_count": 2,
   "metadata": {
    "ExecuteTime": {
     "end_time": "2018-06-04T12:05:41.535930Z",
     "start_time": "2018-06-04T12:05:37.414472Z"
    }
   },
   "outputs": [
    {
     "name": "stdout",
     "output_type": "stream",
     "text": [
      "[<tf.Variable 'fc1/weights:0' shape=(2, 2) dtype=float32_ref>, <tf.Variable 'fc1/biases:0' shape=(2,) dtype=float32_ref>]\n"
     ]
    }
   ],
   "source": [
    "#w = tf.Variable([[0.01,0.2],[0.3,0.4]],trainable=True,dtype=tf.float32)\n",
    "x = tf.Variable([[0.1,0.2],[0.3,0.4]],trainable=False,dtype=tf.float32)\n",
    "label = tf.Variable([[0,1],[0,1]],trainable=False,dtype=tf.float32)\n",
    "opt = tf.train.AdamOptimizer()\n",
    "l1=tf.contrib.layers.l1_regularizer(scale=0.005)\n",
    "yhat=tf.contrib.layers.fully_connected(inputs=x,num_outputs=2,scope='fc1')\n",
    "loss = tf.nn.softmax_cross_entropy_with_logits_v2(labels=label,logits=yhat)\n",
    "loss = tf.reduce_mean(loss)\n",
    "trainable = tf.trainable_variables()\n",
    "l1loss = tf.contrib.layers.apply_regularization(l1,trainable)\n",
    "optim = opt.minimize(loss+l1loss, var_list=trainable)\n",
    "\n",
    "trainable = tf.get_collection('trainable_variables')\n",
    "print(var_class)\n",
    "ema = tf.train.ExponentialMovingAverage(decay=0.999,name='EMA')\n",
    "ema_op = ema.apply(trainable)\n",
    "\n",
    "init = tf.global_variables_initializer()"
   ]
  },
  {
   "cell_type": "code",
   "execution_count": 4,
   "metadata": {
    "ExecuteTime": {
     "end_time": "2018-06-04T12:05:52.068812Z",
     "start_time": "2018-06-04T12:05:51.044303Z"
    },
    "collapsed": true
   },
   "outputs": [],
   "source": [
    "sess = tf.InteractiveSession()\n",
    "sess.run(init) "
   ]
  },
  {
   "cell_type": "code",
   "execution_count": 5,
   "metadata": {
    "ExecuteTime": {
     "end_time": "2018-06-04T12:05:53.437024Z",
     "start_time": "2018-06-04T12:05:52.880094Z"
    },
    "scrolled": true
   },
   "outputs": [
    {
     "name": "stdout",
     "output_type": "stream",
     "text": [
      "[array([[-0.46707523,  0.06428397],\n",
      "       [-0.68007368, -0.10481584]], dtype=float32), array([ 0.,  0.], dtype=float32)]\n",
      "[[ 0.  0.]\n",
      " [ 0.  0.]]\n",
      "0.693147\n",
      "0.00658124\n",
      "None\n",
      "[[ 0.1         0.2       ]\n",
      " [ 0.30000001  0.40000001]]\n",
      "[[-0.4660753   0.06328403]\n",
      " [-0.67907375 -0.10381591]]\n",
      "[ 0.  0.]\n",
      "None\n"
     ]
    }
   ],
   "source": [
    "print(sess.run(trainable))\n",
    "print(sess.run(yhat))\n",
    "print(sess.run(loss))\n",
    "print(sess.run(l1loss))    \n",
    "print(sess.run(optim))\n",
    "print(x.eval())\n",
    "all_vars= tf.global_variables()\n",
    "def get_var(name):\n",
    "    for i in range(len(all_vars)):\n",
    "        if all_vars[i].name.startswith(name):\n",
    "            return all_vars[i]\n",
    "    return None\n",
    "print(get_var('fc1/weights').eval())\n",
    "print(get_var('fc1/biases').eval())\n",
    "\n",
    "print(sess.run(ema_op))"
   ]
  },
  {
   "cell_type": "code",
   "execution_count": 13,
   "metadata": {
    "ExecuteTime": {
     "end_time": "2018-06-04T12:08:46.050705Z",
     "start_time": "2018-06-04T12:08:46.045225Z"
    }
   },
   "outputs": [
    {
     "data": {
      "text/plain": [
       "[<tf.Variable 'fc1/weights:0' shape=(2, 2) dtype=float32_ref>,\n",
       " <tf.Variable 'fc1/biases:0' shape=(2,) dtype=float32_ref>]"
      ]
     },
     "execution_count": 13,
     "metadata": {},
     "output_type": "execute_result"
    }
   ],
   "source": [
    "tf.get_collection('trainable_variables')"
   ]
  },
  {
   "cell_type": "code",
   "execution_count": 17,
   "metadata": {
    "ExecuteTime": {
     "end_time": "2018-06-04T12:10:03.294215Z",
     "start_time": "2018-06-04T12:10:03.287977Z"
    }
   },
   "outputs": [
    {
     "data": {
      "text/plain": [
       "'fc1/biases/EMA'"
      ]
     },
     "execution_count": 17,
     "metadata": {},
     "output_type": "execute_result"
    }
   ],
   "source": [
    "ema.average_name(trainable[1])"
   ]
  },
  {
   "cell_type": "code",
   "execution_count": 5,
   "metadata": {
    "ExecuteTime": {
     "end_time": "2018-06-05T03:42:26.113186Z",
     "start_time": "2018-06-05T03:42:25.997532Z"
    }
   },
   "outputs": [
    {
     "name": "stdout",
     "output_type": "stream",
     "text": [
      "y_hat_softmax:\n",
      "[[ 0.227863    0.61939586  0.15274114]\n",
      " [ 0.49674623  0.20196195  0.30129182]]\n",
      "\n",
      "y_true: \n",
      "[[ 0.  1.  0.]\n",
      " [ 0.  0.  1.]]\n",
      "\n",
      "y_cross: \n",
      "[[-0.         -0.4790107  -0.        ]\n",
      " [-0.         -0.         -1.19967598]]\n",
      "\n",
      "result: \n",
      "[ 0.4790107   1.19967598]\n",
      "\n",
      "result_tf: \n",
      "[ 0.4790107   1.19967598]\n",
      "argmax [1 0]\n"
     ]
    }
   ],
   "source": [
    "y_true = tf.convert_to_tensor(np.array([[0.0, 1.0, 0.0],[0.0, 0.0, 1.0]]))\n",
    "y_hat = tf.convert_to_tensor(np.array([[0.5, 1.5, 0.1],[2.2, 1.3, 1.7]]))\n",
    "y_hat_softmax = tf.nn.softmax(y_hat)\n",
    "y_cross = y_true * tf.log(y_hat_softmax)\n",
    "result = - tf.reduce_sum(y_cross, 1)\n",
    "result_tf = tf.nn.softmax_cross_entropy_with_logits_v2(labels = y_true, logits = y_hat)\n",
    "with tf.Session() as sess:\n",
    "    sess.run(result)\n",
    "    sess.run(result_tf)\n",
    "    print('y_hat_softmax:\\n{0}\\n'.format(y_hat_softmax.eval()))\n",
    "    print('y_true: \\n{0}\\n'.format(y_true.eval()))\n",
    "    print('y_cross: \\n{0}\\n'.format(y_cross.eval()))\n",
    "    print('result: \\n{0}\\n'.format(result.eval()))\n",
    "    print('result_tf: \\n{0}'.format(result_tf.eval()))\n",
    "    print('argmax',sess.run(tf.argmax(y_hat_softmax,axis=1)))"
   ]
  },
  {
   "cell_type": "code",
   "execution_count": null,
   "metadata": {
    "ExecuteTime": {
     "end_time": "2018-06-03T13:41:20.474346Z",
     "start_time": "2018-06-03T13:41:12.903Z"
    },
    "collapsed": true
   },
   "outputs": [],
   "source": [
    "x = tf.Variable([1.0,0.0])\n",
    "with tf.Session() as sess:\n",
    "    sess.run(x.initializer)\n",
    "    y = tf.nn.softmax(x)\n",
    "    sess.run(y)\n",
    "    y = tf.Print(y,[y])\n",
    "    sess.run(y)\n",
    "    print(y.eval())"
   ]
  },
  {
   "cell_type": "code",
   "execution_count": null,
   "metadata": {
    "ExecuteTime": {
     "end_time": "2018-06-03T13:41:20.475460Z",
     "start_time": "2018-06-03T13:41:12.904Z"
    },
    "collapsed": true
   },
   "outputs": [],
   "source": [
    "x = tf.Variable([[1.0,0.0],[0.1,0.5]])\n",
    "y = tf.Variable([0,1])\n",
    "with tf.Session() as sess:\n",
    "    sess.run(tf.global_variables_initializer())\n",
    "    loss = tf.nn.softmax_cross_entropy_with_logits_v2(logits=x,labels=y)\n",
    "    sess.run(loss)\n",
    "    print(loss.eval())\n"
   ]
  },
  {
   "cell_type": "code",
   "execution_count": null,
   "metadata": {
    "ExecuteTime": {
     "end_time": "2018-06-03T13:41:20.476385Z",
     "start_time": "2018-06-03T13:41:12.906Z"
    },
    "collapsed": true
   },
   "outputs": [],
   "source": [
    "import tensorflow as tf\n",
    "sess = tf.InteractiveSession()\n",
    "#sess = tf.Session()\n",
    "a = tf.Variable(5.0)\n",
    "b = tf.Variable(6.0)\n",
    "sess.run(tf.global_variables_initializer())\n",
    "print(sess.run(tf.report_uninitialized_variables()))\n",
    "c = a * b\n",
    "# We can just use 'c.eval()' without passing 'sess'\n",
    "print(c.eval())\n",
    "sess.close()"
   ]
  },
  {
   "cell_type": "code",
   "execution_count": null,
   "metadata": {
    "ExecuteTime": {
     "end_time": "2018-06-03T13:41:20.477465Z",
     "start_time": "2018-06-03T13:41:12.907Z"
    },
    "collapsed": true
   },
   "outputs": [],
   "source": [
    "'''from scipy.io import wavfile\n",
    "rate,data = wavfile.read('./vocalSeparation/origin_mix.wav')\n",
    "rate1,data1 = wavfile.read('./vocalSeparation/origin_vocal.wav')\n",
    "rate2,data2 = wavfile.read('./vocalSeparation/pred_mix.wav')\n",
    "rate3,data3 = wavfile.read('./vocalSeparation/pred_vocal.wav')\n",
    "print(data.shape,data1.shape,data2.shape,data3.shape)'''\n",
    "#scipy.io.wavfile.write('./vocalSeparation/morigin_mix.wav',rate,data)"
   ]
  },
  {
   "cell_type": "code",
   "execution_count": 2,
   "metadata": {
    "ExecuteTime": {
     "end_time": "2018-06-04T12:20:32.909992Z",
     "start_time": "2018-06-04T12:20:32.873098Z"
    },
    "collapsed": true
   },
   "outputs": [],
   "source": [
    "from IPython.display import clear_output, Image, display, HTML\n",
    "\n",
    "def strip_consts(graph_def, max_const_size=32):\n",
    "    \"\"\"Strip large constant values from graph_def.\"\"\"\n",
    "    strip_def = tf.GraphDef()\n",
    "    for n0 in graph_def.node:\n",
    "        n = strip_def.node.add() \n",
    "        n.MergeFrom(n0)\n",
    "        if n.op == 'Const':\n",
    "            tensor = n.attr['value'].tensor\n",
    "            size = len(tensor.tensor_content)\n",
    "            if size > max_const_size:\n",
    "                tensor.tensor_content = \"<stripped %d bytes>\"%size\n",
    "    return strip_def\n",
    "\n",
    "def show_graph(graph_def, max_const_size=32):\n",
    "    \"\"\"Visualize TensorFlow graph.\"\"\"\n",
    "    if hasattr(graph_def, 'as_graph_def'):\n",
    "        graph_def = graph_def.as_graph_def()\n",
    "    strip_def = strip_consts(graph_def, max_const_size=max_const_size)\n",
    "    code = \"\"\"\n",
    "        <script>\n",
    "          function load() {{\n",
    "            document.getElementById(\"{id}\").pbtxt = {data};\n",
    "          }}\n",
    "        </script>\n",
    "        <link rel=\"import\" href=\"https://tensorboard.appspot.com/tf-graph-basic.build.html\" onload=load()>\n",
    "        <div style=\"height:600px\">\n",
    "          <tf-graph-basic id=\"{id}\"></tf-graph-basic>\n",
    "        </div>\n",
    "    \"\"\".format(data=repr(str(strip_def)), id='graph'+str(np.random.rand()))\n",
    "\n",
    "    iframe = \"\"\"\n",
    "        <iframe seamless style=\"width:1200px;height:620px;border:0\" srcdoc=\"{}\"></iframe>\n",
    "    \"\"\".format(code.replace('\"', '&quot;'))\n",
    "    display(HTML(iframe))"
   ]
  },
  {
   "cell_type": "code",
   "execution_count": 7,
   "metadata": {
    "ExecuteTime": {
     "end_time": "2018-06-04T12:22:31.192001Z",
     "start_time": "2018-06-04T12:22:31.161861Z"
    },
    "collapsed": true
   },
   "outputs": [],
   "source": [
    "import tensorflow as tf\n",
    "import numpy as np\n",
    "with tf.name_scope(\"Scope_A\"):\n",
    "    a = tf.add(1, 2, name=\"A_add\")\n",
    "    b = tf.multiply(a, 3, name=\"A_mul\")\n",
    "with tf.name_scope(\"Scope_B\"):\n",
    "    c = tf.add(4, 5, name=\"B_add\")\n",
    "    d = tf.multiply(c, 6, name=\"B_mul\")\n",
    "e = tf.add(b, d, name=\"output\")\n",
    "writer = tf.summary.FileWriter('./name_scope', graph=tf.get_default_graph())\n",
    "writer.close()"
   ]
  },
  {
   "cell_type": "code",
   "execution_count": 8,
   "metadata": {
    "ExecuteTime": {
     "end_time": "2018-06-04T12:22:31.836712Z",
     "start_time": "2018-06-04T12:22:31.828573Z"
    }
   },
   "outputs": [
    {
     "data": {
      "text/html": [
       "\n",
       "        <iframe seamless style=\"width:1200px;height:620px;border:0\" srcdoc=\"\n",
       "        <script>\n",
       "          function load() {\n",
       "            document.getElementById(&quot;graph0.7966850452508809&quot;).pbtxt = 'node {\\n  name: &quot;Scope_A/A_add/x&quot;\\n  op: &quot;Const&quot;\\n  attr {\\n    key: &quot;dtype&quot;\\n    value {\\n      type: DT_INT32\\n    }\\n  }\\n  attr {\\n    key: &quot;value&quot;\\n    value {\\n      tensor {\\n        dtype: DT_INT32\\n        tensor_shape {\\n        }\\n        int_val: 1\\n      }\\n    }\\n  }\\n}\\nnode {\\n  name: &quot;Scope_A/A_add/y&quot;\\n  op: &quot;Const&quot;\\n  attr {\\n    key: &quot;dtype&quot;\\n    value {\\n      type: DT_INT32\\n    }\\n  }\\n  attr {\\n    key: &quot;value&quot;\\n    value {\\n      tensor {\\n        dtype: DT_INT32\\n        tensor_shape {\\n        }\\n        int_val: 2\\n      }\\n    }\\n  }\\n}\\nnode {\\n  name: &quot;Scope_A/A_add&quot;\\n  op: &quot;Add&quot;\\n  input: &quot;Scope_A/A_add/x&quot;\\n  input: &quot;Scope_A/A_add/y&quot;\\n  attr {\\n    key: &quot;T&quot;\\n    value {\\n      type: DT_INT32\\n    }\\n  }\\n}\\nnode {\\n  name: &quot;Scope_A/A_mul/y&quot;\\n  op: &quot;Const&quot;\\n  attr {\\n    key: &quot;dtype&quot;\\n    value {\\n      type: DT_INT32\\n    }\\n  }\\n  attr {\\n    key: &quot;value&quot;\\n    value {\\n      tensor {\\n        dtype: DT_INT32\\n        tensor_shape {\\n        }\\n        int_val: 3\\n      }\\n    }\\n  }\\n}\\nnode {\\n  name: &quot;Scope_A/A_mul&quot;\\n  op: &quot;Mul&quot;\\n  input: &quot;Scope_A/A_add&quot;\\n  input: &quot;Scope_A/A_mul/y&quot;\\n  attr {\\n    key: &quot;T&quot;\\n    value {\\n      type: DT_INT32\\n    }\\n  }\\n}\\nnode {\\n  name: &quot;Scope_B/B_add/x&quot;\\n  op: &quot;Const&quot;\\n  attr {\\n    key: &quot;dtype&quot;\\n    value {\\n      type: DT_INT32\\n    }\\n  }\\n  attr {\\n    key: &quot;value&quot;\\n    value {\\n      tensor {\\n        dtype: DT_INT32\\n        tensor_shape {\\n        }\\n        int_val: 4\\n      }\\n    }\\n  }\\n}\\nnode {\\n  name: &quot;Scope_B/B_add/y&quot;\\n  op: &quot;Const&quot;\\n  attr {\\n    key: &quot;dtype&quot;\\n    value {\\n      type: DT_INT32\\n    }\\n  }\\n  attr {\\n    key: &quot;value&quot;\\n    value {\\n      tensor {\\n        dtype: DT_INT32\\n        tensor_shape {\\n        }\\n        int_val: 5\\n      }\\n    }\\n  }\\n}\\nnode {\\n  name: &quot;Scope_B/B_add&quot;\\n  op: &quot;Add&quot;\\n  input: &quot;Scope_B/B_add/x&quot;\\n  input: &quot;Scope_B/B_add/y&quot;\\n  attr {\\n    key: &quot;T&quot;\\n    value {\\n      type: DT_INT32\\n    }\\n  }\\n}\\nnode {\\n  name: &quot;Scope_B/B_mul/y&quot;\\n  op: &quot;Const&quot;\\n  attr {\\n    key: &quot;dtype&quot;\\n    value {\\n      type: DT_INT32\\n    }\\n  }\\n  attr {\\n    key: &quot;value&quot;\\n    value {\\n      tensor {\\n        dtype: DT_INT32\\n        tensor_shape {\\n        }\\n        int_val: 6\\n      }\\n    }\\n  }\\n}\\nnode {\\n  name: &quot;Scope_B/B_mul&quot;\\n  op: &quot;Mul&quot;\\n  input: &quot;Scope_B/B_add&quot;\\n  input: &quot;Scope_B/B_mul/y&quot;\\n  attr {\\n    key: &quot;T&quot;\\n    value {\\n      type: DT_INT32\\n    }\\n  }\\n}\\nnode {\\n  name: &quot;output&quot;\\n  op: &quot;Add&quot;\\n  input: &quot;Scope_A/A_mul&quot;\\n  input: &quot;Scope_B/B_mul&quot;\\n  attr {\\n    key: &quot;T&quot;\\n    value {\\n      type: DT_INT32\\n    }\\n  }\\n}\\nnode {\\n  name: &quot;Scope_A_1/A_add/x&quot;\\n  op: &quot;Const&quot;\\n  attr {\\n    key: &quot;dtype&quot;\\n    value {\\n      type: DT_INT32\\n    }\\n  }\\n  attr {\\n    key: &quot;value&quot;\\n    value {\\n      tensor {\\n        dtype: DT_INT32\\n        tensor_shape {\\n        }\\n        int_val: 1\\n      }\\n    }\\n  }\\n}\\nnode {\\n  name: &quot;Scope_A_1/A_add/y&quot;\\n  op: &quot;Const&quot;\\n  attr {\\n    key: &quot;dtype&quot;\\n    value {\\n      type: DT_INT32\\n    }\\n  }\\n  attr {\\n    key: &quot;value&quot;\\n    value {\\n      tensor {\\n        dtype: DT_INT32\\n        tensor_shape {\\n        }\\n        int_val: 2\\n      }\\n    }\\n  }\\n}\\nnode {\\n  name: &quot;Scope_A_1/A_add&quot;\\n  op: &quot;Add&quot;\\n  input: &quot;Scope_A_1/A_add/x&quot;\\n  input: &quot;Scope_A_1/A_add/y&quot;\\n  attr {\\n    key: &quot;T&quot;\\n    value {\\n      type: DT_INT32\\n    }\\n  }\\n}\\nnode {\\n  name: &quot;Scope_A_1/A_mul/y&quot;\\n  op: &quot;Const&quot;\\n  attr {\\n    key: &quot;dtype&quot;\\n    value {\\n      type: DT_INT32\\n    }\\n  }\\n  attr {\\n    key: &quot;value&quot;\\n    value {\\n      tensor {\\n        dtype: DT_INT32\\n        tensor_shape {\\n        }\\n        int_val: 3\\n      }\\n    }\\n  }\\n}\\nnode {\\n  name: &quot;Scope_A_1/A_mul&quot;\\n  op: &quot;Mul&quot;\\n  input: &quot;Scope_A_1/A_add&quot;\\n  input: &quot;Scope_A_1/A_mul/y&quot;\\n  attr {\\n    key: &quot;T&quot;\\n    value {\\n      type: DT_INT32\\n    }\\n  }\\n}\\nnode {\\n  name: &quot;Scope_B_1/B_add/x&quot;\\n  op: &quot;Const&quot;\\n  attr {\\n    key: &quot;dtype&quot;\\n    value {\\n      type: DT_INT32\\n    }\\n  }\\n  attr {\\n    key: &quot;value&quot;\\n    value {\\n      tensor {\\n        dtype: DT_INT32\\n        tensor_shape {\\n        }\\n        int_val: 4\\n      }\\n    }\\n  }\\n}\\nnode {\\n  name: &quot;Scope_B_1/B_add/y&quot;\\n  op: &quot;Const&quot;\\n  attr {\\n    key: &quot;dtype&quot;\\n    value {\\n      type: DT_INT32\\n    }\\n  }\\n  attr {\\n    key: &quot;value&quot;\\n    value {\\n      tensor {\\n        dtype: DT_INT32\\n        tensor_shape {\\n        }\\n        int_val: 5\\n      }\\n    }\\n  }\\n}\\nnode {\\n  name: &quot;Scope_B_1/B_add&quot;\\n  op: &quot;Add&quot;\\n  input: &quot;Scope_B_1/B_add/x&quot;\\n  input: &quot;Scope_B_1/B_add/y&quot;\\n  attr {\\n    key: &quot;T&quot;\\n    value {\\n      type: DT_INT32\\n    }\\n  }\\n}\\nnode {\\n  name: &quot;Scope_B_1/B_mul/y&quot;\\n  op: &quot;Const&quot;\\n  attr {\\n    key: &quot;dtype&quot;\\n    value {\\n      type: DT_INT32\\n    }\\n  }\\n  attr {\\n    key: &quot;value&quot;\\n    value {\\n      tensor {\\n        dtype: DT_INT32\\n        tensor_shape {\\n        }\\n        int_val: 6\\n      }\\n    }\\n  }\\n}\\nnode {\\n  name: &quot;Scope_B_1/B_mul&quot;\\n  op: &quot;Mul&quot;\\n  input: &quot;Scope_B_1/B_add&quot;\\n  input: &quot;Scope_B_1/B_mul/y&quot;\\n  attr {\\n    key: &quot;T&quot;\\n    value {\\n      type: DT_INT32\\n    }\\n  }\\n}\\nnode {\\n  name: &quot;output_1&quot;\\n  op: &quot;Add&quot;\\n  input: &quot;Scope_A_1/A_mul&quot;\\n  input: &quot;Scope_B_1/B_mul&quot;\\n  attr {\\n    key: &quot;T&quot;\\n    value {\\n      type: DT_INT32\\n    }\\n  }\\n}\\nnode {\\n  name: &quot;Scope_A_2/A_add/x&quot;\\n  op: &quot;Const&quot;\\n  attr {\\n    key: &quot;dtype&quot;\\n    value {\\n      type: DT_INT32\\n    }\\n  }\\n  attr {\\n    key: &quot;value&quot;\\n    value {\\n      tensor {\\n        dtype: DT_INT32\\n        tensor_shape {\\n        }\\n        int_val: 1\\n      }\\n    }\\n  }\\n}\\nnode {\\n  name: &quot;Scope_A_2/A_add/y&quot;\\n  op: &quot;Const&quot;\\n  attr {\\n    key: &quot;dtype&quot;\\n    value {\\n      type: DT_INT32\\n    }\\n  }\\n  attr {\\n    key: &quot;value&quot;\\n    value {\\n      tensor {\\n        dtype: DT_INT32\\n        tensor_shape {\\n        }\\n        int_val: 2\\n      }\\n    }\\n  }\\n}\\nnode {\\n  name: &quot;Scope_A_2/A_add&quot;\\n  op: &quot;Add&quot;\\n  input: &quot;Scope_A_2/A_add/x&quot;\\n  input: &quot;Scope_A_2/A_add/y&quot;\\n  attr {\\n    key: &quot;T&quot;\\n    value {\\n      type: DT_INT32\\n    }\\n  }\\n}\\nnode {\\n  name: &quot;Scope_A_2/A_mul/y&quot;\\n  op: &quot;Const&quot;\\n  attr {\\n    key: &quot;dtype&quot;\\n    value {\\n      type: DT_INT32\\n    }\\n  }\\n  attr {\\n    key: &quot;value&quot;\\n    value {\\n      tensor {\\n        dtype: DT_INT32\\n        tensor_shape {\\n        }\\n        int_val: 3\\n      }\\n    }\\n  }\\n}\\nnode {\\n  name: &quot;Scope_A_2/A_mul&quot;\\n  op: &quot;Mul&quot;\\n  input: &quot;Scope_A_2/A_add&quot;\\n  input: &quot;Scope_A_2/A_mul/y&quot;\\n  attr {\\n    key: &quot;T&quot;\\n    value {\\n      type: DT_INT32\\n    }\\n  }\\n}\\nnode {\\n  name: &quot;Scope_B_2/B_add/x&quot;\\n  op: &quot;Const&quot;\\n  attr {\\n    key: &quot;dtype&quot;\\n    value {\\n      type: DT_INT32\\n    }\\n  }\\n  attr {\\n    key: &quot;value&quot;\\n    value {\\n      tensor {\\n        dtype: DT_INT32\\n        tensor_shape {\\n        }\\n        int_val: 4\\n      }\\n    }\\n  }\\n}\\nnode {\\n  name: &quot;Scope_B_2/B_add/y&quot;\\n  op: &quot;Const&quot;\\n  attr {\\n    key: &quot;dtype&quot;\\n    value {\\n      type: DT_INT32\\n    }\\n  }\\n  attr {\\n    key: &quot;value&quot;\\n    value {\\n      tensor {\\n        dtype: DT_INT32\\n        tensor_shape {\\n        }\\n        int_val: 5\\n      }\\n    }\\n  }\\n}\\nnode {\\n  name: &quot;Scope_B_2/B_add&quot;\\n  op: &quot;Add&quot;\\n  input: &quot;Scope_B_2/B_add/x&quot;\\n  input: &quot;Scope_B_2/B_add/y&quot;\\n  attr {\\n    key: &quot;T&quot;\\n    value {\\n      type: DT_INT32\\n    }\\n  }\\n}\\nnode {\\n  name: &quot;Scope_B_2/B_mul/y&quot;\\n  op: &quot;Const&quot;\\n  attr {\\n    key: &quot;dtype&quot;\\n    value {\\n      type: DT_INT32\\n    }\\n  }\\n  attr {\\n    key: &quot;value&quot;\\n    value {\\n      tensor {\\n        dtype: DT_INT32\\n        tensor_shape {\\n        }\\n        int_val: 6\\n      }\\n    }\\n  }\\n}\\nnode {\\n  name: &quot;Scope_B_2/B_mul&quot;\\n  op: &quot;Mul&quot;\\n  input: &quot;Scope_B_2/B_add&quot;\\n  input: &quot;Scope_B_2/B_mul/y&quot;\\n  attr {\\n    key: &quot;T&quot;\\n    value {\\n      type: DT_INT32\\n    }\\n  }\\n}\\nnode {\\n  name: &quot;output_2&quot;\\n  op: &quot;Add&quot;\\n  input: &quot;Scope_A_2/A_mul&quot;\\n  input: &quot;Scope_B_2/B_mul&quot;\\n  attr {\\n    key: &quot;T&quot;\\n    value {\\n      type: DT_INT32\\n    }\\n  }\\n}\\nnode {\\n  name: &quot;Scope_A_3/A_add/x&quot;\\n  op: &quot;Const&quot;\\n  attr {\\n    key: &quot;dtype&quot;\\n    value {\\n      type: DT_INT32\\n    }\\n  }\\n  attr {\\n    key: &quot;value&quot;\\n    value {\\n      tensor {\\n        dtype: DT_INT32\\n        tensor_shape {\\n        }\\n        int_val: 1\\n      }\\n    }\\n  }\\n}\\nnode {\\n  name: &quot;Scope_A_3/A_add/y&quot;\\n  op: &quot;Const&quot;\\n  attr {\\n    key: &quot;dtype&quot;\\n    value {\\n      type: DT_INT32\\n    }\\n  }\\n  attr {\\n    key: &quot;value&quot;\\n    value {\\n      tensor {\\n        dtype: DT_INT32\\n        tensor_shape {\\n        }\\n        int_val: 2\\n      }\\n    }\\n  }\\n}\\nnode {\\n  name: &quot;Scope_A_3/A_add&quot;\\n  op: &quot;Add&quot;\\n  input: &quot;Scope_A_3/A_add/x&quot;\\n  input: &quot;Scope_A_3/A_add/y&quot;\\n  attr {\\n    key: &quot;T&quot;\\n    value {\\n      type: DT_INT32\\n    }\\n  }\\n}\\nnode {\\n  name: &quot;Scope_A_3/A_mul/y&quot;\\n  op: &quot;Const&quot;\\n  attr {\\n    key: &quot;dtype&quot;\\n    value {\\n      type: DT_INT32\\n    }\\n  }\\n  attr {\\n    key: &quot;value&quot;\\n    value {\\n      tensor {\\n        dtype: DT_INT32\\n        tensor_shape {\\n        }\\n        int_val: 3\\n      }\\n    }\\n  }\\n}\\nnode {\\n  name: &quot;Scope_A_3/A_mul&quot;\\n  op: &quot;Mul&quot;\\n  input: &quot;Scope_A_3/A_add&quot;\\n  input: &quot;Scope_A_3/A_mul/y&quot;\\n  attr {\\n    key: &quot;T&quot;\\n    value {\\n      type: DT_INT32\\n    }\\n  }\\n}\\nnode {\\n  name: &quot;Scope_B_3/B_add/x&quot;\\n  op: &quot;Const&quot;\\n  attr {\\n    key: &quot;dtype&quot;\\n    value {\\n      type: DT_INT32\\n    }\\n  }\\n  attr {\\n    key: &quot;value&quot;\\n    value {\\n      tensor {\\n        dtype: DT_INT32\\n        tensor_shape {\\n        }\\n        int_val: 4\\n      }\\n    }\\n  }\\n}\\nnode {\\n  name: &quot;Scope_B_3/B_add/y&quot;\\n  op: &quot;Const&quot;\\n  attr {\\n    key: &quot;dtype&quot;\\n    value {\\n      type: DT_INT32\\n    }\\n  }\\n  attr {\\n    key: &quot;value&quot;\\n    value {\\n      tensor {\\n        dtype: DT_INT32\\n        tensor_shape {\\n        }\\n        int_val: 5\\n      }\\n    }\\n  }\\n}\\nnode {\\n  name: &quot;Scope_B_3/B_add&quot;\\n  op: &quot;Add&quot;\\n  input: &quot;Scope_B_3/B_add/x&quot;\\n  input: &quot;Scope_B_3/B_add/y&quot;\\n  attr {\\n    key: &quot;T&quot;\\n    value {\\n      type: DT_INT32\\n    }\\n  }\\n}\\nnode {\\n  name: &quot;Scope_B_3/B_mul/y&quot;\\n  op: &quot;Const&quot;\\n  attr {\\n    key: &quot;dtype&quot;\\n    value {\\n      type: DT_INT32\\n    }\\n  }\\n  attr {\\n    key: &quot;value&quot;\\n    value {\\n      tensor {\\n        dtype: DT_INT32\\n        tensor_shape {\\n        }\\n        int_val: 6\\n      }\\n    }\\n  }\\n}\\nnode {\\n  name: &quot;Scope_B_3/B_mul&quot;\\n  op: &quot;Mul&quot;\\n  input: &quot;Scope_B_3/B_add&quot;\\n  input: &quot;Scope_B_3/B_mul/y&quot;\\n  attr {\\n    key: &quot;T&quot;\\n    value {\\n      type: DT_INT32\\n    }\\n  }\\n}\\nnode {\\n  name: &quot;output_3&quot;\\n  op: &quot;Add&quot;\\n  input: &quot;Scope_A_3/A_mul&quot;\\n  input: &quot;Scope_B_3/B_mul&quot;\\n  attr {\\n    key: &quot;T&quot;\\n    value {\\n      type: DT_INT32\\n    }\\n  }\\n}\\n';\n",
       "          }\n",
       "        </script>\n",
       "        <link rel=&quot;import&quot; href=&quot;https://tensorboard.appspot.com/tf-graph-basic.build.html&quot; onload=load()>\n",
       "        <div style=&quot;height:600px&quot;>\n",
       "          <tf-graph-basic id=&quot;graph0.7966850452508809&quot;></tf-graph-basic>\n",
       "        </div>\n",
       "    \"></iframe>\n",
       "    "
      ],
      "text/plain": [
       "<IPython.core.display.HTML object>"
      ]
     },
     "metadata": {},
     "output_type": "display_data"
    }
   ],
   "source": [
    "show_graph(tf.get_default_graph().as_graph_def())"
   ]
  },
  {
   "cell_type": "code",
   "execution_count": null,
   "metadata": {
    "ExecuteTime": {
     "end_time": "2018-06-03T13:41:20.479600Z",
     "start_time": "2018-06-03T13:41:12.909Z"
    },
    "collapsed": true
   },
   "outputs": [],
   "source": [
    "import tensorflow as tf\n",
    "import numpy as np\n",
    "with tf.Session() as sess:\n",
    "    tf.logging.set_verbosity(tf.logging.INFO)\n",
    "    x = tf.Variable([[1., 2., 3.],[4., 5., 6.]])\n",
    "    rx = tf.reshape(x, [1, 2, 3, 1])\n",
    "    valid_pad = tf.nn.max_pool(rx, [1, 2, 2, 1], [1, 2, 2, 1], padding='VALID')\n",
    "    same_pad = tf.nn.max_pool(rx, [1, 2, 2, 1], [1, 2, 2, 1], padding='SAME')\n",
    "    psame_pad = tf.Print(same_pad,[same_pad],'where are u')\n",
    "    print(sess.run(x.initializer))\n",
    "    print(sess.run(psame_pad))\n",
    "    print(psame_pad.eval())"
   ]
  },
  {
   "cell_type": "code",
   "execution_count": null,
   "metadata": {
    "ExecuteTime": {
     "end_time": "2018-06-03T13:41:20.480630Z",
     "start_time": "2018-06-03T13:41:12.911Z"
    },
    "collapsed": true
   },
   "outputs": [],
   "source": [
    "import tensorflow as tf\n",
    "import numpy as np\n",
    "sess = tf.InteractiveSession()\n",
    "tf.logging.set_verbosity(tf.logging.INFO)\n",
    "#x = tf.Variable([[1., 2., 3.],[4., 5., 6.]])\n",
    "x = tf.placeholder(dtype=tf.float32,shape=[2,3])\n",
    "rx = tf.reshape(x, [1, 2, 3, 1])\n",
    "valid_pad = tf.nn.max_pool(rx, [1, 2, 2, 1], [1, 2, 2, 1], padding='VALID')\n",
    "same_pad = tf.nn.max_pool(rx, [1, 2, 2, 1], [1, 2, 2, 1], padding='SAME')\n",
    "\n",
    "#print(valid_pad)\n",
    "psame_pad = tf.Print(same_pad,[same_pad],'where are u')\n",
    "print(sess.run(psame_pad,feed_dict=\n",
    "               {x:np.array([[1., 2., 3.],[4., 5., 6.]],dtype=np.float32)}))\n",
    "sess.close()"
   ]
  },
  {
   "cell_type": "code",
   "execution_count": null,
   "metadata": {
    "ExecuteTime": {
     "end_time": "2018-06-03T13:41:20.481628Z",
     "start_time": "2018-06-03T13:41:12.913Z"
    },
    "collapsed": true
   },
   "outputs": [],
   "source": [
    "'''import tensorflow as tf\n",
    "import numpy as np\n",
    "x = tf.placeholder(dtype=tf.float32,shape=None)\n",
    "result=tf.nn.conv1d(x,np.zeros((2,3,4),dtype=np.float32),stride=1, padding='VALID')\n",
    "sess = tf.InteractiveSession()\n",
    "print(sess.run(result,feed_dict={x:np.zeros((1,10,3),dtype=np.float32)}))'''"
   ]
  },
  {
   "cell_type": "code",
   "execution_count": 3,
   "metadata": {
    "ExecuteTime": {
     "end_time": "2018-06-03T16:23:12.451442Z",
     "start_time": "2018-06-03T16:23:12.396214Z"
    }
   },
   "outputs": [
    {
     "name": "stdout",
     "output_type": "stream",
     "text": [
      "None None None\n",
      "[1, array([1], dtype=int32)]\n",
      "2\n",
      "[2, array([2, 3], dtype=int32)] [3, array([4, 5, 6], dtype=int32)]\n",
      "0\n"
     ]
    },
    {
     "name": "stderr",
     "output_type": "stream",
     "text": [
      "/home/coder.chenshicheng/anaconda3/lib/python3.6/site-packages/tensorflow/python/client/session.py:1711: UserWarning: An interactive session is already active. This can cause out-of-memory errors in some cases. You must explicitly call `InteractiveSession.close()` to release resources held by the other session(s).\n",
      "  warnings.warn('An interactive session is already active. This can '\n"
     ]
    }
   ],
   "source": [
    "import tensorflow as tf\n",
    "import numpy as np\n",
    "sess = tf.InteractiveSession()\n",
    "q = tf.PaddingFIFOQueue(capacity=10, dtypes=[tf.int32, tf.int32], shapes=[[], [None]])\n",
    "sample0 = tf.placeholder(dtype=tf.int32, shape=None)\n",
    "sample1 = tf.placeholder(dtype=tf.int32, shape=None)\n",
    "sample2 = tf.placeholder(dtype=tf.int32, shape=None)\n",
    "#eq1 = q.enqueue([1, [1]])\n",
    "eq1 = q.enqueue([sample0, sample1])\n",
    "eq2 = q.enqueue([2,[2,3]])\n",
    "eq3 = q.enqueue([3, [4,5,6]])\n",
    "dq = q.dequeue()\n",
    "print(sess.run(eq1,feed_dict={sample0:1,sample1:[1]}),\n",
    "      sess.run(eq2),sess.run(eq3))\n",
    "print(sess.run(dq))\n",
    "print(sess.run(q.size()))\n",
    "print(sess.run(dq) ,sess.run(dq))\n",
    "print(sess.run(q.size()))"
   ]
  }
 ],
 "metadata": {
  "kernelspec": {
   "display_name": "Python 3",
   "language": "python",
   "name": "python3"
  },
  "language_info": {
   "codemirror_mode": {
    "name": "ipython",
    "version": 3
   },
   "file_extension": ".py",
   "mimetype": "text/x-python",
   "name": "python",
   "nbconvert_exporter": "python",
   "pygments_lexer": "ipython3",
   "version": "3.6.3"
  }
 },
 "nbformat": 4,
 "nbformat_minor": 2
}
