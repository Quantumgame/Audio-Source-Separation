{
 "cells": [
  {
   "cell_type": "code",
   "execution_count": 3,
   "metadata": {
    "ExecuteTime": {
     "end_time": "2018-06-24T14:07:11.546558Z",
     "start_time": "2018-06-24T14:07:11.517588Z"
    },
    "collapsed": true
   },
   "outputs": [],
   "source": [
    "from __future__ import print_function\n",
    "import argparse\n",
    "import torch\n",
    "import torch.nn as nn\n",
    "import torch.nn.functional as F\n",
    "import torch.optim as optim\n",
    "from torchvision import datasets, transforms\n",
    "import numpy as np\n",
    "import torch.utils.data as utils\n",
    "import librosa\n",
    "import soundfile as sf\n",
    "import time\n",
    "import os\n",
    "from torch.utils import data\n",
    "from wavenet2 import Wavenet\n",
    "from transformData import x_mu_law_encode,y_mu_law_encode,mu_law_decode,onehot,cateToSignal\n",
    "from readDataset3 import Dataset,Testset,RandomCrop,ToTensor\n",
    "from unet import Unet\n",
    "import h5py"
   ]
  },
  {
   "cell_type": "code",
   "execution_count": 14,
   "metadata": {
    "ExecuteTime": {
     "end_time": "2018-06-24T14:07:25.135247Z",
     "start_time": "2018-06-24T14:07:25.129614Z"
    }
   },
   "outputs": [
    {
     "data": {
      "text/plain": [
       "0.7773904284255602"
      ]
     },
     "execution_count": 14,
     "metadata": {},
     "output_type": "execute_result"
    }
   ],
   "source": [
    "np.random.uniform(low=0.7, high=1.0)"
   ]
  },
  {
   "cell_type": "code",
   "execution_count": 16,
   "metadata": {
    "ExecuteTime": {
     "end_time": "2018-06-24T14:57:03.209858Z",
     "start_time": "2018-06-24T14:57:03.202790Z"
    }
   },
   "outputs": [
    {
     "data": {
      "text/plain": [
       "array([ 100.,  100.,  100.])"
      ]
     },
     "execution_count": 16,
     "metadata": {},
     "output_type": "execute_result"
    }
   ],
   "source": [
    "maxloss=np.zeros(3)+100\n",
    "maxloss"
   ]
  },
  {
   "cell_type": "code",
   "execution_count": 15,
   "metadata": {
    "ExecuteTime": {
     "end_time": "2018-06-24T14:18:03.125375Z",
     "start_time": "2018-06-24T14:18:03.120058Z"
    }
   },
   "outputs": [
    {
     "data": {
      "text/plain": [
       "15081"
      ]
     },
     "execution_count": 15,
     "metadata": {},
     "output_type": "execute_result"
    }
   ],
   "source": [
    "np.random.randint(0,16000)"
   ]
  },
  {
   "cell_type": "code",
   "execution_count": 1,
   "metadata": {
    "ExecuteTime": {
     "end_time": "2018-06-24T08:03:06.198965Z",
     "start_time": "2018-06-24T08:03:04.916052Z"
    },
    "collapsed": true
   },
   "outputs": [],
   "source": [
    "\n",
    "sampleSize = 16000  # the length of the sample size\n",
    "quantization_channels = 256\n",
    "sample_rate = 16000\n",
    "dilations = [2 ** i for i in range(9)] * 5  # idea from wavenet, have more receptive field\n",
    "residualDim = 128  #\n",
    "skipDim = 512\n",
    "shapeoftest = 190500\n",
    "songnum=10\n",
    "filterSize = 3\n",
    "savemusic='vsCorpus/nus1xtr{}.wav'\n",
    "#savemusic0='vsCorpus/nus10xtr{}.wav'\n",
    "#savemusic1='vsCorpus/nus11xtr{}.wav'\n",
    "resumefile = 'model/instrument1'  # name of checkpoint\n",
    "lossname = 'instrumentloss1.txt'  # name of loss file\n",
    "continueTrain = False  # whether use checkpoint\n",
    "pad = np.sum(dilations)  # padding for dilate convolutional layers\n",
    "lossrecord = []  # list for record loss\n",
    "sampleCnt=0\n",
    "#pad=0\n",
    "\n",
    "torch.manual_seed(1)\n",
    "device = 'cpu'\n",
    "\n",
    "criterion = nn.CrossEntropyLoss()"
   ]
  },
  {
   "cell_type": "code",
   "execution_count": 2,
   "metadata": {
    "ExecuteTime": {
     "end_time": "2018-06-24T08:22:23.389164Z",
     "start_time": "2018-06-24T08:03:06.202928Z"
    }
   },
   "outputs": [
    {
     "name": "stdout",
     "output_type": "stream",
     "text": [
      "0 tensor(5.5028)\n",
      "1 tensor(5.3450)\n",
      "2 tensor(5.6793)\n",
      "3 tensor(5.1550)\n",
      "4 tensor(5.5261)\n",
      "5 tensor(5.0457)\n",
      "6 tensor(5.4245)\n",
      "7 tensor(5.4270)\n",
      "8 tensor(5.6446)\n",
      "9 tensor(5.3079)\n",
      "10 tensor(5.6124)\n",
      "11 tensor(5.6055)\n",
      "12 tensor(5.5964)\n",
      "13 tensor(4.9722)\n",
      "14 tensor(5.1419)\n",
      "15 tensor(5.2923)\n",
      "16 tensor(5.5219)\n",
      "17 tensor(5.3828)\n",
      "18 tensor(5.5032)\n",
      "19 tensor(5.6253)\n",
      "20 tensor(5.3085)\n",
      "21 tensor(5.2654)\n",
      "22 tensor(5.3415)\n",
      "23 tensor(5.2641)\n",
      "24 tensor(5.5869)\n",
      "25 tensor(5.4867)\n",
      "26 tensor(5.7108)\n",
      "27 tensor(5.1286)\n",
      "28 tensor(4.8651)\n",
      "29 tensor(5.0458)\n",
      "30 tensor(5.5764)\n",
      "31 tensor(5.1399)\n",
      "32 tensor(5.4483)\n",
      "33 tensor(5.2191)\n",
      "34 tensor(5.4519)\n",
      "35 tensor(5.4651)\n",
      "36 tensor(5.5777)\n",
      "37 tensor(5.4494)\n",
      "38 tensor(5.2502)\n",
      "39 tensor(5.3443)\n",
      "40 tensor(5.5065)\n",
      "41 tensor(5.0098)\n",
      "42 tensor(5.4625)\n",
      "43 tensor(5.0099)\n",
      "44 tensor(5.2300)\n",
      "45 tensor(5.4674)\n",
      "46 tensor(5.1589)\n",
      "47 tensor(5.4645)\n",
      "48 tensor(5.4020)\n",
      "49 tensor(5.2045)\n"
     ]
    }
   ],
   "source": [
    "for i in range(50):\n",
    "    h5f = h5py.File('ccmixter3/' + str(i) + '.h5', 'r')\n",
    "    x, y = h5f['x'][:], h5f['y'][:]#, h5f['z'][:]\n",
    "    x = y_mu_law_encode(x)\n",
    "    y = y_mu_law_encode(y)\n",
    "    x = onehot(x.astype(int))\n",
    "    x = x.transpose((1,0))\n",
    "    x = torch.from_numpy(x.reshape(1,256,-1)).type(torch.float32)\n",
    "    y = torch.from_numpy(y.reshape(1,-1)).type(torch.LongTensor)\n",
    "    loss = criterion(x, y)\n",
    "    print(i,loss)\n",
    "    h5f.close()"
   ]
  }
 ],
 "metadata": {
  "kernelspec": {
   "display_name": "Python 3",
   "language": "python",
   "name": "python3"
  },
  "language_info": {
   "codemirror_mode": {
    "name": "ipython",
    "version": 3
   },
   "file_extension": ".py",
   "mimetype": "text/x-python",
   "name": "python",
   "nbconvert_exporter": "python",
   "pygments_lexer": "ipython3",
   "version": "3.6.3"
  }
 },
 "nbformat": 4,
 "nbformat_minor": 2
}
