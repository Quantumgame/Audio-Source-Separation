{
 "cells": [
  {
   "cell_type": "code",
   "execution_count": 43,
   "metadata": {
    "ExecuteTime": {
     "end_time": "2018-06-25T07:11:18.558919Z",
     "start_time": "2018-06-25T07:11:18.534744Z"
    },
    "collapsed": true
   },
   "outputs": [],
   "source": [
    "from __future__ import print_function\n",
    "import argparse\n",
    "import torch\n",
    "import torch.nn as nn\n",
    "import torch.nn.functional as F\n",
    "import torch.optim as optim\n",
    "from torchvision import datasets, transforms\n",
    "import numpy as np\n",
    "import torch.utils.data as utils\n",
    "import librosa\n",
    "import soundfile as sf\n",
    "import time\n",
    "import os\n",
    "from torch.utils import data\n",
    "from wavenet2 import Wavenet\n",
    "from transformData import x_mu_law_encode,y_mu_law_encode,mu_law_decode,onehot,cateToSignal\n",
    "from readDataset3 import Dataset,Testset,RandomCrop,ToTensor\n",
    "from unet import Unet\n",
    "import h5py\n",
    "from sklearn.manifold import TSNE\n",
    "import matplotlib.pyplot as plt\n",
    "from sklearn.decomposition import PCA"
   ]
  },
  {
   "cell_type": "code",
   "execution_count": null,
   "metadata": {
    "collapsed": true
   },
   "outputs": [],
   "source": []
  },
  {
   "cell_type": "code",
   "execution_count": 40,
   "metadata": {
    "ExecuteTime": {
     "end_time": "2018-06-25T06:10:15.834679Z",
     "start_time": "2018-06-25T06:10:15.825564Z"
    }
   },
   "outputs": [
    {
     "data": {
      "text/plain": [
       "(array([0, 1, 2]), array([3, 2, 1]), array([0, 1, 2]))"
      ]
     },
     "execution_count": 40,
     "metadata": {},
     "output_type": "execute_result"
    }
   ],
   "source": [
    "a = np.arange(3)\n",
    "b = np.arange(3,0,-1)\n",
    "c = a\n",
    "a,b,c"
   ]
  },
  {
   "cell_type": "code",
   "execution_count": 41,
   "metadata": {
    "ExecuteTime": {
     "end_time": "2018-06-25T06:10:16.130381Z",
     "start_time": "2018-06-25T06:10:16.123817Z"
    }
   },
   "outputs": [
    {
     "data": {
      "text/plain": [
       "array([0, 3, 6])"
      ]
     },
     "execution_count": 41,
     "metadata": {},
     "output_type": "execute_result"
    }
   ],
   "source": [
    "a=a*3\n",
    "a"
   ]
  },
  {
   "cell_type": "code",
   "execution_count": 42,
   "metadata": {
    "ExecuteTime": {
     "end_time": "2018-06-25T06:10:16.580941Z",
     "start_time": "2018-06-25T06:10:16.575104Z"
    }
   },
   "outputs": [
    {
     "data": {
      "text/plain": [
       "array([0, 1, 2])"
      ]
     },
     "execution_count": 42,
     "metadata": {},
     "output_type": "execute_result"
    }
   ],
   "source": [
    "c"
   ]
  },
  {
   "cell_type": "code",
   "execution_count": 14,
   "metadata": {
    "ExecuteTime": {
     "end_time": "2018-06-24T14:07:25.135247Z",
     "start_time": "2018-06-24T14:07:25.129614Z"
    }
   },
   "outputs": [
    {
     "data": {
      "text/plain": [
       "0.7773904284255602"
      ]
     },
     "execution_count": 14,
     "metadata": {},
     "output_type": "execute_result"
    }
   ],
   "source": [
    "np.random.uniform(low=0.7, high=1.0)"
   ]
  },
  {
   "cell_type": "code",
   "execution_count": 16,
   "metadata": {
    "ExecuteTime": {
     "end_time": "2018-06-24T14:57:03.209858Z",
     "start_time": "2018-06-24T14:57:03.202790Z"
    }
   },
   "outputs": [
    {
     "data": {
      "text/plain": [
       "array([ 100.,  100.,  100.])"
      ]
     },
     "execution_count": 16,
     "metadata": {},
     "output_type": "execute_result"
    }
   ],
   "source": [
    "maxloss=np.zeros(3)+100\n",
    "maxloss"
   ]
  },
  {
   "cell_type": "code",
   "execution_count": 15,
   "metadata": {
    "ExecuteTime": {
     "end_time": "2018-06-24T14:18:03.125375Z",
     "start_time": "2018-06-24T14:18:03.120058Z"
    }
   },
   "outputs": [
    {
     "data": {
      "text/plain": [
       "15081"
      ]
     },
     "execution_count": 15,
     "metadata": {},
     "output_type": "execute_result"
    }
   ],
   "source": [
    "np.random.randint(0,16000)"
   ]
  },
  {
   "cell_type": "code",
   "execution_count": 1,
   "metadata": {
    "ExecuteTime": {
     "end_time": "2018-06-24T08:03:06.198965Z",
     "start_time": "2018-06-24T08:03:04.916052Z"
    },
    "collapsed": true
   },
   "outputs": [],
   "source": [
    "sampleSize = 16000  # the length of the sample size\n",
    "quantization_channels = 256\n",
    "sample_rate = 16000\n",
    "dilations = [2 ** i for i in range(9)] * 5  # idea from wavenet, have more receptive field\n",
    "residualDim = 128  #\n",
    "skipDim = 512\n",
    "shapeoftest = 190500\n",
    "songnum=10\n",
    "filterSize = 3\n",
    "savemusic='vsCorpus/nus1xtr{}.wav'\n",
    "#savemusic0='vsCorpus/nus10xtr{}.wav'\n",
    "#savemusic1='vsCorpus/nus11xtr{}.wav'\n",
    "resumefile = 'model/instrument1'  # name of checkpoint\n",
    "lossname = 'instrumentloss1.txt'  # name of loss file\n",
    "continueTrain = False  # whether use checkpoint\n",
    "pad = np.sum(dilations)  # padding for dilate convolutional layers\n",
    "lossrecord = []  # list for record loss\n",
    "sampleCnt=0\n",
    "#pad=0\n",
    "\n",
    "torch.manual_seed(1)\n",
    "device = 'cpu'\n",
    "\n",
    "criterion = nn.CrossEntropyLoss()"
   ]
  },
  {
   "cell_type": "code",
   "execution_count": 2,
   "metadata": {
    "ExecuteTime": {
     "end_time": "2018-06-24T08:22:23.389164Z",
     "start_time": "2018-06-24T08:03:06.202928Z"
    },
    "scrolled": true
   },
   "outputs": [
    {
     "name": "stdout",
     "output_type": "stream",
     "text": [
      "0 tensor(5.5028)\n",
      "1 tensor(5.3450)\n",
      "2 tensor(5.6793)\n",
      "3 tensor(5.1550)\n",
      "4 tensor(5.5261)\n",
      "5 tensor(5.0457)\n",
      "6 tensor(5.4245)\n",
      "7 tensor(5.4270)\n",
      "8 tensor(5.6446)\n",
      "9 tensor(5.3079)\n",
      "10 tensor(5.6124)\n",
      "11 tensor(5.6055)\n",
      "12 tensor(5.5964)\n",
      "13 tensor(4.9722)\n",
      "14 tensor(5.1419)\n",
      "15 tensor(5.2923)\n",
      "16 tensor(5.5219)\n",
      "17 tensor(5.3828)\n",
      "18 tensor(5.5032)\n",
      "19 tensor(5.6253)\n",
      "20 tensor(5.3085)\n",
      "21 tensor(5.2654)\n",
      "22 tensor(5.3415)\n",
      "23 tensor(5.2641)\n",
      "24 tensor(5.5869)\n",
      "25 tensor(5.4867)\n",
      "26 tensor(5.7108)\n",
      "27 tensor(5.1286)\n",
      "28 tensor(4.8651)\n",
      "29 tensor(5.0458)\n",
      "30 tensor(5.5764)\n",
      "31 tensor(5.1399)\n",
      "32 tensor(5.4483)\n",
      "33 tensor(5.2191)\n",
      "34 tensor(5.4519)\n",
      "35 tensor(5.4651)\n",
      "36 tensor(5.5777)\n",
      "37 tensor(5.4494)\n",
      "38 tensor(5.2502)\n",
      "39 tensor(5.3443)\n",
      "40 tensor(5.5065)\n",
      "41 tensor(5.0098)\n",
      "42 tensor(5.4625)\n",
      "43 tensor(5.0099)\n",
      "44 tensor(5.2300)\n",
      "45 tensor(5.4674)\n",
      "46 tensor(5.1589)\n",
      "47 tensor(5.4645)\n",
      "48 tensor(5.4020)\n",
      "49 tensor(5.2045)\n"
     ]
    }
   ],
   "source": [
    "for i in range(50):\n",
    "    h5f = h5py.File('ccmixter3/' + str(i) + '.h5', 'r')\n",
    "    x, y = h5f['x'][:], h5f['y'][:]#, h5f['z'][:]\n",
    "    x = y_mu_law_encode(x)\n",
    "    y = y_mu_law_encode(y)\n",
    "    x = onehot(x.astype(int))\n",
    "    x = x.transpose((1,0))\n",
    "    x = torch.from_numpy(x.reshape(1,256,-1)).type(torch.float32)\n",
    "    y = torch.from_numpy(y.reshape(1,-1)).type(torch.LongTensor)\n",
    "    loss = criterion(x, y)\n",
    "    print(i,loss)\n",
    "    h5f.close()"
   ]
  },
  {
   "cell_type": "code",
   "execution_count": 66,
   "metadata": {
    "ExecuteTime": {
     "end_time": "2018-06-25T08:17:16.055240Z",
     "start_time": "2018-06-25T08:17:15.781433Z"
    }
   },
   "outputs": [
    {
     "name": "stdout",
     "output_type": "stream",
     "text": [
      "1237160\n"
     ]
    }
   ],
   "source": [
    "mx=[]\n",
    "maxlen=100000000\n",
    "for i in range(50):\n",
    "    h5f = h5py.File('ccmixter3/' + str(i) + '.h5', 'r')\n",
    "    x = h5f['x'][:]\n",
    "    #x = x_mu_law_encode(x)\n",
    "    #mx.append(x)\n",
    "    maxlen=min(maxlen,x.shape[-1])\n",
    "    h5f.close()\n",
    "print(maxlen)"
   ]
  },
  {
   "cell_type": "code",
   "execution_count": 67,
   "metadata": {
    "ExecuteTime": {
     "end_time": "2018-06-25T08:17:22.428467Z",
     "start_time": "2018-06-25T08:17:18.033676Z"
    }
   },
   "outputs": [],
   "source": [
    "for i in range(50):\n",
    "    h5f = h5py.File('ccmixter3/' + str(i) + '.h5', 'r')\n",
    "    x = h5f['x'][:]\n",
    "    x = x_mu_law_encode(x)\n",
    "    mx.append(x[:maxlen].reshape(1,-1))\n",
    "    h5f.close()\n",
    "mx = np.concatenate(mx,axis=0)"
   ]
  },
  {
   "cell_type": "code",
   "execution_count": 68,
   "metadata": {
    "ExecuteTime": {
     "end_time": "2018-06-25T08:17:22.435485Z",
     "start_time": "2018-06-25T08:17:22.431000Z"
    }
   },
   "outputs": [
    {
     "data": {
      "text/plain": [
       "(50, 1237160)"
      ]
     },
     "execution_count": 68,
     "metadata": {},
     "output_type": "execute_result"
    }
   ],
   "source": [
    "mx.shape"
   ]
  },
  {
   "cell_type": "code",
   "execution_count": 61,
   "metadata": {
    "ExecuteTime": {
     "end_time": "2018-06-25T08:15:01.415651Z",
     "start_time": "2018-06-25T08:14:57.784273Z"
    }
   },
   "outputs": [
    {
     "data": {
      "text/plain": [
       "(50, 50)"
      ]
     },
     "execution_count": 61,
     "metadata": {},
     "output_type": "execute_result"
    }
   ],
   "source": [
    "pca = PCA()\n",
    "pca.fit(mx)\n",
    "pmx=pca.transform(mx)\n",
    "pmx.shape"
   ]
  },
  {
   "cell_type": "code",
   "execution_count": 69,
   "metadata": {
    "ExecuteTime": {
     "end_time": "2018-06-25T08:17:23.822134Z",
     "start_time": "2018-06-25T08:17:23.186301Z"
    }
   },
   "outputs": [
    {
     "data": {
      "text/plain": [
       "(50, 2)"
      ]
     },
     "execution_count": 69,
     "metadata": {},
     "output_type": "execute_result"
    }
   ],
   "source": [
    "X_embedded = TSNE(n_components=2).fit_transform(mx)\n",
    "X_embedded.shape"
   ]
  },
  {
   "cell_type": "code",
   "execution_count": 81,
   "metadata": {
    "ExecuteTime": {
     "end_time": "2018-06-25T08:22:13.855527Z",
     "start_time": "2018-06-25T08:22:13.652465Z"
    }
   },
   "outputs": [
    {
     "data": {
      "image/png": "[encoded data removed]",
      "text/plain": [
       "<matplotlib.figure.Figure at 0x7f55cec857f0>"
      ]
     },
     "metadata": {},
     "output_type": "display_data"
    }
   ],
   "source": [
    "fig, ax = plt.subplots()\n",
    "txt = np.arange(50)\n",
    "ax.scatter(X_embedded[:,0],X_embedded[:,1])\n",
    "for i, t in enumerate(txt):\n",
    "    ax.annotate(t, (X_embedded[i,0],X_embedded[i,1]))\n",
    "plt.show()"
   ]
  },
  {
   "cell_type": "code",
   "execution_count": null,
   "metadata": {
    "collapsed": true
   },
   "outputs": [],
   "source": [
    "#window = functools.partial(window_ops.hann_window, periodic=True)"
   ]
  },
  {
   "cell_type": "code",
   "execution_count": null,
   "metadata": {
    "collapsed": true
   },
   "outputs": [],
   "source": [
    "#stfts = tf.contrib.signal.stft(tf.squeeze(real_source, 2), frame_length=1024, frame_step=768,\n",
    "#                                           fft_length=1024, window_fn=window)"
   ]
  },
  {
   "cell_type": "code",
   "execution_count": null,
   "metadata": {
    "collapsed": true
   },
   "outputs": [],
   "source": [
    "librosa.stft(y, 512, 256, 512)"
   ]
  },
  {
   "cell_type": "code",
   "execution_count": null,
   "metadata": {
    "collapsed": true
   },
   "outputs": [],
   "source": [
    "librosa.core.stft(y, n_fft=1024, hop_length=768, win_length=1024, window='hann', center=True, dtype=<class 'numpy.complex64'>, pad_mode='reflect')"
   ]
  }
 ],
 "metadata": {
  "kernelspec": {
   "display_name": "Python 3",
   "language": "python",
   "name": "python3"
  },
  "language_info": {
   "codemirror_mode": {
    "name": "ipython",
    "version": 3
   },
   "file_extension": ".py",
   "mimetype": "text/x-python",
   "name": "python",
   "nbconvert_exporter": "python",
   "pygments_lexer": "ipython3",
   "version": "3.6.3"
  }
 },
 "nbformat": 4,
 "nbformat_minor": 2
}
