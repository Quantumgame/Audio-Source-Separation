{
 "cells": [
  {
   "cell_type": "code",
   "execution_count": 1,
   "metadata": {
    "ExecuteTime": {
     "end_time": "2018-06-26T14:58:11.925935Z",
     "start_time": "2018-06-26T14:58:09.818318Z"
    },
    "collapsed": true
   },
   "outputs": [],
   "source": [
    "from __future__ import print_function\n",
    "import argparse\n",
    "import torch\n",
    "import torch.nn as nn\n",
    "import torch.nn.functional as F\n",
    "import torch.optim as optim\n",
    "from torchvision import datasets, transforms\n",
    "import numpy as np\n",
    "import torch.utils.data as utils\n",
    "import librosa\n",
    "import soundfile as sf\n",
    "import time\n",
    "import os\n",
    "from torch.utils import data\n",
    "import numpy\n",
    "import pickle\n",
    "import numpy as np\n",
    "import h5py\n",
    "from os import listdir\n",
    "from os.path import isfile, join\n",
    "sample_rate=16000"
   ]
  },
  {
   "cell_type": "code",
   "execution_count": null,
   "metadata": {
    "collapsed": true
   },
   "outputs": [],
   "source": [
    "ldir=['AlexBeroza_-_To_Be_Sensitive_(with_mindmapthat)',\n",
    " 'unreal_dm_-_Big_John (with_snowflake)',\n",
    " 'unreal_dm_-_Californian_Winter',\n",
    " 'stellarartwars_-_Orange_(I_m_In_The_Mood_For_Trancing_Mix)',\n",
    " 'stellarartwars_-_Occupy_Walk_(Molested_Mix)',\n",
    " 'tmray_-_Forget_It_-_Demo',\n",
    " 'Kamihamiha_-_Kamihamiha_-_Trash_The_Disco_(Stems)',\n",
    " 'mindmapthat_-_The_Scuffle_of_Mouth_Sounds_and_the_Magnificent_Uke',\n",
    " 'tmray_-_Roulette',\n",
    " 'unreal_dm_-_Just_Beginning',\n",
    " 'stellarartwars_-_Sweet_Seduction_2_(Romilar_Mix)',\n",
    " 'Javolenus_-_King_Henry_(Border_Ballad)',\n",
    " 'README',\n",
    " 'stellarartwars_-_Go_Time_(scratched_perversion_mix)_inc_stems',\n",
    " 'stellarartwars_-_Music',\n",
    " 'casimps1_-_Bingo_(B-I-N-G-O)',\n",
    " 'stellarartwars_-_Human_Race_(A_Rotten_Race_For_Elvis_Mix)_inc_stems',\n",
    " 'Kamihamiha_-_Kamihamiha_-_No_Peace_For_The_Middle_East_(Full_Stems)',\n",
    " 'stellarartwars_-_Winter_Glow_(SAW_liquid_d_b_mix)',\n",
    " 'stellarartwars_-_Love_Liberation_(inc_stems)',\n",
    " 'copperhead_-_Need_You_Baby',\n",
    " 'stellarartwars_-_Breakdown_Boy_(SAW_mix)',\n",
    " 'Javolenus_-_You_Don_t_Get_In_Touch_Anymore',\n",
    " 'stellarartwars_-_black_swan_(10_out_of_10_mix)_stems',\n",
    " 'mindmapthat_-_Not_So_Happy_Holidays',\n",
    " 'stellarartwars_-_Square_Bidness_(SAW_Rapperboy_Mix)_stems',\n",
    " 'VJ_Memes_-_What_Child_is_This_(With_Admiral_Bob)',\n",
    " 'stellarartwars_-_Amy_Winehouse_Blues_(stems)',\n",
    " 'stellarartwars_-_A_Forest_(Crimson_Lizard_Mix)_stems',\n",
    " 'VonKorf_-_Marktversagen',\n",
    " 'stellarartwars_-_To_Be_Sensitive_(inc_stems)',\n",
    " 'stellarartwars_-_Emma_(Barnstormer_Mix)_inc_stems',\n",
    " 'geertveneklaas_-_Blue_Boy',\n",
    " 'stellarartwars_-_Perfectly_4_U_(rough_stems)',\n",
    " 'stellarartwars_-_Elements_(_stems)',\n",
    " 'Kamihamiha_-_A_Spatial_Voyage_From_A_To_B_(Stems)',\n",
    " 'doxent_-_Alice_In_the_City',\n",
    " 'stellarartwars_-_Finally_Found_(Dense_Robin_Mix)',\n",
    " 'stellarartwars_-_I_Will_Follow_(Rachel_s_Revenge_Mix)_inc_stems',\n",
    " 'stellarartwars_-_On_A_Silent_Night',\n",
    " 'casimps1_-_Twinkle_Twinkle_Little_Star',\n",
    " 'casimps1_-_Could_Be',\n",
    " 'Mr_Yesterday_-_King_Richard_s_Blues_(harp_added)',\n",
    " 'Per_-_Orange_(Room_29_MMXIII)',\n",
    " 'casimps1_-_Itsy_Bitsy_Spider',\n",
    " 'stellarartwars_-_Pheromones_(slightly_retro_happy_mix)_stems',\n",
    " 'stellarartwars_-_Lucky_Boy_(Rampton_Hill_Mix)_inc_stems',\n",
    " 'unreal_dm_-_Jerusalem',\n",
    " 'stellarartwars_-_Dollar_(Nice_Spicy_Mix)_stems',\n",
    " 'Nikmusik_-_Little_White_Lies',\n",
    " 'stellarartwars_-_Bird_(_stems)']"
   ]
  },
  {
   "cell_type": "code",
   "execution_count": 2,
   "metadata": {
    "ExecuteTime": {
     "end_time": "2018-06-22T06:19:26.956800Z",
     "start_time": "2018-06-22T05:46:22.359120Z"
    },
    "collapsed": true
   },
   "outputs": [],
   "source": [
    "cnt=0\n",
    "for i in ldir:\n",
    "    if os.path.isdir('ccmixter_corpus/'+i):\n",
    "        for j in ['mix.wav','source-01.wav','source-02.wav']:\n",
    "            name='ccmixter_corpus/'+i+'/'+j\n",
    "            audio0, samplerate = sf.read(name, dtype='float32')\n",
    "            audio0=librosa.resample(audio0.T, samplerate, sample_rate)\n",
    "            audio0 = librosa.to_mono(audio0)\n",
    "            if not os.path.exists('./ccmixter2/x/'):os.makedirs('./ccmixter2/x/')\n",
    "            if not os.path.exists('./ccmixter2/y/'):os.makedirs('./ccmixter2/y/')\n",
    "            if not os.path.exists('./ccmixter2/z/'):os.makedirs('./ccmixter2/z/')\n",
    "            if(j == 'mix.wav'):\n",
    "                sf.write('./ccmixter2/x/'+str(cnt)+'.wav', audio0, sample_rate)\n",
    "            elif(j == 'source-01.wav'):\n",
    "                sf.write('./ccmixter2/y/'+str(cnt)+'.wav', audio0, sample_rate)\n",
    "            elif(j == 'source-02.wav'):\n",
    "                sf.write('./ccmixter2/z/'+str(cnt)+'.wav', audio0, sample_rate)\n",
    "            else:print('wa')\n",
    "        cnt+=1"
   ]
  },
  {
   "cell_type": "code",
   "execution_count": 2,
   "metadata": {
    "ExecuteTime": {
     "end_time": "2018-06-26T14:59:38.064284Z",
     "start_time": "2018-06-26T14:58:12.102924Z"
    },
    "scrolled": false
   },
   "outputs": [],
   "source": [
    "for i in range(50):\n",
    "    name0='ccmixter2/x/'+str(i)+'.wav'\n",
    "    audio0, samplerate = sf.read(name0, dtype='float32')\n",
    "    audio0=librosa.resample(audio0.T, samplerate, sample_rate)\n",
    "    audio0 = librosa.stft(audio0, 1024, 256, 1024)\n",
    "    \n",
    "    name1='ccmixter2/y/'+str(i)+'.wav'\n",
    "    audio1, samplerate = sf.read(name1, dtype='float32')\n",
    "    audio1=librosa.resample(audio1.T, samplerate, sample_rate)\n",
    "    audio1 = librosa.stft(audio1, 1024, 256, 1024)\n",
    "    \n",
    "    name2='ccmixter2/z/'+str(i)+'.wav'\n",
    "    audio2, samplerate = sf.read(name2, dtype='float32')\n",
    "    audio2=librosa.resample(audio2.T, samplerate, sample_rate)\n",
    "    audio2 = librosa.stft(audio2, 1024, 256, 1024)\n",
    "    \n",
    "    \n",
    "    \n",
    "    \n",
    "    if not os.path.exists('./ccmixter4/'):os.makedirs('./ccmixter4/')\n",
    "    h5f = h5py.File('ccmixter4/'+str(i)+'.h5', 'w')\n",
    "    h5f.create_dataset('x', data=audio0)\n",
    "    h5f.create_dataset('y', data=audio1)\n",
    "    h5f.create_dataset('z', data=audio2)\n",
    "    h5f.close()"
   ]
  },
  {
   "cell_type": "code",
   "execution_count": 4,
   "metadata": {
    "ExecuteTime": {
     "end_time": "2018-06-22T13:02:38.642043Z",
     "start_time": "2018-06-22T13:02:38.608949Z"
    },
    "collapsed": true
   },
   "outputs": [],
   "source": [
    "#h5f = h5py.File('ccmixter3/0.h5', 'r')\n",
    "#x, y,z = h5f['x'][:], h5f['y'][:], h5f['z'][:]\n"
   ]
  },
  {
   "cell_type": "code",
   "execution_count": 5,
   "metadata": {
    "ExecuteTime": {
     "end_time": "2018-06-22T13:02:55.752405Z",
     "start_time": "2018-06-22T13:02:55.726463Z"
    },
    "collapsed": true
   },
   "outputs": [],
   "source": [
    "#d=x-(y+z)"
   ]
  },
  {
   "cell_type": "code",
   "execution_count": 11,
   "metadata": {
    "ExecuteTime": {
     "end_time": "2018-06-22T13:03:47.602825Z",
     "start_time": "2018-06-22T13:03:47.587115Z"
    }
   },
   "outputs": [
    {
     "data": {
      "text/plain": [
       "1574"
      ]
     },
     "execution_count": 11,
     "metadata": {},
     "output_type": "execute_result"
    }
   ],
   "source": [
    "#np.sum(d>0.0001)"
   ]
  }
 ],
 "metadata": {
  "kernelspec": {
   "display_name": "Python 3",
   "language": "python",
   "name": "python3"
  },
  "language_info": {
   "codemirror_mode": {
    "name": "ipython",
    "version": 3
   },
   "file_extension": ".py",
   "mimetype": "text/x-python",
   "name": "python",
   "nbconvert_exporter": "python",
   "pygments_lexer": "ipython3",
   "version": "3.6.3"
  }
 },
 "nbformat": 4,
 "nbformat_minor": 2
}
