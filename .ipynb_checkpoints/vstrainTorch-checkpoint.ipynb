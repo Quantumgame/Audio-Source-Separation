{
 "cells": [
  {
   "cell_type": "code",
   "execution_count": 1,
   "metadata": {
    "ExecuteTime": {
     "end_time": "2018-06-10T13:24:21.983600Z",
     "start_time": "2018-06-10T13:24:20.845032Z"
    },
    "collapsed": true
   },
   "outputs": [],
   "source": [
    "from __future__ import print_function\n",
    "import argparse\n",
    "import torch\n",
    "import torch.nn as nn\n",
    "import torch.nn.functional as F\n",
    "import torch.optim as optim\n",
    "from torchvision import datasets, transforms\n",
    "import numpy as np\n",
    "import torch.utils.data as utils\n",
    "import librosa\n",
    "import soundfile as sf\n",
    "import time\n",
    "import os"
   ]
  },
  {
   "cell_type": "code",
   "execution_count": 2,
   "metadata": {
    "ExecuteTime": {
     "end_time": "2018-06-10T13:24:22.005286Z",
     "start_time": "2018-06-10T13:24:21.986287Z"
    }
   },
   "outputs": [
    {
     "data": {
      "text/plain": [
       "511"
      ]
     },
     "execution_count": 2,
     "metadata": {},
     "output_type": "execute_result"
    }
   ],
   "source": [
    "sampleSize=50000\n",
    "sample_rate=16000\n",
    "quantization_channels=256\n",
    "#dilations=[2**i for i in range(8)]*20\n",
    "#\"residualDim=32\n",
    "dilations=[2**i for i in range(9)]*1\n",
    "residualDim=32\n",
    "skipDim=512\n",
    "filterSize=3\n",
    "pad = np.sum(dilations)\n",
    "shapeoftest=190500\n",
    "lossrecord=[]\n",
    "pad"
   ]
  },
  {
   "cell_type": "code",
   "execution_count": 3,
   "metadata": {
    "ExecuteTime": {
     "end_time": "2018-06-10T13:24:22.009543Z",
     "start_time": "2018-06-10T13:24:22.007113Z"
    },
    "collapsed": true
   },
   "outputs": [],
   "source": [
    "#os.environ[\"CUDA_DEVICE_ORDER\"] = \"PCI_BUS_ID\"\n",
    "#os.environ[\"CUDA_VISIBLE_DEVICES\"] = \"1\""
   ]
  },
  {
   "cell_type": "code",
   "execution_count": 4,
   "metadata": {
    "ExecuteTime": {
     "end_time": "2018-06-10T13:24:22.830005Z",
     "start_time": "2018-06-10T13:24:22.011170Z"
    },
    "collapsed": true
   },
   "outputs": [],
   "source": [
    "use_cuda = torch.cuda.is_available()\n",
    "torch.manual_seed(1)\n",
    "device = torch.device(\"cuda\" if use_cuda else \"cpu\")\n",
    "#device = 'cpu'\n",
    "torch.set_default_tensor_type('torch.cuda.FloatTensor')\n",
    "kwargs = {'num_workers': 1, 'pin_memory': True} if use_cuda else {}"
   ]
  },
  {
   "cell_type": "code",
   "execution_count": 5,
   "metadata": {
    "ExecuteTime": {
     "end_time": "2018-06-10T13:24:22.852555Z",
     "start_time": "2018-06-10T13:24:22.831979Z"
    },
    "collapsed": true
   },
   "outputs": [],
   "source": [
    "def mu_law_encode(audio, quantization_channels=quantization_channels,forX=False):\n",
    "    '''Quantizes waveform amplitudes.'''\n",
    "    mu = (quantization_channels - 1)*1.0\n",
    "    # Perform mu-law companding transformation (ITU-T, 1988).\n",
    "    # Minimum operation is here to deal with rare large amplitudes caused\n",
    "    # by resampling.\n",
    "    safe_audio_abs = np.minimum(np.abs(audio), 1.0)\n",
    "    magnitude = np.log1p(mu * safe_audio_abs) / np.log1p(mu)\n",
    "    signal = np.sign(audio) * magnitude\n",
    "    # Quantize signal to the specified number of levels.\n",
    "    if(forX):return signal\n",
    "    return ((signal + 1) / 2 * mu + 0.5).astype(int)\n",
    "def mu_law_decode(output, quantization_channels=quantization_channels):\n",
    "    '''Recovers waveform from quantized values.'''\n",
    "    mu = quantization_channels - 1\n",
    "    # Map values back to [-1, 1].\n",
    "    signal = 2 * ((output*1.0) / mu) - 1\n",
    "    # Perform inverse of mu-law transformation.\n",
    "    magnitude = (1 / mu) * ((1 + mu)**np.abs(signal) - 1)\n",
    "    return np.sign(signal) * magnitude"
   ]
  },
  {
   "cell_type": "code",
   "execution_count": 6,
   "metadata": {
    "ExecuteTime": {
     "end_time": "2018-06-10T13:24:40.319809Z",
     "start_time": "2018-06-10T13:24:22.854243Z"
    },
    "collapsed": true
   },
   "outputs": [],
   "source": [
    "def readAudio(name):\n",
    "    audio0, samplerate = sf.read(name, dtype='float32')\n",
    "    return librosa.resample(audio0.T, samplerate, sample_rate).reshape(-1)\n",
    "p=['./vsCorpus/origin_mix.wav','./vsCorpus/origin_vocal.wav',\n",
    "   './vsCorpus/origin_mix.wav','./vsCorpus/origin_vocal.wav','./vsCorpus/pred_mix.wav']\n",
    "xtrain,ytrain,xval,yval,xtest=readAudio(p[0]),readAudio(p[1]),readAudio(p[2]),readAudio(p[3]),readAudio(p[4])\n",
    "assert((xtrain==xval).all())\n",
    "assert((ytrain==yval).all())\n",
    "assert((xtrain != ytrain).any())"
   ]
  },
  {
   "cell_type": "code",
   "execution_count": 7,
   "metadata": {
    "ExecuteTime": {
     "end_time": "2018-06-10T13:24:40.702317Z",
     "start_time": "2018-06-10T13:24:40.322376Z"
    },
    "collapsed": true
   },
   "outputs": [],
   "source": [
    "ytrain,yval=mu_law_encode(ytrain),mu_law_encode(yval)\n",
    "xtrain,xval,xtest=mu_law_encode(xtrain,forX=True),mu_law_encode(xval,forX=True),mu_law_encode(xtest,forX=True)"
   ]
  },
  {
   "cell_type": "code",
   "execution_count": 8,
   "metadata": {
    "ExecuteTime": {
     "end_time": "2018-06-10T13:24:40.707489Z",
     "start_time": "2018-06-10T13:24:40.704064Z"
    }
   },
   "outputs": [
    {
     "data": {
      "text/plain": [
       "'xmean,xstd = xtrain.mean(),xtrain.std()\\nxtrain=(xtrain-xmean)/xstd\\nxval=(xval-xmean)/xstd\\nxtest=(xtest-xmean)/xstd'"
      ]
     },
     "execution_count": 8,
     "metadata": {},
     "output_type": "execute_result"
    }
   ],
   "source": [
    "'''xmean,xstd = xtrain.mean(),xtrain.std()\n",
    "xtrain=(xtrain-xmean)/xstd\n",
    "xval=(xval-xmean)/xstd\n",
    "xtest=(xtest-xmean)/xstd'''"
   ]
  },
  {
   "cell_type": "code",
   "execution_count": 9,
   "metadata": {
    "ExecuteTime": {
     "end_time": "2018-06-10T13:24:40.922037Z",
     "start_time": "2018-06-10T13:24:40.708897Z"
    },
    "collapsed": true
   },
   "outputs": [],
   "source": [
    "#xtrain,ytrain=xtrain[:xtest.shape[0]],ytrain[:xtest.shape[0]]\n",
    "#xval,yval=xval[:xtest.shape[0]],yval[:xtest.shape[0]]\n",
    "xtrain=np.pad(xtrain, (pad, pad), 'constant')\n",
    "xval=np.pad(xval, (pad, pad), 'constant')\n",
    "xtest=np.pad(xtest, (pad, pad), 'constant')\n",
    "yval=np.pad(yval, (pad, pad), 'constant')\n",
    "ytrain=np.pad(ytrain, (pad, pad), 'constant')"
   ]
  },
  {
   "cell_type": "code",
   "execution_count": 10,
   "metadata": {
    "ExecuteTime": {
     "end_time": "2018-06-10T13:24:40.927764Z",
     "start_time": "2018-06-10T13:24:40.923925Z"
    },
    "collapsed": true
   },
   "outputs": [],
   "source": [
    "#xtrain,ytrain,xval,yval=xtrain[:-sampleSize],ytrain[:-sampleSize],xval[-sampleSize:],yval[-sampleSize:]\n",
    "#xtrain,ytrain,xval,yval=xtrain[:-sampleSize],ytrain[:-sampleSize],xval[:sampleSize],yval[:sampleSize]\n",
    "xtrain,xval,xtest=xtrain.reshape(1,1,-1),xval.reshape(1,1,-1),xtest.reshape(1,1,-1)\n",
    "ytrain,yval=ytrain.reshape(1,-1),yval.reshape(1,-1)"
   ]
  },
  {
   "cell_type": "code",
   "execution_count": 11,
   "metadata": {
    "ExecuteTime": {
     "end_time": "2018-06-10T13:24:40.933811Z",
     "start_time": "2018-06-10T13:24:40.929370Z"
    },
    "collapsed": true
   },
   "outputs": [],
   "source": [
    "xtrain,ytrain,xval,yval,xtest = torch.from_numpy(xtrain).type(torch.float32),\\\n",
    "                                torch.from_numpy(ytrain).type(torch.LongTensor),\\\n",
    "                                torch.from_numpy(xval).type(torch.float32),\\\n",
    "                                torch.from_numpy(yval).type(torch.LongTensor),\\\n",
    "                                torch.from_numpy(xtest).type(torch.float32)"
   ]
  },
  {
   "cell_type": "code",
   "execution_count": 12,
   "metadata": {
    "ExecuteTime": {
     "end_time": "2018-06-10T13:24:45.169311Z",
     "start_time": "2018-06-10T13:24:40.935393Z"
    },
    "collapsed": true
   },
   "outputs": [],
   "source": [
    "class Net(nn.Module):\n",
    "    def __init__(self):\n",
    "        super(Net, self).__init__()\n",
    "        sd,qd,rd = skipDim,quantization_channels,residualDim\n",
    "        self.causal = nn.Conv1d(in_channels=1,out_channels=rd,kernel_size=3,padding=1)\n",
    "        self.tanhconvs = nn.ModuleList()\n",
    "        self.sigmoidconvs = nn.ModuleList()\n",
    "        self.skipconvs = nn.ModuleList()\n",
    "        self.denseconvs = nn.ModuleList()\n",
    "        for i, d in enumerate(dilations):\n",
    "            self.tanhconvs.append(nn.Conv1d(in_channels=rd,out_channels=rd,kernel_size=3,padding=0,dilation=d))\n",
    "            self.sigmoidconvs.append(nn.Conv1d(in_channels=rd,out_channels=rd,kernel_size=3,padding=0,dilation=d))\n",
    "            self.skipconvs.append(nn.Conv1d(in_channels=rd,out_channels=sd,kernel_size=1))\n",
    "            self.denseconvs.append(nn.Conv1d(in_channels=rd,out_channels=rd,kernel_size=1))\n",
    "        self.post1 = nn.Conv1d(in_channels=sd,out_channels=sd,kernel_size=1)\n",
    "        self.post2 = nn.Conv1d(in_channels=sd,out_channels=qd,kernel_size=1)\n",
    "        self.tanh,self.sigmoid = nn.Tanh(),nn.Sigmoid()\n",
    "\n",
    "    def forward(self, x):\n",
    "        finallen = x.shape[-1]-2*pad\n",
    "        x = self.causal(x)\n",
    "        #print('x.shape',x.shape)\n",
    "        for i, dilation in enumerate(dilations):\n",
    "            xinput = x.clone()[:,:,dilation:-dilation]\n",
    "            x1 = self.tanh(self.tanhconvs[i](x))\n",
    "            #print('tanh.shape',x1.shape)\n",
    "            x2 = self.sigmoid(self.sigmoidconvs[i](x))\n",
    "            #print('sigmoid.shape',x2.shape)\n",
    "            x = x1*x2\n",
    "            #print('multi',x3.shape)\n",
    "            cutlen = (x.shape[-1] - finallen)//2\n",
    "            if(i == 0):skip_connections= (self.skipconvs[i](x)).narrow(2,int(cutlen),int(finallen))\n",
    "            else :skip_connections += (self.skipconvs[i](x)).narrow(2,int(cutlen),int(finallen))\n",
    "            #cur =self.layer['skip'+str(i)](x3)\n",
    "            x = self.denseconvs[i](x)\n",
    "            #print('dense.shape',x.shape)\n",
    "            x += xinput\n",
    "        x = self.post2(F.relu(self.post1(F.relu(skip_connections))))\n",
    "        return x\n",
    "\n",
    "model = Net()#.cuda()\n",
    "criterion = nn.CrossEntropyLoss()#.cuda()\n",
    "#optimizer = optim.SGD(model.parameters(), lr=args.lr, momentum=args.momentum)\n",
    "optimizer = optim.Adam(model.parameters(),weight_decay=1e-5)"
   ]
  },
  {
   "cell_type": "code",
   "execution_count": null,
   "metadata": {
    "ExecuteTime": {
     "start_time": "2018-06-10T13:24:20.825Z"
    },
    "scrolled": true
   },
   "outputs": [],
   "source": [
    "def val():\n",
    "    model.eval()\n",
    "    startval_time = time.time()\n",
    "    with torch.no_grad():\n",
    "        idx = np.arange(pad,xtrain.shape[-1]-pad-sampleSize,1000)\n",
    "        np.random.shuffle(idx)\n",
    "        data = xtrain[:,:,idx[0]-pad:pad+idx[0]+sampleSize].to(device)\n",
    "        target = ytrain[:,idx[0]:idx[0]+sampleSize].to(device)\n",
    "        output = model(data)\n",
    "        pred = output.max(1, keepdim=True)[1]\n",
    "        correct = pred.eq(target.view_as(pred)).sum().item() / pred.shape[-1]\n",
    "        val_loss = criterion(output, target).item()\n",
    "    print(correct,'accurate')\n",
    "    print('\\nval set:loss{:.4f}:, ({:.3f} sec/step)\\n'.format(val_loss,time.time()-startval_time))\n",
    "\n",
    "def test():\n",
    "    model.eval()\n",
    "    startval_time = time.time()\n",
    "    with torch.no_grad():\n",
    "        listofpred = []\n",
    "        for ind in range(pad, xtest.shape[-1] - pad, sampleSize):\n",
    "            output = model(xtest[:, :, ind - pad:ind + sampleSize + pad].to(device))\n",
    "            pred = output.max(1, keepdim=True)[1].cpu().numpy().reshape(-1)\n",
    "            listofpred.append(pred)\n",
    "        ans = mu_law_decode(np.concatenate(listofpred))\n",
    "        sf.write('./vsCorpus/resultxte.wav', ans, sample_rate)\n",
    "\n",
    "        listofpred=[]\n",
    "        for ind in range(pad,xtrain.shape[-1]-pad,sampleSize):\n",
    "            output = model(xtrain[:, :, ind-pad:ind+sampleSize+pad].to(device))\n",
    "            pred = output.max(1, keepdim=True)[1].cpu().numpy().reshape(-1)\n",
    "            listofpred.append(pred)\n",
    "        ans = mu_law_decode(np.concatenate(listofpred))\n",
    "        sf.write('./vsCorpus/resultxtr.wav', ans, sample_rate)\n",
    "        print('stored done\\n')\n",
    "    \n",
    "def train(epoch):\n",
    "    model.train()\n",
    "    #idx = np.arange(xtrain.shape[-1] - 2 * sampleSize,1000)\n",
    "    #176000\n",
    "    idx = np.arange(pad,xtrain.shape[-1]-pad-sampleSize,16000)\n",
    "    np.random.shuffle(idx)\n",
    "    for i, ind in enumerate(idx):\n",
    "        start_time = time.time()\n",
    "        data, target = xtrain[:,:,ind-pad:ind+sampleSize+pad].to(device), ytrain[:,ind:ind+sampleSize].to(device)\n",
    "        #cur=model.tanhconvs[0].weight.clone()\n",
    "        output = model(data)\n",
    "        loss = criterion(output, target)\n",
    "        lossrecord.append(loss.item())\n",
    "        optimizer.zero_grad()\n",
    "        loss.backward()\n",
    "        optimizer.step()\n",
    "        #assert((model.tanhconvs[0].weight == cur).cpu().numpy().all())\n",
    "        print('Train Epoch: {} [{}/{} ({:.0f}%)] Loss:{:.6f}: , ({:.3f} sec/step)'.format(\n",
    "                epoch, i, len(idx),100. * i / len(idx), loss.item(),time.time() - start_time))\n",
    "        if i % 100 == 0:\n",
    "            with open(\"./lossRecord/newmodellossfile.txt\", \"w\") as f:\n",
    "                for s in lossrecord:\n",
    "                    f.write(str(s) +\"\\n\")\n",
    "            print('write finish')\n",
    "            state={'epoch': epoch + 1,\n",
    "                'state_dict': model.state_dict(),\n",
    "                'optimizer': optimizer.state_dict()}\n",
    "            torch.save(state, 'newModifiedModel')\n",
    "    test()\n",
    "    val()"
   ]
  },
  {
   "cell_type": "code",
   "execution_count": null,
   "metadata": {
    "ExecuteTime": {
     "start_time": "2018-06-10T13:24:20.828Z"
    },
    "scrolled": true
   },
   "outputs": [
    {
     "name": "stdout",
     "output_type": "stream",
     "text": [
      "Train Epoch: 0 [0/233 (0%)] Loss:5.547711: , (0.330 sec/step)\n",
      "write finish\n",
      "Train Epoch: 0 [1/233 (0%)] Loss:5.518329: , (0.325 sec/step)\n",
      "Train Epoch: 0 [2/233 (1%)] Loss:5.517702: , (0.325 sec/step)\n",
      "Train Epoch: 0 [3/233 (1%)] Loss:5.434957: , (0.325 sec/step)\n",
      "Train Epoch: 0 [4/233 (2%)] Loss:5.397210: , (0.324 sec/step)\n",
      "Train Epoch: 0 [5/233 (2%)] Loss:5.461392: , (0.324 sec/step)\n",
      "Train Epoch: 0 [6/233 (3%)] Loss:5.427436: , (0.325 sec/step)\n",
      "Train Epoch: 0 [7/233 (3%)] Loss:5.363163: , (0.324 sec/step)\n",
      "Train Epoch: 0 [8/233 (3%)] Loss:5.352941: , (0.325 sec/step)\n",
      "Train Epoch: 0 [9/233 (4%)] Loss:5.316037: , (0.324 sec/step)\n",
      "Train Epoch: 0 [10/233 (4%)] Loss:5.236292: , (0.324 sec/step)\n",
      "Train Epoch: 0 [11/233 (5%)] Loss:5.298120: , (0.324 sec/step)\n",
      "Train Epoch: 0 [12/233 (5%)] Loss:5.185175: , (0.325 sec/step)\n",
      "Train Epoch: 0 [13/233 (6%)] Loss:5.257634: , (0.324 sec/step)\n",
      "Train Epoch: 0 [14/233 (6%)] Loss:5.360614: , (0.324 sec/step)\n",
      "Train Epoch: 0 [15/233 (6%)] Loss:5.193305: , (0.325 sec/step)\n",
      "Train Epoch: 0 [16/233 (7%)] Loss:5.179626: , (0.325 sec/step)\n",
      "Train Epoch: 0 [17/233 (7%)] Loss:5.240405: , (0.325 sec/step)\n",
      "Train Epoch: 0 [18/233 (8%)] Loss:5.205660: , (0.325 sec/step)\n",
      "Train Epoch: 0 [19/233 (8%)] Loss:5.139099: , (0.325 sec/step)\n",
      "Train Epoch: 0 [20/233 (9%)] Loss:5.116573: , (0.325 sec/step)\n",
      "Train Epoch: 0 [21/233 (9%)] Loss:5.136347: , (0.325 sec/step)\n",
      "Train Epoch: 0 [22/233 (9%)] Loss:5.098755: , (0.325 sec/step)\n",
      "Train Epoch: 0 [23/233 (10%)] Loss:5.120468: , (0.325 sec/step)\n",
      "Train Epoch: 0 [24/233 (10%)] Loss:5.065363: , (0.325 sec/step)\n",
      "Train Epoch: 0 [25/233 (11%)] Loss:5.041279: , (0.325 sec/step)\n",
      "Train Epoch: 0 [26/233 (11%)] Loss:5.236995: , (0.324 sec/step)\n",
      "Train Epoch: 0 [27/233 (12%)] Loss:5.089562: , (0.325 sec/step)\n",
      "Train Epoch: 0 [28/233 (12%)] Loss:5.028492: , (0.325 sec/step)\n",
      "Train Epoch: 0 [29/233 (12%)] Loss:5.037300: , (0.325 sec/step)\n",
      "Train Epoch: 0 [30/233 (13%)] Loss:5.103352: , (0.325 sec/step)\n",
      "Train Epoch: 0 [31/233 (13%)] Loss:5.000164: , (0.325 sec/step)\n",
      "Train Epoch: 0 [32/233 (14%)] Loss:4.926641: , (0.325 sec/step)\n",
      "Train Epoch: 0 [33/233 (14%)] Loss:5.069530: , (0.325 sec/step)\n",
      "Train Epoch: 0 [34/233 (15%)] Loss:4.872425: , (0.325 sec/step)\n",
      "Train Epoch: 0 [35/233 (15%)] Loss:4.887118: , (0.324 sec/step)\n",
      "Train Epoch: 0 [36/233 (15%)] Loss:5.135735: , (0.325 sec/step)\n",
      "Train Epoch: 0 [37/233 (16%)] Loss:5.173559: , (0.324 sec/step)\n",
      "Train Epoch: 0 [38/233 (16%)] Loss:4.952763: , (0.324 sec/step)\n",
      "Train Epoch: 0 [39/233 (17%)] Loss:4.956180: , (0.325 sec/step)\n",
      "Train Epoch: 0 [40/233 (17%)] Loss:4.970685: , (0.325 sec/step)\n",
      "Train Epoch: 0 [41/233 (18%)] Loss:5.064384: , (0.324 sec/step)\n",
      "Train Epoch: 0 [42/233 (18%)] Loss:5.162209: , (0.325 sec/step)\n",
      "Train Epoch: 0 [43/233 (18%)] Loss:4.922536: , (0.325 sec/step)\n",
      "Train Epoch: 0 [44/233 (19%)] Loss:5.018444: , (0.325 sec/step)\n",
      "Train Epoch: 0 [45/233 (19%)] Loss:4.985796: , (0.325 sec/step)\n",
      "Train Epoch: 0 [46/233 (20%)] Loss:5.069874: , (0.324 sec/step)\n",
      "Train Epoch: 0 [47/233 (20%)] Loss:4.888484: , (0.324 sec/step)\n",
      "Train Epoch: 0 [48/233 (21%)] Loss:4.904258: , (0.324 sec/step)\n",
      "Train Epoch: 0 [49/233 (21%)] Loss:4.906543: , (0.325 sec/step)\n",
      "Train Epoch: 0 [50/233 (21%)] Loss:4.927793: , (0.325 sec/step)\n",
      "Train Epoch: 0 [51/233 (22%)] Loss:4.876560: , (0.325 sec/step)\n",
      "Train Epoch: 0 [52/233 (22%)] Loss:4.931508: , (0.326 sec/step)\n",
      "Train Epoch: 0 [53/233 (23%)] Loss:4.847499: , (0.325 sec/step)\n",
      "Train Epoch: 0 [54/233 (23%)] Loss:4.910279: , (0.325 sec/step)\n",
      "Train Epoch: 0 [55/233 (24%)] Loss:4.816045: , (0.325 sec/step)\n",
      "Train Epoch: 0 [56/233 (24%)] Loss:4.970765: , (0.324 sec/step)\n",
      "Train Epoch: 0 [57/233 (24%)] Loss:4.954419: , (0.324 sec/step)\n",
      "Train Epoch: 0 [58/233 (25%)] Loss:4.903168: , (0.325 sec/step)\n",
      "Train Epoch: 0 [59/233 (25%)] Loss:4.954202: , (0.324 sec/step)\n",
      "Train Epoch: 0 [60/233 (26%)] Loss:4.910659: , (0.325 sec/step)\n",
      "Train Epoch: 0 [61/233 (26%)] Loss:4.988694: , (0.325 sec/step)\n",
      "Train Epoch: 0 [62/233 (27%)] Loss:4.816743: , (0.325 sec/step)\n",
      "Train Epoch: 0 [63/233 (27%)] Loss:4.859913: , (0.324 sec/step)\n",
      "Train Epoch: 0 [64/233 (27%)] Loss:4.839323: , (0.325 sec/step)\n",
      "Train Epoch: 0 [65/233 (28%)] Loss:4.845810: , (0.325 sec/step)\n",
      "Train Epoch: 0 [66/233 (28%)] Loss:4.814974: , (0.325 sec/step)\n",
      "Train Epoch: 0 [67/233 (29%)] Loss:5.001509: , (0.325 sec/step)\n",
      "Train Epoch: 0 [68/233 (29%)] Loss:4.964037: , (0.325 sec/step)\n",
      "Train Epoch: 0 [69/233 (30%)] Loss:4.826451: , (0.324 sec/step)\n",
      "Train Epoch: 0 [70/233 (30%)] Loss:4.820250: , (0.325 sec/step)\n",
      "Train Epoch: 0 [71/233 (30%)] Loss:4.782187: , (0.325 sec/step)\n",
      "Train Epoch: 0 [72/233 (31%)] Loss:5.043343: , (0.325 sec/step)\n",
      "Train Epoch: 0 [73/233 (31%)] Loss:5.030199: , (0.325 sec/step)\n",
      "Train Epoch: 0 [74/233 (32%)] Loss:4.680108: , (0.325 sec/step)\n",
      "Train Epoch: 0 [75/233 (32%)] Loss:5.032911: , (0.325 sec/step)\n",
      "Train Epoch: 0 [76/233 (33%)] Loss:4.957378: , (0.324 sec/step)\n",
      "Train Epoch: 0 [77/233 (33%)] Loss:4.942973: , (0.325 sec/step)\n",
      "Train Epoch: 0 [78/233 (33%)] Loss:4.976164: , (0.325 sec/step)\n",
      "Train Epoch: 0 [79/233 (34%)] Loss:4.836601: , (0.325 sec/step)\n",
      "Train Epoch: 0 [80/233 (34%)] Loss:4.773563: , (0.325 sec/step)\n",
      "Train Epoch: 0 [81/233 (35%)] Loss:4.764866: , (0.325 sec/step)\n",
      "Train Epoch: 0 [82/233 (35%)] Loss:4.771513: , (0.324 sec/step)\n",
      "Train Epoch: 0 [83/233 (36%)] Loss:5.627863: , (0.325 sec/step)\n",
      "Train Epoch: 0 [84/233 (36%)] Loss:5.093249: , (0.325 sec/step)\n",
      "Train Epoch: 0 [85/233 (36%)] Loss:4.965940: , (0.325 sec/step)\n",
      "Train Epoch: 0 [86/233 (37%)] Loss:5.031292: , (0.325 sec/step)\n",
      "Train Epoch: 0 [87/233 (37%)] Loss:4.985698: , (0.325 sec/step)\n",
      "Train Epoch: 0 [88/233 (38%)] Loss:4.945847: , (0.324 sec/step)\n",
      "Train Epoch: 0 [89/233 (38%)] Loss:4.969731: , (0.325 sec/step)\n",
      "Train Epoch: 0 [90/233 (39%)] Loss:4.879039: , (0.324 sec/step)\n",
      "Train Epoch: 0 [91/233 (39%)] Loss:4.967100: , (0.325 sec/step)\n",
      "Train Epoch: 0 [92/233 (39%)] Loss:4.980193: , (0.325 sec/step)\n",
      "Train Epoch: 0 [93/233 (40%)] Loss:4.913918: , (0.325 sec/step)\n",
      "Train Epoch: 0 [94/233 (40%)] Loss:4.985043: , (0.325 sec/step)\n",
      "Train Epoch: 0 [95/233 (41%)] Loss:5.088609: , (0.325 sec/step)\n",
      "Train Epoch: 0 [96/233 (41%)] Loss:4.927969: , (0.324 sec/step)\n",
      "Train Epoch: 0 [97/233 (42%)] Loss:4.906991: , (0.325 sec/step)\n",
      "Train Epoch: 0 [98/233 (42%)] Loss:4.746469: , (0.325 sec/step)\n",
      "Train Epoch: 0 [99/233 (42%)] Loss:4.828910: , (0.324 sec/step)\n",
      "Train Epoch: 0 [100/233 (43%)] Loss:4.895455: , (0.325 sec/step)\n",
      "write finish\n",
      "Train Epoch: 0 [101/233 (43%)] Loss:4.772111: , (0.325 sec/step)\n",
      "Train Epoch: 0 [102/233 (44%)] Loss:4.882660: , (0.325 sec/step)\n",
      "Train Epoch: 0 [103/233 (44%)] Loss:5.134776: , (0.324 sec/step)\n",
      "Train Epoch: 0 [104/233 (45%)] Loss:4.840572: , (0.325 sec/step)\n",
      "Train Epoch: 0 [105/233 (45%)] Loss:4.860122: , (0.324 sec/step)\n",
      "Train Epoch: 0 [106/233 (45%)] Loss:4.823811: , (0.325 sec/step)\n",
      "Train Epoch: 0 [107/233 (46%)] Loss:4.959445: , (0.325 sec/step)\n",
      "Train Epoch: 0 [108/233 (46%)] Loss:5.104584: , (0.325 sec/step)\n",
      "Train Epoch: 0 [109/233 (47%)] Loss:4.761597: , (0.325 sec/step)\n",
      "Train Epoch: 0 [110/233 (47%)] Loss:4.769784: , (0.325 sec/step)\n",
      "Train Epoch: 0 [111/233 (48%)] Loss:4.772180: , (0.325 sec/step)\n",
      "Train Epoch: 0 [112/233 (48%)] Loss:4.733257: , (0.324 sec/step)\n",
      "Train Epoch: 0 [113/233 (48%)] Loss:4.908210: , (0.325 sec/step)\n",
      "Train Epoch: 0 [114/233 (49%)] Loss:4.788414: , (0.325 sec/step)\n",
      "Train Epoch: 0 [115/233 (49%)] Loss:4.713222: , (0.325 sec/step)\n",
      "Train Epoch: 0 [116/233 (50%)] Loss:4.899788: , (0.325 sec/step)\n",
      "Train Epoch: 0 [117/233 (50%)] Loss:4.695574: , (0.325 sec/step)\n",
      "Train Epoch: 0 [118/233 (51%)] Loss:4.662285: , (0.324 sec/step)\n",
      "Train Epoch: 0 [119/233 (51%)] Loss:4.779040: , (0.325 sec/step)\n",
      "Train Epoch: 0 [120/233 (52%)] Loss:4.933173: , (0.325 sec/step)\n",
      "Train Epoch: 0 [121/233 (52%)] Loss:4.752559: , (0.325 sec/step)\n",
      "Train Epoch: 0 [122/233 (52%)] Loss:4.594704: , (0.324 sec/step)\n",
      "Train Epoch: 0 [123/233 (53%)] Loss:5.010718: , (0.325 sec/step)\n",
      "Train Epoch: 0 [124/233 (53%)] Loss:4.641149: , (0.324 sec/step)\n",
      "Train Epoch: 0 [125/233 (54%)] Loss:5.132590: , (0.325 sec/step)\n",
      "Train Epoch: 0 [126/233 (54%)] Loss:4.787413: , (0.325 sec/step)\n",
      "Train Epoch: 0 [127/233 (55%)] Loss:4.774510: , (0.324 sec/step)\n"
     ]
    },
    {
     "name": "stdout",
     "output_type": "stream",
     "text": [
      "Train Epoch: 0 [128/233 (55%)] Loss:4.883034: , (0.324 sec/step)\n",
      "Train Epoch: 0 [129/233 (55%)] Loss:4.886081: , (0.324 sec/step)\n",
      "Train Epoch: 0 [130/233 (56%)] Loss:4.852471: , (0.325 sec/step)\n",
      "Train Epoch: 0 [131/233 (56%)] Loss:4.886049: , (0.325 sec/step)\n",
      "Train Epoch: 0 [132/233 (57%)] Loss:4.866462: , (0.325 sec/step)\n",
      "Train Epoch: 0 [133/233 (57%)] Loss:4.899857: , (0.325 sec/step)\n",
      "Train Epoch: 0 [134/233 (58%)] Loss:4.915417: , (0.324 sec/step)\n",
      "Train Epoch: 0 [135/233 (58%)] Loss:4.871673: , (0.324 sec/step)\n",
      "Train Epoch: 0 [136/233 (58%)] Loss:4.790936: , (0.325 sec/step)\n",
      "Train Epoch: 0 [137/233 (59%)] Loss:4.653912: , (0.324 sec/step)\n",
      "Train Epoch: 0 [138/233 (59%)] Loss:4.719573: , (0.325 sec/step)\n",
      "Train Epoch: 0 [139/233 (60%)] Loss:4.595449: , (0.325 sec/step)\n",
      "Train Epoch: 0 [140/233 (60%)] Loss:4.783037: , (0.324 sec/step)\n",
      "Train Epoch: 0 [141/233 (61%)] Loss:4.864080: , (0.325 sec/step)\n",
      "Train Epoch: 0 [142/233 (61%)] Loss:4.842492: , (0.324 sec/step)\n",
      "Train Epoch: 0 [143/233 (61%)] Loss:5.062816: , (0.325 sec/step)\n",
      "Train Epoch: 0 [144/233 (62%)] Loss:4.963858: , (0.325 sec/step)\n",
      "Train Epoch: 0 [145/233 (62%)] Loss:4.685703: , (0.324 sec/step)\n",
      "Train Epoch: 0 [146/233 (63%)] Loss:4.639571: , (0.325 sec/step)\n",
      "Train Epoch: 0 [147/233 (63%)] Loss:4.879535: , (0.324 sec/step)\n",
      "Train Epoch: 0 [148/233 (64%)] Loss:4.800912: , (0.324 sec/step)\n",
      "Train Epoch: 0 [149/233 (64%)] Loss:4.633102: , (0.324 sec/step)\n",
      "Train Epoch: 0 [150/233 (64%)] Loss:5.079395: , (0.325 sec/step)\n",
      "Train Epoch: 0 [151/233 (65%)] Loss:4.710639: , (0.325 sec/step)\n",
      "Train Epoch: 0 [152/233 (65%)] Loss:4.768728: , (0.325 sec/step)\n",
      "Train Epoch: 0 [153/233 (66%)] Loss:4.903570: , (0.324 sec/step)\n",
      "Train Epoch: 0 [154/233 (66%)] Loss:4.660541: , (0.324 sec/step)\n",
      "Train Epoch: 0 [155/233 (67%)] Loss:4.475658: , (0.325 sec/step)\n",
      "Train Epoch: 0 [156/233 (67%)] Loss:4.918275: , (0.324 sec/step)\n",
      "Train Epoch: 0 [157/233 (67%)] Loss:4.733999: , (0.325 sec/step)\n",
      "Train Epoch: 0 [158/233 (68%)] Loss:4.532229: , (0.325 sec/step)\n",
      "Train Epoch: 0 [159/233 (68%)] Loss:4.696839: , (0.324 sec/step)\n",
      "Train Epoch: 0 [160/233 (69%)] Loss:4.908441: , (0.325 sec/step)\n",
      "Train Epoch: 0 [161/233 (69%)] Loss:4.737625: , (0.325 sec/step)\n",
      "Train Epoch: 0 [162/233 (70%)] Loss:4.703324: , (0.324 sec/step)\n",
      "Train Epoch: 0 [163/233 (70%)] Loss:4.707657: , (0.324 sec/step)\n",
      "Train Epoch: 0 [164/233 (70%)] Loss:4.677179: , (0.324 sec/step)\n",
      "Train Epoch: 0 [165/233 (71%)] Loss:4.797929: , (0.324 sec/step)\n",
      "Train Epoch: 0 [166/233 (71%)] Loss:4.865229: , (0.325 sec/step)\n",
      "Train Epoch: 0 [167/233 (72%)] Loss:4.828722: , (0.324 sec/step)\n",
      "Train Epoch: 0 [168/233 (72%)] Loss:4.681954: , (0.325 sec/step)\n",
      "Train Epoch: 0 [169/233 (73%)] Loss:4.552301: , (0.324 sec/step)\n",
      "Train Epoch: 0 [170/233 (73%)] Loss:4.695340: , (0.325 sec/step)\n",
      "Train Epoch: 0 [171/233 (73%)] Loss:4.839358: , (0.324 sec/step)\n",
      "Train Epoch: 0 [172/233 (74%)] Loss:4.713312: , (0.324 sec/step)\n",
      "Train Epoch: 0 [173/233 (74%)] Loss:4.738323: , (0.325 sec/step)\n",
      "Train Epoch: 0 [174/233 (75%)] Loss:4.518142: , (0.325 sec/step)\n",
      "Train Epoch: 0 [175/233 (75%)] Loss:4.809686: , (0.324 sec/step)\n",
      "Train Epoch: 0 [176/233 (76%)] Loss:4.562787: , (0.325 sec/step)\n",
      "Train Epoch: 0 [177/233 (76%)] Loss:4.534996: , (0.325 sec/step)\n",
      "Train Epoch: 0 [178/233 (76%)] Loss:4.709491: , (0.324 sec/step)\n",
      "Train Epoch: 0 [179/233 (77%)] Loss:4.620331: , (0.325 sec/step)\n",
      "Train Epoch: 0 [180/233 (77%)] Loss:4.980884: , (0.324 sec/step)\n",
      "Train Epoch: 0 [181/233 (78%)] Loss:5.044260: , (0.324 sec/step)\n",
      "Train Epoch: 0 [182/233 (78%)] Loss:4.701391: , (0.324 sec/step)\n",
      "Train Epoch: 0 [183/233 (79%)] Loss:4.934701: , (0.324 sec/step)\n"
     ]
    }
   ],
   "source": [
    "for epoch in range(100000):\n",
    "    train(epoch)\n",
    "    test()"
   ]
  },
  {
   "cell_type": "code",
   "execution_count": null,
   "metadata": {
    "ExecuteTime": {
     "start_time": "2018-06-10T13:24:20.828Z"
    }
   },
   "outputs": [],
   "source": [
    "#torch.save(model, 'loss2.5~3.5step10h_repeat5*2**9resu32sample50000')"
   ]
  }
 ],
 "metadata": {
  "gist": {
   "data": {
    "description": "MLalgorithm/mnistPyTorch.ipynb",
    "public": false
   },
   "id": ""
  },
  "kernelspec": {
   "display_name": "Python 3",
   "language": "python",
   "name": "python3"
  },
  "language_info": {
   "codemirror_mode": {
    "name": "ipython",
    "version": 3
   },
   "file_extension": ".py",
   "mimetype": "text/x-python",
   "name": "python",
   "nbconvert_exporter": "python",
   "pygments_lexer": "ipython3",
   "version": "3.6.3"
  }
 },
 "nbformat": 4,
 "nbformat_minor": 2
}
