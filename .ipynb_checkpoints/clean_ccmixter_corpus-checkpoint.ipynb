{
 "cells": [
  {
   "cell_type": "code",
   "execution_count": 1,
   "metadata": {
    "ExecuteTime": {
     "end_time": "2018-06-14T05:24:01.837143Z",
     "start_time": "2018-06-14T05:24:00.234859Z"
    },
    "collapsed": true
   },
   "outputs": [],
   "source": [
    "from __future__ import print_function\n",
    "import argparse\n",
    "import torch\n",
    "import torch.nn as nn\n",
    "import torch.nn.functional as F\n",
    "import torch.optim as optim\n",
    "from torchvision import datasets, transforms\n",
    "import numpy as np\n",
    "import torch.utils.data as utils\n",
    "import librosa\n",
    "import soundfile as sf\n",
    "import time\n",
    "import os"
   ]
  },
  {
   "cell_type": "code",
   "execution_count": 2,
   "metadata": {
    "ExecuteTime": {
     "end_time": "2018-06-14T05:24:02.122444Z",
     "start_time": "2018-06-14T05:24:02.117509Z"
    },
    "collapsed": true
   },
   "outputs": [],
   "source": [
    "sample_rate=16000"
   ]
  },
  {
   "cell_type": "code",
   "execution_count": 3,
   "metadata": {
    "ExecuteTime": {
     "end_time": "2018-06-14T05:24:02.845187Z",
     "start_time": "2018-06-14T05:24:02.839082Z"
    },
    "collapsed": true
   },
   "outputs": [],
   "source": [
    "from os import listdir\n",
    "from os.path import isfile, join"
   ]
  },
  {
   "cell_type": "code",
   "execution_count": 4,
   "metadata": {
    "ExecuteTime": {
     "end_time": "2018-06-14T05:24:03.676832Z",
     "start_time": "2018-06-14T05:24:03.669969Z"
    },
    "collapsed": true
   },
   "outputs": [],
   "source": [
    "xmean,xstd=0,0"
   ]
  },
  {
   "cell_type": "code",
   "execution_count": null,
   "metadata": {
    "collapsed": true
   },
   "outputs": [],
   "source": [
    "mx,my,mz=[],[],[]\n",
    "for i in range(50):\n",
    "    h5f = h5py.File('ccmixter3/' + str(i) + '.h5', 'r')\n",
    "    x, y = h5f['x'][:], h5f['y'][:]#, h5f['z'][:]\n",
    "    x = x_mu_law_encode(x)\n",
    "    y = y_mu_law_encode(y)\n",
    "    #z = y_mu_law_encode(z)\n",
    "    #xmean = x.mean()\n",
    "    #xstd = x.std()\n",
    "    #x = (x - xmean) / xstd\n",
    "    x = np.pad(x, (pad, pad), 'constant')\n",
    "    y = np.pad(y, (pad, pad), 'constant')\n",
    "    #z = np.pad(z, (pad, pad), 'constant')\n",
    "    x = torch.from_numpy(x.reshape(1,1,-1)).type(torch.float32)\n",
    "    y = torch.from_numpy(y.reshape(1,-1)).type(torch.LongTensor)\n",
    "    #z = torch.from_numpy(z.reshape(1,-1)).type(torch.LongTensor)\n",
    "    #assert((x.shape[-1]==y.shape[-1]) & (x.shape[-1]==z.shape[-1]))\n",
    "    mx.append(x)\n",
    "    my.append(y)\n",
    "    #mz.append(z)\n",
    "    h5f.close()"
   ]
  },
  {
   "cell_type": "code",
   "execution_count": 6,
   "metadata": {
    "ExecuteTime": {
     "end_time": "2018-06-14T05:39:38.091053Z",
     "start_time": "2018-06-14T05:39:38.079338Z"
    }
   },
   "outputs": [
    {
     "data": {
      "text/plain": [
       "-9.435599870357691e-05"
      ]
     },
     "execution_count": 6,
     "metadata": {},
     "output_type": "execute_result"
    }
   ],
   "source": [
    "xmean / 50"
   ]
  },
  {
   "cell_type": "code",
   "execution_count": 7,
   "metadata": {
    "ExecuteTime": {
     "end_time": "2018-06-14T05:39:38.095822Z",
     "start_time": "2018-06-14T05:39:38.092533Z"
    }
   },
   "outputs": [
    {
     "data": {
      "text/plain": [
       "0.067247535176575182"
      ]
     },
     "execution_count": 7,
     "metadata": {},
     "output_type": "execute_result"
    }
   ],
   "source": [
    "xstd /50"
   ]
  },
  {
   "cell_type": "code",
   "execution_count": null,
   "metadata": {
    "collapsed": true
   },
   "outputs": [],
   "source": []
  }
 ],
 "metadata": {
  "kernelspec": {
   "display_name": "Python 3",
   "language": "python",
   "name": "python3"
  },
  "language_info": {
   "codemirror_mode": {
    "name": "ipython",
    "version": 3
   },
   "file_extension": ".py",
   "mimetype": "text/x-python",
   "name": "python",
   "nbconvert_exporter": "python",
   "pygments_lexer": "ipython3",
   "version": "3.6.3"
  }
 },
 "nbformat": 4,
 "nbformat_minor": 2
}
