{
 "cells": [
  {
   "cell_type": "code",
   "execution_count": 1,
   "metadata": {
    "ExecuteTime": {
     "end_time": "2018-06-14T05:24:01.837143Z",
     "start_time": "2018-06-14T05:24:00.234859Z"
    },
    "collapsed": true
   },
   "outputs": [],
   "source": [
    "from __future__ import print_function\n",
    "import argparse\n",
    "import torch\n",
    "import torch.nn as nn\n",
    "import torch.nn.functional as F\n",
    "import torch.optim as optim\n",
    "from torchvision import datasets, transforms\n",
    "import numpy as np\n",
    "import torch.utils.data as utils\n",
    "import librosa\n",
    "import soundfile as sf\n",
    "import time\n",
    "import os"
   ]
  },
  {
   "cell_type": "code",
   "execution_count": 2,
   "metadata": {
    "ExecuteTime": {
     "end_time": "2018-06-14T05:24:02.122444Z",
     "start_time": "2018-06-14T05:24:02.117509Z"
    },
    "collapsed": true
   },
   "outputs": [],
   "source": [
    "sample_rate=16000"
   ]
  },
  {
   "cell_type": "code",
   "execution_count": 3,
   "metadata": {
    "ExecuteTime": {
     "end_time": "2018-06-14T05:24:02.845187Z",
     "start_time": "2018-06-14T05:24:02.839082Z"
    },
    "collapsed": true
   },
   "outputs": [],
   "source": [
    "from os import listdir\n",
    "from os.path import isfile, join"
   ]
  },
  {
   "cell_type": "code",
   "execution_count": 4,
   "metadata": {
    "ExecuteTime": {
     "end_time": "2018-06-14T05:24:03.676832Z",
     "start_time": "2018-06-14T05:24:03.669969Z"
    },
    "collapsed": true
   },
   "outputs": [],
   "source": [
    "xmean,xstd=0,0"
   ]
  },
  {
   "cell_type": "code",
   "execution_count": 5,
   "metadata": {
    "ExecuteTime": {
     "end_time": "2018-06-14T05:39:38.076496Z",
     "start_time": "2018-06-14T05:24:04.231812Z"
    },
    "collapsed": true
   },
   "outputs": [],
   "source": [
    "for i in listdir('ccmixter_corpus/'):\n",
    "    if os.path.isdir('ccmixter_corpus/'+i):\n",
    "        for j in ['source-02.wav']:#,:['mix.wav']\n",
    "            name='ccmixter_corpus/'+i+'/'+j\n",
    "            audio0, samplerate = sf.read(name, dtype='float32')\n",
    "            audio0=librosa.resample(audio0.T, samplerate, sample_rate)\n",
    "            audio0 = librosa.to_mono(audio0)\n",
    "            xstd+=audio0.std()\n",
    "            xmean+=audio0.mean()\n",
    "            #if not os.path.exists('./ccmix/'+i+'/'):\n",
    "            #    os.makedirs('./ccmix/'+i+'/')\n",
    "            #sf.write('./ccmix/'+i+'/'+j, audio0, sample_rate)"
   ]
  },
  {
   "cell_type": "code",
   "execution_count": 6,
   "metadata": {
    "ExecuteTime": {
     "end_time": "2018-06-14T05:39:38.091053Z",
     "start_time": "2018-06-14T05:39:38.079338Z"
    }
   },
   "outputs": [
    {
     "data": {
      "text/plain": [
       "-9.435599870357691e-05"
      ]
     },
     "execution_count": 6,
     "metadata": {},
     "output_type": "execute_result"
    }
   ],
   "source": [
    "xmean / 50"
   ]
  },
  {
   "cell_type": "code",
   "execution_count": 7,
   "metadata": {
    "ExecuteTime": {
     "end_time": "2018-06-14T05:39:38.095822Z",
     "start_time": "2018-06-14T05:39:38.092533Z"
    }
   },
   "outputs": [
    {
     "data": {
      "text/plain": [
       "0.067247535176575182"
      ]
     },
     "execution_count": 7,
     "metadata": {},
     "output_type": "execute_result"
    }
   ],
   "source": [
    "xstd /50"
   ]
  },
  {
   "cell_type": "code",
   "execution_count": 8,
   "metadata": {
    "ExecuteTime": {
     "end_time": "2018-06-14T07:08:59.278935Z",
     "start_time": "2018-06-14T07:08:53.590359Z"
    },
    "collapsed": true
   },
   "outputs": [],
   "source": [
    "name='vsCorpus/origin_mix.wav'\n",
    "audio0, samplerate = sf.read(name, dtype='float32')\n",
    "audio0=librosa.resample(audio0.T, samplerate, sample_rate)\n",
    "audio0 = librosa.to_mono(audio0)"
   ]
  },
  {
   "cell_type": "code",
   "execution_count": 10,
   "metadata": {
    "ExecuteTime": {
     "end_time": "2018-06-14T07:09:11.755238Z",
     "start_time": "2018-06-14T07:09:11.721528Z"
    }
   },
   "outputs": [
    {
     "data": {
      "text/plain": [
       "(-0.00037753972, 0.12841852)"
      ]
     },
     "execution_count": 10,
     "metadata": {},
     "output_type": "execute_result"
    }
   ],
   "source": [
    "audio0.mean(),audio0.std()"
   ]
  }
 ],
 "metadata": {
  "kernelspec": {
   "display_name": "Python 3",
   "language": "python",
   "name": "python3"
  },
  "language_info": {
   "codemirror_mode": {
    "name": "ipython",
    "version": 3
   },
   "file_extension": ".py",
   "mimetype": "text/x-python",
   "name": "python",
   "nbconvert_exporter": "python",
   "pygments_lexer": "ipython3",
   "version": "3.6.3"
  }
 },
 "nbformat": 4,
 "nbformat_minor": 2
}
