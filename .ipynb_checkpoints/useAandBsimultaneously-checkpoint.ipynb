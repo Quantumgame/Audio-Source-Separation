{
 "cells": [
  {
   "cell_type": "code",
   "execution_count": null,
   "metadata": {
    "ExecuteTime": {
     "end_time": "2018-06-12T12:36:27.020348Z",
     "start_time": "2018-06-12T12:36:25.518415Z"
    },
    "collapsed": true
   },
   "outputs": [],
   "source": [
    "from __future__ import print_function\n",
    "import argparse\n",
    "import torch\n",
    "import torch.nn as nn\n",
    "import torch.nn.functional as F\n",
    "import torch.optim as optim\n",
    "from torchvision import datasets, transforms\n",
    "import numpy as np\n",
    "import torch.utils.data as utils\n",
    "import librosa\n",
    "import soundfile as sf\n",
    "import time\n",
    "import os\n",
    "from torch.optim.lr_scheduler import StepLR,MultiStepLR"
   ]
  },
  {
   "cell_type": "code",
   "execution_count": null,
   "metadata": {
    "ExecuteTime": {
     "end_time": "2018-06-12T12:36:27.039408Z",
     "start_time": "2018-06-12T12:36:27.022682Z"
    },
    "collapsed": true
   },
   "outputs": [],
   "source": [
    "sampleSize=16000#the length of the sample size\n",
    "sample_rate=16000#the length of audio for one second\n",
    "quantization_channels=256 #discretize the value to 256 numbers\n",
    "dilations=[2**i for i in range(9)]*1  #idea from wavenet, have more receptive field\n",
    "residualDim=128 #\n",
    "skipDim=512\n",
    "shapeoftest = 190500\n",
    "filterSize=3\n",
    "resumefile='array2model' # name of checkpoint\n",
    "lossname='array2loss.txt' # name of loss file\n",
    "continueTrain=False # whether use checkpoint\n",
    "pad = np.sum(dilations) # padding for dilate convolutional layers\n",
    "lossrecord=[]  #list for record loss\n",
    "receptive_field=np.sum(dilations)+1\n",
    "#pad=0"
   ]
  },
  {
   "cell_type": "code",
   "execution_count": null,
   "metadata": {
    "ExecuteTime": {
     "end_time": "2018-06-12T12:36:27.046719Z",
     "start_time": "2018-06-12T12:36:27.041730Z"
    },
    "collapsed": true
   },
   "outputs": [],
   "source": [
    "#os.environ[\"CUDA_DEVICE_ORDER\"] = \"PCI_BUS_ID\"\n",
    "#os.environ[\"CUDA_VISIBLE_DEVICES\"] = \"1\""
   ]
  },
  {
   "cell_type": "code",
   "execution_count": null,
   "metadata": {
    "ExecuteTime": {
     "end_time": "2018-06-12T12:36:27.069351Z",
     "start_time": "2018-06-12T12:36:27.049029Z"
    },
    "collapsed": true
   },
   "outputs": [],
   "source": [
    "use_cuda = torch.cuda.is_available()\n",
    "torch.manual_seed(1)\n",
    "device = torch.device(\"cuda\" if use_cuda else \"cpu\")\n",
    "#device = 'cpu'\n",
    "torch.set_default_tensor_type('torch.cuda.FloatTensor')\n",
    "kwargs = {'num_workers': 1, 'pin_memory': True} if use_cuda else {}"
   ]
  },
  {
   "cell_type": "code",
   "execution_count": null,
   "metadata": {
    "ExecuteTime": {
     "end_time": "2018-06-12T12:36:27.125541Z",
     "start_time": "2018-06-12T12:36:27.071828Z"
    },
    "collapsed": true
   },
   "outputs": [],
   "source": [
    "def mu_law_encode(audio, quantization_channels=quantization_channels,forX=False):\n",
    "    '''Quantizes waveform amplitudes.'''\n",
    "    mu = (quantization_channels - 1)*1.0\n",
    "    # Perform mu-law companding transformation (ITU-T, 1988).\n",
    "    # Minimum operation is here to deal with rare large amplitudes caused\n",
    "    # by resampling.\n",
    "    safe_audio_abs = np.minimum(np.abs(audio), 1.0)\n",
    "    magnitude = np.log1p(mu * safe_audio_abs) / np.log1p(mu)\n",
    "    signal = np.sign(audio) * magnitude\n",
    "    # Quantize signal to the specified number of levels.\n",
    "    if(forX):return signal\n",
    "    return ((signal + 1) / 2 * mu + 0.5).astype(int)\n",
    "def mu_law_decode(output, quantization_channels=quantization_channels):\n",
    "    '''Recovers waveform from quantized values.'''\n",
    "    mu = quantization_channels - 1\n",
    "    # Map values back to [-1, 1].\n",
    "    signal = 2 * ((output*1.0) / mu) - 1\n",
    "    # Perform inverse of mu-law transformation.\n",
    "    magnitude = (1 / mu) * ((1 + mu)**np.abs(signal) - 1)\n",
    "    return np.sign(signal) * magnitude\n",
    "def cateToSignal(output, quantization_channels=quantization_channels,stage=0):\n",
    "    mu = quantization_channels - 1\n",
    "    if stage == 0:\n",
    "        # Map values back to [-1, 1].\n",
    "        signal = 2 * ((output*1.0) / mu) - 1\n",
    "        return signal\n",
    "    else:\n",
    "        magnitude = (1 / mu) * ((1 + mu)**np.abs(output) - 1)\n",
    "        return np.sign(output) * magnitude"
   ]
  },
  {
   "cell_type": "code",
   "execution_count": null,
   "metadata": {
    "ExecuteTime": {
     "end_time": "2018-06-12T12:36:51.082611Z",
     "start_time": "2018-06-12T12:36:27.127114Z"
    },
    "collapsed": true
   },
   "outputs": [],
   "source": [
    "def readAudio(name):\n",
    "    audio0, samplerate = sf.read(name, dtype='float32')\n",
    "    return librosa.resample(audio0.T, samplerate, sample_rate).reshape(-1)\n",
    "p=['./vsCorpus/origin_mix.wav','./vsCorpus/origin_vocal.wav',\n",
    "   './vsCorpus/origin_mix.wav','./vsCorpus/origin_vocal.wav','./vsCorpus/pred_mix.wav']\n",
    "xtrain,ytrain,xval,yval,xtest=readAudio(p[0]),readAudio(p[1]),readAudio(p[2]),readAudio(p[3]),readAudio(p[4])\n",
    "assert((xtrain==xval).all())\n",
    "assert((ytrain==yval).all())\n",
    "assert((xtrain != ytrain).any())"
   ]
  },
  {
   "cell_type": "code",
   "execution_count": null,
   "metadata": {
    "ExecuteTime": {
     "end_time": "2018-06-12T12:36:51.839171Z",
     "start_time": "2018-06-12T12:36:51.087541Z"
    },
    "collapsed": true
   },
   "outputs": [],
   "source": [
    "ytrain,yval=mu_law_encode(ytrain),mu_law_encode(yval)\n",
    "xytrain,xyval=mu_law_encode(ytrain,forX=True),mu_law_encode(yval,forX=True)\n",
    "xtrain,xval,xtest=mu_law_encode(xtrain,forX=True),mu_law_encode(xval,forX=True),mu_law_encode(xtest,forX=True)"
   ]
  },
  {
   "cell_type": "code",
   "execution_count": null,
   "metadata": {
    "ExecuteTime": {
     "end_time": "2018-06-12T12:36:51.845394Z",
     "start_time": "2018-06-12T12:36:51.841923Z"
    },
    "collapsed": true
   },
   "outputs": [],
   "source": [
    "#xmean,xstd = xtrain.mean(),xtrain.std()\n",
    "#xtrain=(xtrain-xmean)/xstd\n",
    "#xval=(xval-xmean)/xstd\n",
    "#xtest=(xtest-xmean)/xstd"
   ]
  },
  {
   "cell_type": "code",
   "execution_count": null,
   "metadata": {
    "ExecuteTime": {
     "end_time": "2018-06-12T12:36:52.149730Z",
     "start_time": "2018-06-12T12:36:51.848122Z"
    },
    "collapsed": true
   },
   "outputs": [],
   "source": [
    "xtrain=np.pad(xtrain, (receptive_field, receptive_field), 'constant')\n",
    "xval=np.pad(xval, (receptive_field, receptive_field), 'constant')\n",
    "xtest=np.pad(xtest, (receptive_field, receptive_field), 'constant')\n",
    "yval=np.pad(yval, (receptive_field, receptive_field), 'constant')\n",
    "ytrain=np.pad(ytrain, (receptive_field, receptive_field), 'constant')\n",
    "xyval=np.pad(xyval, (receptive_field, receptive_field), 'constant')\n",
    "xytrain=np.pad(xytrain, (receptive_field, receptive_field), 'constant')"
   ]
  },
  {
   "cell_type": "code",
   "execution_count": null,
   "metadata": {
    "ExecuteTime": {
     "end_time": "2018-06-12T12:36:52.161941Z",
     "start_time": "2018-06-12T12:36:52.152468Z"
    },
    "collapsed": true
   },
   "outputs": [],
   "source": [
    "xtrain,xval,xtest=xtrain.reshape(1,1,-1),xval.reshape(1,1,-1),xtest.reshape(1,1,-1)\n",
    "ytrain,yval=ytrain.reshape(1,-1),yval.reshape(1,-1)\n",
    "xytrain,xyval=ytrain.reshape(1,1,-1),yval.reshape(1,1,-1)"
   ]
  },
  {
   "cell_type": "code",
   "execution_count": null,
   "metadata": {
    "ExecuteTime": {
     "end_time": "2018-06-12T12:36:52.167983Z",
     "start_time": "2018-06-12T12:36:52.164735Z"
    },
    "collapsed": true
   },
   "outputs": [],
   "source": [
    "#xtrain = np.concatenate((xtrain,xytrain.reshape(xtrain.shape)),axis=1)\n",
    "#xval = np.concatenate((xval,xyval.reshape(xval.shape)),axis=1)\n",
    "#xtest = np.concatenate((xtest,np.zeros_like(xtest)),axis=1)"
   ]
  },
  {
   "cell_type": "code",
   "execution_count": null,
   "metadata": {
    "ExecuteTime": {
     "end_time": "2018-06-12T12:36:52.188923Z",
     "start_time": "2018-06-12T12:36:52.169923Z"
    },
    "collapsed": true
   },
   "outputs": [],
   "source": [
    "xtrain,ytrain,xval,yval,xtest = torch.from_numpy(xtrain).type(torch.float32),\\\n",
    "                                torch.from_numpy(ytrain).type(torch.LongTensor),\\\n",
    "                                torch.from_numpy(xval).type(torch.float32),\\\n",
    "                                torch.from_numpy(yval).type(torch.LongTensor),\\\n",
    "                                torch.from_numpy(xtest).type(torch.float32)\n",
    "xytrain,xyval=torch.from_numpy(xytrain).type(torch.float32),torch.from_numpy(xyval).type(torch.float32),"
   ]
  },
  {
   "cell_type": "code",
   "execution_count": null,
   "metadata": {
    "ExecuteTime": {
     "end_time": "2018-06-12T12:36:57.353963Z",
     "start_time": "2018-06-12T12:36:52.192549Z"
    },
    "collapsed": true
   },
   "outputs": [],
   "source": [
    "class Net(nn.Module):\n",
    "    def __init__(self):\n",
    "        super(Net, self).__init__()\n",
    "        sd,qd,rd = skipDim,quantization_channels,residualDim\n",
    "        self.xcausal = nn.Conv1d(in_channels=1,out_channels=rd,kernel_size=1,padding=0)\n",
    "        self.ycausal = nn.Conv1d(in_channels=1,out_channels=rd,kernel_size=1,padding=0)\n",
    "        self.xtanh = nn.ModuleList()\n",
    "        self.xsig = nn.ModuleList()\n",
    "        self.xskip = nn.ModuleList()\n",
    "        self.xdense = nn.ModuleList()\n",
    "        self.ytanh = nn.ModuleList()\n",
    "        self.ysig = nn.ModuleList()\n",
    "        self.yskip = nn.ModuleList()\n",
    "        self.ydense = nn.ModuleList()\n",
    "        for i, d in enumerate(dilations):\n",
    "            self.xtanh.append(nn.Conv1d(in_channels=rd,out_channels=rd,kernel_size=3,dilation=d))\n",
    "            self.xsig.append(nn.Conv1d(in_channels=rd,out_channels=rd,kernel_size=3,dilation=d))\n",
    "            self.xskip.append(nn.Conv1d(in_channels=rd,out_channels=sd,kernel_size=1))\n",
    "            self.xdense.append(nn.Conv1d(in_channels=rd,out_channels=rd,kernel_size=1))\n",
    "            \n",
    "            self.ytanh.append(nn.Conv1d(in_channels=rd,out_channels=rd,kernel_size=2,dilation=d))\n",
    "            self.ysig.append(nn.Conv1d(in_channels=rd,out_channels=rd,kernel_size=2,dilation=d))\n",
    "            self.yskip.append(nn.Conv1d(in_channels=rd,out_channels=sd,kernel_size=1))\n",
    "            self.ydense.append(nn.Conv1d(in_channels=rd,out_channels=rd,kernel_size=1))  \n",
    "        self.post1 = nn.Conv1d(in_channels=sd*2,out_channels=sd*2,kernel_size=1,padding=0)\n",
    "        self.post2 = nn.Conv1d(in_channels=sd*2,out_channels=qd,kernel_size=1,padding=0)\n",
    "        self.tanh,self.sigmoid = nn.Tanh(),nn.Sigmoid()\n",
    "\n",
    "    def forward(self, x, y):\n",
    "        finallen = x.shape[-1]-2*receptive_field\n",
    "        x = self.xcausal(x)\n",
    "        y = self.ycausal(y)\n",
    "        skipx = torch.zeros([1,skipDim,finallen],dtype=torch.float32,device=device)\n",
    "        skipy = torch.zeros([1,skipDim,finallen],dtype=torch.float32,device=device)\n",
    "        accumulate=1\n",
    "        for i, dilation in enumerate(dilations):\n",
    "            accumulate+=dilation\n",
    "            yinput = y.clone()[:,:,:-dilation]\n",
    "            y1 = self.tanh(self.ytanh[i](y))\n",
    "            y2 = self.sigmoid(self.ysig[i](y))\n",
    "            y=y1*y2\n",
    "            skipy += (self.yskip[i](y)).\\\n",
    "                narrow(2,int(receptive_field-accumulate),int(finallen))\n",
    "            \n",
    "            xinput = x.clone()[:,:,dilation:-dilation]\n",
    "            x1 = self.tanh(self.xtanh[i](x))\n",
    "            x2 = self.sigmoid(self.xsig[i](x))\n",
    "            x = x1*x2\n",
    "            cutlen = (x.shape[-1] - finallen)//2\n",
    "            skipx += (self.xskip[i](x)).narrow(2,int(cutlen),int(finallen))\n",
    "            x = self.xdense[i](x)\n",
    "            x += xinput\n",
    "        x = self.post2(F.relu(self.post1(F.relu(torch.cat((skipx,skipy), dim=1)))))\n",
    "        return x\n",
    "\n",
    "model = Net()\n",
    "criterion = nn.CrossEntropyLoss()\n",
    "#optimizer = optim.SGD(model.parameters(), lr=args.lr, momentum=args.momentum)\n",
    "optimizer = optim.Adam(model.parameters(), lr=1e-3, weight_decay=1e-5)\n",
    "#optimizer = optim.SGD(model.parameters(), lr = 0.1, momentum=0.9, weight_decay=1e-4)\n",
    "#scheduler = StepLR(optimizer, step_size=30, gamma=0.1)\n",
    "#scheduler = MultiStepLR(optimizer, milestones=[30,80], gamma=0.1)"
   ]
  },
  {
   "cell_type": "code",
   "execution_count": null,
   "metadata": {
    "ExecuteTime": {
     "end_time": "2018-06-12T12:36:57.365746Z",
     "start_time": "2018-06-12T12:36:57.356138Z"
    },
    "collapsed": true
   },
   "outputs": [],
   "source": [
    "if continueTrain:\n",
    "    if os.path.isfile(resumefile):\n",
    "        print(\"=> loading checkpoint '{}'\".format(resumefile))\n",
    "        checkpoint = torch.load(resumefile)\n",
    "        start_epoch = checkpoint['epoch']\n",
    "        #best_prec1 = checkpoint['best_prec1']\n",
    "        model.load_state_dict(checkpoint['state_dict'])\n",
    "        #optimizer.load_state_dict(checkpoint['optimizer'])\n",
    "        print(\"=> loaded checkpoint '{}' (epoch {})\"\n",
    "              .format(resumefile, checkpoint['epoch']))\n",
    "    else:\n",
    "        print(\"=> no checkpoint found at '{}'\".format(resumefile))"
   ]
  },
  {
   "cell_type": "code",
   "execution_count": null,
   "metadata": {
    "ExecuteTime": {
     "end_time": "2018-06-12T12:36:57.684030Z",
     "start_time": "2018-06-12T12:36:57.368465Z"
    },
    "collapsed": true,
    "scrolled": true
   },
   "outputs": [],
   "source": [
    "def val():\n",
    "    model.eval()\n",
    "    startval_time = time.time()\n",
    "    with torch.no_grad():\n",
    "        # data, target = xval.to(device), yval.to(device)\n",
    "        data, target = xtrain[:, :, 0:2 * receptive_field + shapeoftest].to(device),\\\n",
    "            ytrain[:, receptive_field:shapeoftest + receptive_field].to(device)\n",
    "        output = model(data)\n",
    "        # print(output.shape)\n",
    "        # print(output[:,:,:10])\n",
    "        pred = output.max(1, keepdim=True)[1]\n",
    "        correct = pred.eq(target.view_as(pred)).sum().item() / pred.shape[-1]\n",
    "        val_loss = criterion(output, target).item()\n",
    "    print(correct, 'accurate')\n",
    "    print('\\nval set:loss{:.4f}:, ({:.3f} sec/step)\\n'.format(val_loss, time.time() - startval_time))\n",
    "\n",
    "\n",
    "def test():\n",
    "    model.eval()\n",
    "    startval_time = time.time()\n",
    "    with torch.no_grad():\n",
    "        xytest=torch.zeros_like(xtest)\n",
    "        for ind in range(receptive_field,xtest.shape[-1] - receptive_field - 1):\n",
    "            datax = xtrain[:,:,ind - receptive_field:ind + 1 + receptive_field].to(device)\n",
    "            datay = xytest[:,:,ind - receptive_field:ind + 1 + receptive_field].to(device)\n",
    "            output = model(datax,datay)\n",
    "            pred = output.max(1, keepdim=True)[1].cpu().numpy().reshape(-1)\n",
    "            xytest[:,:,ind]=cateToSignal(pred.item(),stage=0)\n",
    "        ans = cateToSignal(xytest.reshape(-1)[receptive_field+1:-receptive_field],stage=1)\n",
    "        sf.write('./vsCorpus/2arrayxtr.wav', ans, sample_rate)\n",
    "        print('stored xtr done\\n')\n",
    "        \n",
    "        xytest=torch.zeros_like(xtest)\n",
    "        for ind in range(receptive_field,xtest.shape[-1] - receptive_field - 1):\n",
    "            datax = xtest[:,:,ind - receptive_field:ind + 1 + receptive_field].to(device)\n",
    "            datay = xytest[:,:,ind - receptive_field:ind + 1 + receptive_field].to(device)\n",
    "            output = model(datax,datay)\n",
    "            pred = output.max(1, keepdim=True)[1].cpu().numpy().reshape(-1)\n",
    "            xytest[:,:,ind]=cateToSignal(pred.item(),stage=0)\n",
    "        ans = cateToSignal(xytest.reshape(-1)[receptive_field+1:-receptive_field],stage=1)\n",
    "        sf.write('./vsCorpus/2arrayxte.wav', ans, sample_rate)\n",
    "        print('stored xte done\\n')\n",
    "\n",
    "\n",
    "def train(epoch):\n",
    "    model.train()\n",
    "    # idx = np.arange(xtrain.shape[-1] - 2 * sampleSize,1000)\n",
    "    # 176000\n",
    "    idx = np.arange(receptive_field, xtrain.shape[-1] - receptive_field - sampleSize - 1, 16000)\n",
    "    np.random.shuffle(idx)\n",
    "    for i, ind in enumerate(idx):\n",
    "        start_time = time.time()\n",
    "        datax = xtrain[:,:,ind - receptive_field:ind + sampleSize + receptive_field].to(device)\n",
    "        datay = xytrain[:,:,ind - receptive_field:ind + sampleSize + receptive_field].to(device)\n",
    "        target = ytrain[:,ind:ind + sampleSize].to(device)\n",
    "            \n",
    "        output = model(datax,datay)\n",
    "        # print(output.shape)\n",
    "        loss = criterion(output, target)\n",
    "        lossrecord.append(loss.item())\n",
    "        optimizer.zero_grad()\n",
    "        loss.backward()\n",
    "        optimizer.step()\n",
    "        print('Train Epoch: {} [{}/{} ({:.0f}%)] Loss:{:.6f}: , ({:.3f} sec/step)'.format(\n",
    "            epoch, i, len(idx), 100. * i / len(idx), loss.item(), time.time() - start_time))\n",
    "        if i % 100 == 0:\n",
    "            with open(\"./lossRecord/\"+lossname, \"w\") as f:\n",
    "                for s in lossrecord:\n",
    "                    f.write(str(s) +\"\\n\")\n",
    "            print('write finish')\n",
    "            state={'epoch': epoch + 1,\n",
    "                'state_dict': model.state_dict(),\n",
    "                'optimizer': optimizer.state_dict()}\n",
    "            torch.save(state, './model/'+resumefile)\n",
    "\n"
   ]
  },
  {
   "cell_type": "code",
   "execution_count": null,
   "metadata": {
    "ExecuteTime": {
     "end_time": "2018-06-13T08:56:25.459250Z",
     "start_time": "2018-06-13T07:49:36.310467Z"
    },
    "collapsed": true
   },
   "outputs": [],
   "source": [
    "test()"
   ]
  },
  {
   "cell_type": "code",
   "execution_count": null,
   "metadata": {
    "collapsed": true
   },
   "outputs": [],
   "source": [
    "'''Train Epoch: 335 [207/235 (88%)] Loss:2.003607: , (0.430 sec/step)\n",
    "Train Epoch: 335 [208/235 (89%)] Loss:1.883396: , (0.430 sec/step)\n",
    "Train Epoch: 335 [209/235 (89%)] Loss:1.929835: , (0.430 sec/step)\n",
    "Train Epoch: 335 [210/235 (89%)] Loss:1.877405: , (0.430 sec/step)\n",
    "Train Epoch: 335 [211/235 (90%)] Loss:2.432457: , (0.430 sec/step)\n",
    "Train Epoch: 335 [212/235 (90%)] Loss:1.965565: , (0.430 sec/step)\n",
    "Train Epoch: 335 [213/235 (91%)] Loss:2.112944: , (0.430 sec/step)\n",
    "Train Epoch: 335 [214/235 (91%)] Loss:2.015351: , (0.430 sec/step)\n",
    "Train Epoch: 335 [215/235 (91%)] Loss:2.040849: , (0.430 sec/step)\n",
    "Train Epoch: 335 [216/235 (92%)] Loss:1.861006: , (0.430 sec/step)\n",
    "Train Epoch: 335 [217/235 (92%)] Loss:2.068533: , (0.431 sec/step)\n",
    "Train Epoch: 335 [218/235 (93%)] Loss:2.016664: , (0.430 sec/step)\n",
    "Train Epoch: 335 [219/235 (93%)] Loss:1.942126: , (0.430 sec/step)\n",
    "Train Epoch: 335 [220/235 (94%)] Loss:2.165619: , (0.429 sec/step)\n",
    "Train Epoch: 335 [221/235 (94%)] Loss:1.912416: , (0.430 sec/step)\n",
    "Train Epoch: 335 [222/235 (94%)] Loss:1.897818: , (0.429 sec/step)\n",
    "Train Epoch: 335 [223/235 (95%)] Loss:2.100859: , (0.430 sec/step)\n",
    "Train Epoch: 335 [224/235 (95%)] Loss:2.141154: , (0.429 sec/step)\n",
    "Train Epoch: 335 [225/235 (96%)] Loss:1.984180: , (0.430 sec/step)\n",
    "Train Epoch: 335 [226/235 (96%)] Loss:2.040324: , (0.429 sec/step)\n",
    "Train Epoch: 335 [227/235 (97%)] Loss:1.824804: , (0.430 sec/step)\n",
    "Train Epoch: 335 [228/235 (97%)] Loss:2.198944: , (0.430 sec/step)\n",
    "Train Epoch: 335 [229/235 (97%)] Loss:1.941066: , (0.429 sec/step)\n",
    "Train Epoch: 335 [230/235 (98%)] Loss:2.017070: , (0.429 sec/step)\n",
    "Train Epoch: 335 [231/235 (98%)] Loss:2.079705: , (0.430 sec/step)\n",
    "Train Epoch: 335 [232/235 (99%)] Loss:1.867700: , (0.430 sec/step)\n",
    "Train Epoch: 335 [233/235 (99%)] Loss:1.923172: , (0.430 sec/step)\n",
    "Train Epoch: 335 [234/235 (100%)] Loss:1.887689: , (0.429 sec/step)\n",
    "Train Epoch: 336 [0/235 (0%)] Loss:2.155779: , (0.429 sec/step)'''"
   ]
  },
  {
   "cell_type": "code",
   "execution_count": null,
   "metadata": {
    "ExecuteTime": {
     "end_time": "2018-06-13T07:48:58.773080Z",
     "start_time": "2018-06-12T12:36:57.686382Z"
    },
    "collapsed": true,
    "scrolled": true
   },
   "outputs": [],
   "source": [
    "for epoch in range(100000):\n",
    "    train(epoch)\n",
    "    #test()"
   ]
  }
 ],
 "metadata": {
  "gist": {
   "data": {
    "description": "MLalgorithm/mnistPyTorch.ipynb",
    "public": false
   },
   "id": ""
  },
  "kernelspec": {
   "display_name": "Python 3",
   "language": "python",
   "name": "python3"
  },
  "language_info": {
   "codemirror_mode": {
    "name": "ipython",
    "version": 3
   },
   "file_extension": ".py",
   "mimetype": "text/x-python",
   "name": "python",
   "nbconvert_exporter": "python",
   "pygments_lexer": "ipython3",
   "version": "3.6.3"
  }
 },
 "nbformat": 4,
 "nbformat_minor": 2
}
